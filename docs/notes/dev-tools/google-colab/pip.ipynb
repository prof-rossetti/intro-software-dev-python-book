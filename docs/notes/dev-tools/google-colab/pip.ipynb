{
  "cells": [
    {
      "cell_type": "markdown",
      "metadata": {
        "id": "4HrdczX535YR"
      },
      "source": [
        "# Package Management with Pip\n",
        "\n",
        "As mentioned, Python has a rich ecosystem of third-party open source libraries called **packages**, that can provide us with super-charged capabilities to make our lives easier.\n",
        "\n",
        "If we want to use one of these packages, we must first install it. After installation, we can import its functionality and use it in our program.\n",
        "\n",
        "In Google Colab, many of the most popular Python packages come pre-installed, so there is no need to install them again.\n",
        "\n",
        "But it is very common to want to use other packages in the Python ecosystem as well, including any packages we might find shared on [GitHub](https://github.com/), or hosted more officially on the Python Package Index ([PyPI](https://pypi.org/)), which is a centralized repository for all official Python packages.\n",
        "\n",
        "![Python Package Index (PyPI) Logo.](../../../images/pypi-logo.png){height=250}\n",
        "\n",
        "To manage the Python package installation process, we use Python's sidekick, a command-line tool called [Pip](https://packaging.python.org/en/latest/tutorials/installing-packages/#use-pip-for-installing).\n"
      ]
    },
    {
      "cell_type": "code",
      "execution_count": 1,
      "metadata": {
        "colab": {
          "base_uri": "https://localhost:8080/"
        },
        "id": "cvTclgbripz2",
        "outputId": "f82e571d-9051-4ea3-d5be-ee683bea8ae7"
      },
      "outputs": [
        {
          "name": "stdout",
          "output_type": "stream",
          "text": [
            "pip 24.1.2 from /usr/local/lib/python3.11/dist-packages/pip (python 3.11)\n"
          ]
        }
      ],
      "source": [
        "!pip --version"
      ]
    },
    {
      "cell_type": "markdown",
      "metadata": {
        "id": "-B9XPI9qB5kO"
      },
      "source": [
        "\n",
        ":::{.callout-note}\n",
        "In Google Colab, when we use terminal commands (such as `pip` commands), we prefix them with an exclamation point (!), to differentiate them from Python code.\n",
        ":::"
      ]
    },
    {
      "cell_type": "markdown",
      "metadata": {
        "id": "E-22L_vn38NL"
      },
      "source": [
        "## Listing Installed Packages\n"
      ]
    },
    {
      "cell_type": "markdown",
      "metadata": {
        "id": "8RSTJhSX38tb"
      },
      "source": [
        "We use a `pip list` command to list all packages installed in the current environment (which in this case is the Google Colab environment).\n",
        "\n",
        "\n",
        "\n"
      ]
    },
    {
      "cell_type": "code",
      "execution_count": null,
      "metadata": {
        "id": "zJkRuJ35GSa0"
      },
      "outputs": [],
      "source": [
        "!pip list"
      ]
    },
    {
      "cell_type": "markdown",
      "metadata": {
        "id": "y8J22_wrB5kQ"
      },
      "source": [
        "\n",
        "::: {.content-visible when-format=\"html\"}\n",
        "![List of packages pre-installed in Google Colab](../../../images/pip-list.gif)\n",
        ":::\n",
        "\n",
        "::: {.content-visible when-format=\"pdf\"}\n",
        "![List of packages pre-installed in Google Colab](../../../images/pip-list.png)\n",
        ":::"
      ]
    },
    {
      "cell_type": "markdown",
      "metadata": {
        "id": "R0lxu5aG3__3"
      },
      "source": [
        "\n",
        "Wow, we see there are dozens of packages already installed.\n",
        "\n",
        "If you are looking for a specific package, you can search for it within the displayed output by piping a `grep` command to search for the package you want (e.g. `pandas`):\n"
      ]
    },
    {
      "cell_type": "code",
      "execution_count": 4,
      "metadata": {
        "colab": {
          "base_uri": "https://localhost:8080/"
        },
        "id": "HiAz2eiX4Fms",
        "outputId": "eb637714-73ec-4bf2-bf59-0e774958298a"
      },
      "outputs": [
        {
          "name": "stdout",
          "output_type": "stream",
          "text": [
            "geopandas                             1.0.1\n",
            "pandas                                2.2.2\n",
            "pandas-datareader                     0.10.0\n",
            "pandas-gbq                            0.29.0\n",
            "pandas-stubs                          2.2.2.240909\n",
            "sklearn-pandas                        2.2.0\n"
          ]
        }
      ],
      "source": [
        "!pip list | grep pandas"
      ]
    },
    {
      "cell_type": "markdown",
      "metadata": {
        "id": "exW-1XEpB5kR"
      },
      "source": [
        "Alternatively, you can use a `pip show` command to provide more information about a given installed package:"
      ]
    },
    {
      "cell_type": "code",
      "execution_count": 5,
      "metadata": {
        "colab": {
          "base_uri": "https://localhost:8080/"
        },
        "id": "Zqdd_i81B5kR",
        "outputId": "f1fba398-c2b2-4dd7-90e2-5ed8088f6bfb"
      },
      "outputs": [
        {
          "name": "stdout",
          "output_type": "stream",
          "text": [
            "Name: pandas\n",
            "Version: 2.2.2\n",
            "Summary: Powerful data structures for data analysis, time series, and statistics\n",
            "Home-page: https://pandas.pydata.org\n",
            "Author: \n",
            "Author-email: The Pandas Development Team <pandas-dev@python.org>\n",
            "License: BSD 3-Clause License\n",
            "...\n",
            "Location: /usr/local/lib/python3.11/dist-packages\n",
            "Requires: numpy, python-dateutil, pytz, tzdata\n",
            "Required-by: arviz, bigframes, bigquery-magics, bokeh, bqplot, cmdstanpy, cudf-cu12, cufflinks, dask-cuda, dask-cudf-cu12, dask-expr, datascience, datasets, db-dtypes, dopamine_rl, fastai, geemap, geopandas, google-colab, gradio, gspread-dataframe, holoviews, libpysal, mizani, mlxtend, pandas-datareader, pandas-gbq, panel, plotnine, prophet, pymc, seaborn, shap, sklearn-pandas, statsmodels, tensorflow_decision_forests, tsfresh, vega-datasets, xarray, yfinance\n"
          ]
        }
      ],
      "source": [
        "!pip show pandas"
      ]
    },
    {
      "cell_type": "markdown",
      "metadata": {
        "id": "WabV9KTG4AkF"
      },
      "source": [
        "\n",
        "## Installing Packages\n",
        "\n",
        "\n",
        "We use a `pip install` command to install a package, supplying the name of the package we want to install.\n",
        "\n",
        "For example, if we wanted to install the `pandas` package, we would use a command `pip install pandas` (although we see this is already installed in Colab):\n",
        "\n",
        "\n",
        "\n",
        "\n"
      ]
    },
    {
      "cell_type": "code",
      "execution_count": 6,
      "metadata": {
        "colab": {
          "base_uri": "https://localhost:8080/"
        },
        "id": "mRitHDeYkhHI",
        "outputId": "12ddff95-c269-4a24-de92-f503b20c6fd9"
      },
      "outputs": [
        {
          "name": "stdout",
          "output_type": "stream",
          "text": [
            "Requirement already satisfied: pandas in /usr/local/lib/python3.11/dist-packages (2.2.2)\n",
            "Requirement already satisfied: numpy>=1.23.2 in /usr/local/lib/python3.11/dist-packages (from pandas) (2.0.2)\n",
            "Requirement already satisfied: python-dateutil>=2.8.2 in /usr/local/lib/python3.11/dist-packages (from pandas) (2.9.0.post0)\n",
            "Requirement already satisfied: pytz>=2020.1 in /usr/local/lib/python3.11/dist-packages (from pandas) (2025.2)\n",
            "Requirement already satisfied: tzdata>=2022.7 in /usr/local/lib/python3.11/dist-packages (from pandas) (2025.2)\n",
            "Requirement already satisfied: six>=1.5 in /usr/local/lib/python3.11/dist-packages (from python-dateutil>=2.8.2->pandas) (1.17.0)\n"
          ]
        }
      ],
      "source": [
        "!pip install pandas"
      ]
    },
    {
      "cell_type": "markdown",
      "metadata": {
        "id": "XHvj3EWUlBcY"
      },
      "source": [
        "Let's try installing a package for real, such as the [`yahooquery` package](https://pypi.org/project/yahooquery/), which provides access to financial data:"
      ]
    },
    {
      "cell_type": "code",
      "execution_count": 7,
      "metadata": {
        "id": "qIwhcfa94K9u"
      },
      "outputs": [],
      "source": [
        "%%capture\n",
        "!pip install yahooquery"
      ]
    },
    {
      "cell_type": "markdown",
      "metadata": {
        "id": "YXwTJ7aMB5kS"
      },
      "source": [
        ":::{.callout-tip title=\"Pro Tip\"}\n",
        "If we optionally add a \"[capture magic](https://ipython.readthedocs.io/en/stable/interactive/magics.html#cellmagic-capture)\" (`%%capture`) at the top of a cell, it will suppress outputs during the installation process.\n",
        ":::"
      ]
    },
    {
      "cell_type": "markdown",
      "metadata": {
        "id": "9-4MXi-kkgMc"
      },
      "source": [
        "When we install packages, Pip will download the source code from the PyPI into the current development environment.\n"
      ]
    },
    {
      "cell_type": "code",
      "execution_count": 8,
      "metadata": {
        "colab": {
          "base_uri": "https://localhost:8080/"
        },
        "id": "6bE8TkczmaUd",
        "outputId": "1cd75513-47ec-4d4d-d0db-ac08d27ad31e"
      },
      "outputs": [
        {
          "name": "stdout",
          "output_type": "stream",
          "text": [
            "yahooquery                            2.4.1\n"
          ]
        }
      ],
      "source": [
        "!pip list | grep yahooquery"
      ]
    },
    {
      "cell_type": "code",
      "execution_count": 9,
      "metadata": {
        "colab": {
          "base_uri": "https://localhost:8080/"
        },
        "id": "qjEHqgFBB5kS",
        "outputId": "ec5d22a6-61cc-4046-de90-e8ee0a13b211"
      },
      "outputs": [
        {
          "name": "stdout",
          "output_type": "stream",
          "text": [
            "Name: yahooquery\n",
            "Version: 2.4.1\n",
            "Summary: Python wrapper for an unofficial Yahoo Finance API\n",
            "Home-page: \n",
            "Author: \n",
            "Author-email: Doug Guthrie <douglas.p.guthrie@gmail.com>\n",
            "License: MIT\n",
            "Location: /usr/local/lib/python3.11/dist-packages\n",
            "Requires: beautifulsoup4, curl-cffi, lxml, pandas, requests-futures, tqdm\n",
            "Required-by: \n"
          ]
        }
      ],
      "source": [
        "!pip show yahooquery"
      ]
    },
    {
      "cell_type": "markdown",
      "metadata": {
        "id": "gszBHVoqmYGS"
      },
      "source": [
        "## Using Installed Packages"
      ]
    },
    {
      "cell_type": "markdown",
      "metadata": {
        "id": "RA-zY9LFi53n"
      },
      "source": [
        "After installing a package, we now have access to import its functionality and use it. Generally this involves reading the package documentation to see what capabilities it provides.\n",
        "\n",
        "For example, after consulting the [`yahooquery` package](https://yahooquery.dpguthrie.com/) documentation, it says we can get started like this:"
      ]
    },
    {
      "cell_type": "code",
      "execution_count": 10,
      "metadata": {
        "colab": {
          "base_uri": "https://localhost:8080/"
        },
        "id": "80TvLJUJl8vc",
        "outputId": "53b879e0-60ad-4c53-da7f-3c510f8337b9"
      },
      "outputs": [
        {
          "data": {
            "text/plain": [
              "{'AAPL': {'address1': 'One Apple Park Way',\n",
              "  'city': 'Cupertino',\n",
              "  'state': 'CA',\n",
              "  'zip': '95014',\n",
              "  'country': 'United States',\n",
              "  'phone': '(408) 996-1010',\n",
              "  'website': 'https://www.apple.com',\n",
              "  'industry': 'Consumer Electronics',\n",
              "  'industryKey': 'consumer-electronics',\n",
              "  'industryDisp': 'Consumer Electronics',\n",
              "  'sector': 'Technology',\n",
              "  'sectorKey': 'technology',\n",
              "  'sectorDisp': 'Technology',\n",
              "  'longBusinessSummary': 'Apple Inc. designs, manufactures, and markets smartphones, personal computers, tablets, wearables, and accessories worldwide. The company offers iPhone, a line of smartphones; Mac, a line of personal computers; iPad, a line of multi-purpose tablets; and wearables, home, and accessories comprising AirPods, Apple TV, Apple Watch, Beats products, and HomePod. It also provides AppleCare support and cloud services; and operates various platforms, including the App Store that allow customers to discover and download applications and digital content, such as books, music, video, games, and podcasts, as well as advertising services include third-party licensing arrangements and its own advertising platforms. In addition, the company offers various subscription-based services, such as Apple Arcade, a game subscription service; Apple Fitness+, a personalized fitness service; Apple Music, which offers users a curated listening experience with on-demand radio stations; Apple News+, a subscription news and magazine service; Apple TV+, which offers exclusive original content; Apple Card, a co-branded credit card; and Apple Pay, a cashless payment service, as well as licenses its intellectual property. The company serves consumers, and small and mid-sized businesses; and the education, enterprise, and government markets. It distributes third-party applications for its products through the App Store. The company also sells its products through its retail and online stores, and direct sales force; and third-party cellular network carriers, wholesalers, retailers, and resellers. Apple Inc. was founded in 1976 and is headquartered in Cupertino, California.',\n",
              "  'fullTimeEmployees': 164000,\n",
              "  'companyOfficers': [],\n",
              "  'irWebsite': 'http://investor.apple.com/',\n",
              "  'executiveTeam': [],\n",
              "  'maxAge': 86400}}"
            ]
          },
          "execution_count": 10,
          "metadata": {},
          "output_type": "execute_result"
        }
      ],
      "source": [
        "# https://yahooquery.dpguthrie.com/guide/ticker/intro/\n",
        "from yahooquery import Ticker\n",
        "\n",
        "ticker = Ticker(\"AAPL\")\n",
        "ticker.summary_profile"
      ]
    },
    {
      "cell_type": "markdown",
      "metadata": {
        "id": "MGkCm4XFnwaf"
      },
      "source": [
        "We can continue to explore the documentation to learn about additional functionality."
      ]
    },
    {
      "cell_type": "markdown",
      "metadata": {
        "id": "n-P7zjirlnOt"
      },
      "source": [
        "By installing and using packages, we are harnessing the power of the open source Python ecosystem."
      ]
    }
  ],
  "metadata": {
    "colab": {
      "provenance": [],
      "toc_visible": true
    },
    "kernelspec": {
      "display_name": "quarto-env",
      "language": "python",
      "name": "python3"
    },
    "language_info": {
      "codemirror_mode": {
        "name": "ipython",
        "version": 3
      },
      "file_extension": ".py",
      "mimetype": "text/x-python",
      "name": "python",
      "nbconvert_exporter": "python",
      "pygments_lexer": "ipython3",
      "version": "3.11.9"
    }
  },
  "nbformat": 4,
  "nbformat_minor": 0
}
