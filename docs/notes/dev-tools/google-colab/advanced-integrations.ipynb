{
  "cells": [
    {
      "cell_type": "markdown",
      "metadata": {
        "id": "qxBPhtJgRID4"
      },
      "source": [
        "# Advanced Integrations in Google Colab"
      ]
    },
    {
      "cell_type": "markdown",
      "metadata": {
        "id": "lXo3c5uhc8mh"
      },
      "source": [
        "One benefit of Google Colab notebooks, over generic Jupyter notebooks, is the ability to easily integrate with other Google products and services.\n",
        "\n",
        "These integrations take advantage of the fact that in order to access a Colab notebook, you first need to be logged in with your Google Account. They then use credentials of the logged in user to access Google products and services on your behalf."
      ]
    },
    {
      "cell_type": "markdown",
      "metadata": {
        "id": "qk_pZKn0Qy5V"
      },
      "source": [
        "## Google Drive"
      ]
    },
    {
      "cell_type": "markdown",
      "metadata": {
        "id": "VLmje614oFGd"
      },
      "source": [
        "A Google Drive integration will allow us to read and write files from Google Drive.\n",
        "\n",
        "We will first need to \"mount\" the Google Drive to the Colab filesystem, so we can access Drive files within Colab. When we mount the drive, we choose the name of a local subdirectory within the Colab filesystem (for example, \"content/drive\") in which we would like to access the files:"
      ]
    },
    {
      "cell_type": "code",
      "execution_count": 24,
      "metadata": {
        "colab": {
          "base_uri": "https://localhost:8080/"
        },
        "id": "rDZSxY9bQ0I6",
        "outputId": "30ce22dd-980e-46ec-e38b-88b100d8df61"
      },
      "outputs": [
        {
          "name": "stdout",
          "output_type": "stream",
          "text": [
            "Drive already mounted at /content/drive; to attempt to forcibly remount, call drive.mount(\"/content/drive\", force_remount=True).\n"
          ]
        }
      ],
      "source": [
        "from google.colab import drive\n",
        "\n",
        "drive.mount('/content/drive')"
      ]
    },
    {
      "cell_type": "markdown",
      "metadata": {
        "id": "cQodSg7fd0KB"
      },
      "source": [
        "Now any files in your Google Drive are accessable from the notebook (for example, accessing a file called \"daily-prices-nflx.csv\" stored in the top level of the user's Google Drive:"
      ]
    },
    {
      "cell_type": "code",
      "execution_count": 25,
      "metadata": {
        "colab": {
          "base_uri": "https://localhost:8080/"
        },
        "id": "Ug8jFS_CeAst",
        "outputId": "1b1e2cdd-ce9b-4f7c-81f0-f05de1c54b98"
      },
      "outputs": [
        {
          "name": "stdout",
          "output_type": "stream",
          "text": [
            "True\n"
          ]
        }
      ],
      "source": [
        "import os\n",
        "\n",
        "csv_filepath = \"/content/drive/MyDrive/daily-prices-nflx.csv\"\n",
        "print(os.path.isfile(csv_filepath))"
      ]
    },
    {
      "cell_type": "code",
      "execution_count": 26,
      "metadata": {
        "colab": {
          "base_uri": "https://localhost:8080/",
          "height": 206
        },
        "id": "2K_cNKC5emRP",
        "outputId": "cc5eda50-b0dd-468f-ef94-1cac8244f714"
      },
      "outputs": [
        {
          "data": {
            "application/vnd.google.colaboratory.intrinsic+json": {
              "summary": "{\n  \"name\": \"df\",\n  \"rows\": 5555,\n  \"fields\": [\n    {\n      \"column\": \"timestamp\",\n      \"properties\": {\n        \"dtype\": \"object\",\n        \"num_unique_values\": 5555,\n        \"samples\": [\n          \"2005-04-27\",\n          \"2006-01-31\",\n          \"2013-04-30\"\n        ],\n        \"semantic_type\": \"\",\n        \"description\": \"\"\n      }\n    },\n    {\n      \"column\": \"open\",\n      \"properties\": {\n        \"dtype\": \"number\",\n        \"std\": 183.17693944406952,\n        \"min\": 5.29,\n        \"max\": 708.9,\n        \"num_unique_values\": 4863,\n        \"samples\": [\n          567.2,\n          97.51,\n          216.98\n        ],\n        \"semantic_type\": \"\",\n        \"description\": \"\"\n      }\n    },\n    {\n      \"column\": \"high\",\n      \"properties\": {\n        \"dtype\": \"number\",\n        \"std\": 185.4916692904882,\n        \"min\": 5.75,\n        \"max\": 716.16,\n        \"num_unique_values\": 4905,\n        \"samples\": [\n          47.92,\n          48.2,\n          490.06\n        ],\n        \"semantic_type\": \"\",\n        \"description\": \"\"\n      }\n    },\n    {\n      \"column\": \"low\",\n      \"properties\": {\n        \"dtype\": \"number\",\n        \"std\": 180.76006143717058,\n        \"min\": 4.85,\n        \"max\": 697.57,\n        \"num_unique_values\": 4880,\n        \"samples\": [\n          27.75,\n          507.0,\n          337.635\n        ],\n        \"semantic_type\": \"\",\n        \"description\": \"\"\n      }\n    },\n    {\n      \"column\": \"close\",\n      \"properties\": {\n        \"dtype\": \"number\",\n        \"std\": 183.19654851025513,\n        \"min\": 5.22,\n        \"max\": 707.61,\n        \"num_unique_values\": 4960,\n        \"samples\": [\n          286.62,\n          658.64,\n          356.56\n        ],\n        \"semantic_type\": \"\",\n        \"description\": \"\"\n      }\n    },\n    {\n      \"column\": \"adjusted_close\",\n      \"properties\": {\n        \"dtype\": \"number\",\n        \"std\": 184.03441791034788,\n        \"min\": 0.37285677,\n        \"max\": 691.69,\n        \"num_unique_values\": 5076,\n        \"samples\": [\n          523.28,\n          1.959283755,\n          550.64\n        ],\n        \"semantic_type\": \"\",\n        \"description\": \"\"\n      }\n    },\n    {\n      \"column\": \"volume\",\n      \"properties\": {\n        \"dtype\": \"number\",\n        \"std\": 5995827,\n        \"min\": 20400,\n        \"max\": 132644607,\n        \"num_unique_values\": 5473,\n        \"samples\": [\n          209700,\n          3296600,\n          8961126\n        ],\n        \"semantic_type\": \"\",\n        \"description\": \"\"\n      }\n    },\n    {\n      \"column\": \"dividend_amount\",\n      \"properties\": {\n        \"dtype\": \"number\",\n        \"std\": 0.0,\n        \"min\": 0.0,\n        \"max\": 0.0,\n        \"num_unique_values\": 1,\n        \"samples\": [\n          0.0\n        ],\n        \"semantic_type\": \"\",\n        \"description\": \"\"\n      }\n    },\n    {\n      \"column\": \"split_coefficient\",\n      \"properties\": {\n        \"dtype\": \"number\",\n        \"std\": 0.08161061352483334,\n        \"min\": 1.0,\n        \"max\": 7.000007000007,\n        \"num_unique_values\": 3,\n        \"samples\": [\n          1.0\n        ],\n        \"semantic_type\": \"\",\n        \"description\": \"\"\n      }\n    }\n  ]\n}",
              "type": "dataframe",
              "variable_name": "df"
            },
            "text/html": [
              "\n",
              "  <div id=\"df-2c23d998-62b9-4283-b524-351b5f5a0226\" class=\"colab-df-container\">\n",
              "    <div>\n",
              "<style scoped>\n",
              "    .dataframe tbody tr th:only-of-type {\n",
              "        vertical-align: middle;\n",
              "    }\n",
              "\n",
              "    .dataframe tbody tr th {\n",
              "        vertical-align: top;\n",
              "    }\n",
              "\n",
              "    .dataframe thead th {\n",
              "        text-align: right;\n",
              "    }\n",
              "</style>\n",
              "<table border=\"1\" class=\"dataframe\">\n",
              "  <thead>\n",
              "    <tr style=\"text-align: right;\">\n",
              "      <th></th>\n",
              "      <th>timestamp</th>\n",
              "      <th>open</th>\n",
              "      <th>high</th>\n",
              "      <th>low</th>\n",
              "      <th>close</th>\n",
              "      <th>adjusted_close</th>\n",
              "      <th>volume</th>\n",
              "      <th>dividend_amount</th>\n",
              "      <th>split_coefficient</th>\n",
              "    </tr>\n",
              "  </thead>\n",
              "  <tbody>\n",
              "    <tr>\n",
              "      <th>0</th>\n",
              "      <td>2024-06-17</td>\n",
              "      <td>669.11</td>\n",
              "      <td>682.7099</td>\n",
              "      <td>665.1101</td>\n",
              "      <td>675.83</td>\n",
              "      <td>675.83</td>\n",
              "      <td>3631184</td>\n",
              "      <td>0.0</td>\n",
              "      <td>1.0</td>\n",
              "    </tr>\n",
              "    <tr>\n",
              "      <th>1</th>\n",
              "      <td>2024-06-14</td>\n",
              "      <td>655.05</td>\n",
              "      <td>675.5800</td>\n",
              "      <td>652.6400</td>\n",
              "      <td>669.38</td>\n",
              "      <td>669.38</td>\n",
              "      <td>4447116</td>\n",
              "      <td>0.0</td>\n",
              "      <td>1.0</td>\n",
              "    </tr>\n",
              "    <tr>\n",
              "      <th>2</th>\n",
              "      <td>2024-06-13</td>\n",
              "      <td>644.00</td>\n",
              "      <td>655.2500</td>\n",
              "      <td>642.3500</td>\n",
              "      <td>653.26</td>\n",
              "      <td>653.26</td>\n",
              "      <td>1863587</td>\n",
              "      <td>0.0</td>\n",
              "      <td>1.0</td>\n",
              "    </tr>\n",
              "    <tr>\n",
              "      <th>3</th>\n",
              "      <td>2024-06-12</td>\n",
              "      <td>652.21</td>\n",
              "      <td>655.7800</td>\n",
              "      <td>643.1100</td>\n",
              "      <td>650.06</td>\n",
              "      <td>650.06</td>\n",
              "      <td>2094381</td>\n",
              "      <td>0.0</td>\n",
              "      <td>1.0</td>\n",
              "    </tr>\n",
              "    <tr>\n",
              "      <th>4</th>\n",
              "      <td>2024-06-11</td>\n",
              "      <td>640.72</td>\n",
              "      <td>650.1900</td>\n",
              "      <td>640.5200</td>\n",
              "      <td>648.55</td>\n",
              "      <td>648.55</td>\n",
              "      <td>2167417</td>\n",
              "      <td>0.0</td>\n",
              "      <td>1.0</td>\n",
              "    </tr>\n",
              "  </tbody>\n",
              "</table>\n",
              "</div>\n",
              "    <div class=\"colab-df-buttons\">\n",
              "\n",
              "  <div class=\"colab-df-container\">\n",
              "    <button class=\"colab-df-convert\" onclick=\"convertToInteractive('df-2c23d998-62b9-4283-b524-351b5f5a0226')\"\n",
              "            title=\"Convert this dataframe to an interactive table.\"\n",
              "            style=\"display:none;\">\n",
              "\n",
              "  <svg xmlns=\"http://www.w3.org/2000/svg\" height=\"24px\" viewBox=\"0 -960 960 960\">\n",
              "    <path d=\"M120-120v-720h720v720H120Zm60-500h600v-160H180v160Zm220 220h160v-160H400v160Zm0 220h160v-160H400v160ZM180-400h160v-160H180v160Zm440 0h160v-160H620v160ZM180-180h160v-160H180v160Zm440 0h160v-160H620v160Z\"/>\n",
              "  </svg>\n",
              "    </button>\n",
              "\n",
              "  <style>\n",
              "    .colab-df-container {\n",
              "      display:flex;\n",
              "      gap: 12px;\n",
              "    }\n",
              "\n",
              "    .colab-df-convert {\n",
              "      background-color: #E8F0FE;\n",
              "      border: none;\n",
              "      border-radius: 50%;\n",
              "      cursor: pointer;\n",
              "      display: none;\n",
              "      fill: #1967D2;\n",
              "      height: 32px;\n",
              "      padding: 0 0 0 0;\n",
              "      width: 32px;\n",
              "    }\n",
              "\n",
              "    .colab-df-convert:hover {\n",
              "      background-color: #E2EBFA;\n",
              "      box-shadow: 0px 1px 2px rgba(60, 64, 67, 0.3), 0px 1px 3px 1px rgba(60, 64, 67, 0.15);\n",
              "      fill: #174EA6;\n",
              "    }\n",
              "\n",
              "    .colab-df-buttons div {\n",
              "      margin-bottom: 4px;\n",
              "    }\n",
              "\n",
              "    [theme=dark] .colab-df-convert {\n",
              "      background-color: #3B4455;\n",
              "      fill: #D2E3FC;\n",
              "    }\n",
              "\n",
              "    [theme=dark] .colab-df-convert:hover {\n",
              "      background-color: #434B5C;\n",
              "      box-shadow: 0px 1px 3px 1px rgba(0, 0, 0, 0.15);\n",
              "      filter: drop-shadow(0px 1px 2px rgba(0, 0, 0, 0.3));\n",
              "      fill: #FFFFFF;\n",
              "    }\n",
              "  </style>\n",
              "\n",
              "    <script>\n",
              "      const buttonEl =\n",
              "        document.querySelector('#df-2c23d998-62b9-4283-b524-351b5f5a0226 button.colab-df-convert');\n",
              "      buttonEl.style.display =\n",
              "        google.colab.kernel.accessAllowed ? 'block' : 'none';\n",
              "\n",
              "      async function convertToInteractive(key) {\n",
              "        const element = document.querySelector('#df-2c23d998-62b9-4283-b524-351b5f5a0226');\n",
              "        const dataTable =\n",
              "          await google.colab.kernel.invokeFunction('convertToInteractive',\n",
              "                                                    [key], {});\n",
              "        if (!dataTable) return;\n",
              "\n",
              "        const docLinkHtml = 'Like what you see? Visit the ' +\n",
              "          '<a target=\"_blank\" href=https://colab.research.google.com/notebooks/data_table.ipynb>data table notebook</a>'\n",
              "          + ' to learn more about interactive tables.';\n",
              "        element.innerHTML = '';\n",
              "        dataTable['output_type'] = 'display_data';\n",
              "        await google.colab.output.renderOutput(dataTable, element);\n",
              "        const docLink = document.createElement('div');\n",
              "        docLink.innerHTML = docLinkHtml;\n",
              "        element.appendChild(docLink);\n",
              "      }\n",
              "    </script>\n",
              "  </div>\n",
              "\n",
              "\n",
              "<div id=\"df-47d5d497-b12d-464e-9c58-4b2e90f97d07\">\n",
              "  <button class=\"colab-df-quickchart\" onclick=\"quickchart('df-47d5d497-b12d-464e-9c58-4b2e90f97d07')\"\n",
              "            title=\"Suggest charts\"\n",
              "            style=\"display:none;\">\n",
              "\n",
              "<svg xmlns=\"http://www.w3.org/2000/svg\" height=\"24px\"viewBox=\"0 0 24 24\"\n",
              "     width=\"24px\">\n",
              "    <g>\n",
              "        <path d=\"M19 3H5c-1.1 0-2 .9-2 2v14c0 1.1.9 2 2 2h14c1.1 0 2-.9 2-2V5c0-1.1-.9-2-2-2zM9 17H7v-7h2v7zm4 0h-2V7h2v10zm4 0h-2v-4h2v4z\"/>\n",
              "    </g>\n",
              "</svg>\n",
              "  </button>\n",
              "\n",
              "<style>\n",
              "  .colab-df-quickchart {\n",
              "      --bg-color: #E8F0FE;\n",
              "      --fill-color: #1967D2;\n",
              "      --hover-bg-color: #E2EBFA;\n",
              "      --hover-fill-color: #174EA6;\n",
              "      --disabled-fill-color: #AAA;\n",
              "      --disabled-bg-color: #DDD;\n",
              "  }\n",
              "\n",
              "  [theme=dark] .colab-df-quickchart {\n",
              "      --bg-color: #3B4455;\n",
              "      --fill-color: #D2E3FC;\n",
              "      --hover-bg-color: #434B5C;\n",
              "      --hover-fill-color: #FFFFFF;\n",
              "      --disabled-bg-color: #3B4455;\n",
              "      --disabled-fill-color: #666;\n",
              "  }\n",
              "\n",
              "  .colab-df-quickchart {\n",
              "    background-color: var(--bg-color);\n",
              "    border: none;\n",
              "    border-radius: 50%;\n",
              "    cursor: pointer;\n",
              "    display: none;\n",
              "    fill: var(--fill-color);\n",
              "    height: 32px;\n",
              "    padding: 0;\n",
              "    width: 32px;\n",
              "  }\n",
              "\n",
              "  .colab-df-quickchart:hover {\n",
              "    background-color: var(--hover-bg-color);\n",
              "    box-shadow: 0 1px 2px rgba(60, 64, 67, 0.3), 0 1px 3px 1px rgba(60, 64, 67, 0.15);\n",
              "    fill: var(--button-hover-fill-color);\n",
              "  }\n",
              "\n",
              "  .colab-df-quickchart-complete:disabled,\n",
              "  .colab-df-quickchart-complete:disabled:hover {\n",
              "    background-color: var(--disabled-bg-color);\n",
              "    fill: var(--disabled-fill-color);\n",
              "    box-shadow: none;\n",
              "  }\n",
              "\n",
              "  .colab-df-spinner {\n",
              "    border: 2px solid var(--fill-color);\n",
              "    border-color: transparent;\n",
              "    border-bottom-color: var(--fill-color);\n",
              "    animation:\n",
              "      spin 1s steps(1) infinite;\n",
              "  }\n",
              "\n",
              "  @keyframes spin {\n",
              "    0% {\n",
              "      border-color: transparent;\n",
              "      border-bottom-color: var(--fill-color);\n",
              "      border-left-color: var(--fill-color);\n",
              "    }\n",
              "    20% {\n",
              "      border-color: transparent;\n",
              "      border-left-color: var(--fill-color);\n",
              "      border-top-color: var(--fill-color);\n",
              "    }\n",
              "    30% {\n",
              "      border-color: transparent;\n",
              "      border-left-color: var(--fill-color);\n",
              "      border-top-color: var(--fill-color);\n",
              "      border-right-color: var(--fill-color);\n",
              "    }\n",
              "    40% {\n",
              "      border-color: transparent;\n",
              "      border-right-color: var(--fill-color);\n",
              "      border-top-color: var(--fill-color);\n",
              "    }\n",
              "    60% {\n",
              "      border-color: transparent;\n",
              "      border-right-color: var(--fill-color);\n",
              "    }\n",
              "    80% {\n",
              "      border-color: transparent;\n",
              "      border-right-color: var(--fill-color);\n",
              "      border-bottom-color: var(--fill-color);\n",
              "    }\n",
              "    90% {\n",
              "      border-color: transparent;\n",
              "      border-bottom-color: var(--fill-color);\n",
              "    }\n",
              "  }\n",
              "</style>\n",
              "\n",
              "  <script>\n",
              "    async function quickchart(key) {\n",
              "      const quickchartButtonEl =\n",
              "        document.querySelector('#' + key + ' button');\n",
              "      quickchartButtonEl.disabled = true;  // To prevent multiple clicks.\n",
              "      quickchartButtonEl.classList.add('colab-df-spinner');\n",
              "      try {\n",
              "        const charts = await google.colab.kernel.invokeFunction(\n",
              "            'suggestCharts', [key], {});\n",
              "      } catch (error) {\n",
              "        console.error('Error during call to suggestCharts:', error);\n",
              "      }\n",
              "      quickchartButtonEl.classList.remove('colab-df-spinner');\n",
              "      quickchartButtonEl.classList.add('colab-df-quickchart-complete');\n",
              "    }\n",
              "    (() => {\n",
              "      let quickchartButtonEl =\n",
              "        document.querySelector('#df-47d5d497-b12d-464e-9c58-4b2e90f97d07 button');\n",
              "      quickchartButtonEl.style.display =\n",
              "        google.colab.kernel.accessAllowed ? 'block' : 'none';\n",
              "    })();\n",
              "  </script>\n",
              "</div>\n",
              "\n",
              "    </div>\n",
              "  </div>\n"
            ],
            "text/plain": [
              "    timestamp    open      high       low   close  adjusted_close   volume  \\\n",
              "0  2024-06-17  669.11  682.7099  665.1101  675.83          675.83  3631184   \n",
              "1  2024-06-14  655.05  675.5800  652.6400  669.38          669.38  4447116   \n",
              "2  2024-06-13  644.00  655.2500  642.3500  653.26          653.26  1863587   \n",
              "3  2024-06-12  652.21  655.7800  643.1100  650.06          650.06  2094381   \n",
              "4  2024-06-11  640.72  650.1900  640.5200  648.55          648.55  2167417   \n",
              "\n",
              "   dividend_amount  split_coefficient  \n",
              "0              0.0                1.0  \n",
              "1              0.0                1.0  \n",
              "2              0.0                1.0  \n",
              "3              0.0                1.0  \n",
              "4              0.0                1.0  "
            ]
          },
          "execution_count": 26,
          "metadata": {},
          "output_type": "execute_result"
        }
      ],
      "source": [
        "from pandas import read_csv\n",
        "\n",
        "df = read_csv(csv_filepath)\n",
        "df.head()"
      ]
    },
    {
      "cell_type": "markdown",
      "metadata": {
        "id": "39AjpHjHQ2m-"
      },
      "source": [
        "## Google Sheets"
      ]
    },
    {
      "cell_type": "markdown",
      "metadata": {
        "id": "L2xETKqGEiCG"
      },
      "source": [
        "For a spreadsheet datastore integration, we can interface with Google Sheets directly.\n",
        "\n",
        "We first need to create a Google Sheets document, for instance this [example document](https://docs.google.com/spreadsheets/d/1qbEagXHlGgFBiQWdUaL62V9f8MNW_t0QFmaQhoTiEjw/edit?usp=sharing).\n",
        "\n",
        "Before proceeding, we observe the identifier of the Google Sheets document from the URL:\n",
        "\n"
      ]
    },
    {
      "cell_type": "code",
      "execution_count": 27,
      "metadata": {
        "id": "71xEwmRSFLrE"
      },
      "outputs": [],
      "source": [
        "# document URL: https://docs.google.com/spreadsheets/d/1qbEagXHlGgFBiQWdUaL62V9f8MNW_t0QFmaQhoTiEjw/edit?usp=sharing\n",
        "DOCUMENT_ID = \"1qbEagXHlGgFBiQWdUaL62V9f8MNW_t0QFmaQhoTiEjw\""
      ]
    },
    {
      "cell_type": "markdown",
      "metadata": {
        "id": "SFTjHhaoa_SD"
      },
      "source": [
        "After noting the document identifier, we can use some boilerplate code to authenticate and access the document.\n"
      ]
    },
    {
      "cell_type": "markdown",
      "metadata": {
        "id": "7rkwzM-Ga__w"
      },
      "source": [
        "### Authorization"
      ]
    },
    {
      "cell_type": "markdown",
      "metadata": {
        "id": "tc0ES2YNFiZN"
      },
      "source": [
        "\n",
        "Authorizing Google Colab to authenticate on behalf of the currently logged in user (assuming that user has access to the spreadsheet document you created):"
      ]
    },
    {
      "cell_type": "code",
      "execution_count": 28,
      "metadata": {
        "id": "HlOn7AgKFh1R"
      },
      "outputs": [],
      "source": [
        "from google.colab import auth\n",
        "\n",
        "auth.authenticate_user()"
      ]
    },
    {
      "cell_type": "markdown",
      "metadata": {
        "id": "XAwzJCBohrJR"
      },
      "source": [
        "Using credentials from the logged in user:"
      ]
    },
    {
      "cell_type": "code",
      "execution_count": 29,
      "metadata": {
        "id": "Ib7gP85SG3CG"
      },
      "outputs": [],
      "source": [
        "from google.auth import default\n",
        "\n",
        "creds, _ = default()"
      ]
    },
    {
      "cell_type": "markdown",
      "metadata": {
        "id": "x6FueBEfu5FQ"
      },
      "source": [
        "### Connecting to Google Sheets"
      ]
    },
    {
      "cell_type": "markdown",
      "metadata": {
        "id": "R5DOIF8yu82Z"
      },
      "source": [
        "Interfacing with Google Sheets, using the [`gspread` package](https://docs.gspread.org):\n"
      ]
    },
    {
      "cell_type": "code",
      "execution_count": 30,
      "metadata": {
        "colab": {
          "base_uri": "https://localhost:8080/"
        },
        "id": "dj9n_avnvUkC",
        "outputId": "ab9e9320-30ac-48ef-a421-1bd5b0993f38"
      },
      "outputs": [
        {
          "name": "stdout",
          "output_type": "stream",
          "text": [
            "gspread                          6.0.2\n",
            "gspread-dataframe                3.3.1\n"
          ]
        }
      ],
      "source": [
        "!pip list | grep gspread"
      ]
    },
    {
      "cell_type": "code",
      "execution_count": 31,
      "metadata": {
        "id": "MgVaioDJu9WM"
      },
      "outputs": [],
      "source": [
        "import gspread\n",
        "\n",
        "client = gspread.authorize(creds)"
      ]
    },
    {
      "cell_type": "markdown",
      "metadata": {
        "id": "Iq1O1W-Gvo6O"
      },
      "source": [
        "Accessing the document:"
      ]
    },
    {
      "cell_type": "code",
      "execution_count": 32,
      "metadata": {
        "colab": {
          "base_uri": "https://localhost:8080/"
        },
        "id": "x1wOX0gYvqsc",
        "outputId": "7815b44b-cadc-4734-8403-eb34910afe21"
      },
      "outputs": [
        {
          "name": "stdout",
          "output_type": "stream",
          "text": [
            "DOC: <class 'gspread.spreadsheet.Spreadsheet'> CSV Data Files (Python for Finance Book) - PUBLIC\n"
          ]
        }
      ],
      "source": [
        "doc = client.open_by_key(DOCUMENT_ID)\n",
        "print(\"DOC:\", type(doc), doc.title)"
      ]
    },
    {
      "cell_type": "markdown",
      "metadata": {
        "id": "sYIV-q2zvtR2"
      },
      "source": [
        "Listing worksheets in the document:"
      ]
    },
    {
      "cell_type": "code",
      "execution_count": 33,
      "metadata": {
        "colab": {
          "base_uri": "https://localhost:8080/"
        },
        "id": "HoUYYNQwvuu7",
        "outputId": "044b698f-0cd4-4541-cb2d-0a56707f7522"
      },
      "outputs": [
        {
          "data": {
            "text/plain": [
              "[<Worksheet 'daily-prices-nflx' id:0>,\n",
              " <Worksheet 'daily-prices-nflx-copy' id:193822370>]"
            ]
          },
          "execution_count": 33,
          "metadata": {},
          "output_type": "execute_result"
        }
      ],
      "source": [
        "doc.worksheets()"
      ]
    },
    {
      "cell_type": "markdown",
      "metadata": {
        "id": "-cVap8R7v4D_"
      },
      "source": [
        "Accessing a specific sheet:"
      ]
    },
    {
      "cell_type": "code",
      "execution_count": 34,
      "metadata": {
        "colab": {
          "base_uri": "https://localhost:8080/"
        },
        "id": "4Ef3oakDv62P",
        "outputId": "17917109-f9a0-491d-95ce-c2bd17544dd6"
      },
      "outputs": [
        {
          "name": "stdout",
          "output_type": "stream",
          "text": [
            "SHEET: daily-prices-nflx\n"
          ]
        }
      ],
      "source": [
        "sheet = doc.worksheet(\"daily-prices-nflx\")\n",
        "print(\"SHEET:\", sheet.title)"
      ]
    },
    {
      "cell_type": "markdown",
      "metadata": {
        "id": "d3lLuktZv9AO"
      },
      "source": [
        "Reading data from a sheet:"
      ]
    },
    {
      "cell_type": "code",
      "execution_count": 35,
      "metadata": {
        "colab": {
          "base_uri": "https://localhost:8080/"
        },
        "id": "ujpWs3bLv-Nl",
        "outputId": "c6bbde77-e76a-49a2-bda6-e02b9bf29922"
      },
      "outputs": [
        {
          "name": "stdout",
          "output_type": "stream",
          "text": [
            "daily-prices-nflx\n",
            "ROWS: 5555\n"
          ]
        },
        {
          "data": {
            "text/plain": [
              "{'timestamp': '2024-06-17',\n",
              " 'open': 669.11,\n",
              " 'high': 682.7099,\n",
              " 'low': 665.1101,\n",
              " 'close': 675.83,\n",
              " 'adjusted_close': 675.83,\n",
              " 'volume': 3631184,\n",
              " 'dividend_amount': 0,\n",
              " 'split_coefficient': 1}"
            ]
          },
          "execution_count": 35,
          "metadata": {},
          "output_type": "execute_result"
        }
      ],
      "source": [
        "records = sheet.get_all_records()\n",
        "print(sheet.title)\n",
        "print(\"ROWS:\", len(records))\n",
        "records[0]"
      ]
    },
    {
      "cell_type": "markdown",
      "metadata": {
        "id": "FOuxLAvqZpEC"
      },
      "source": [
        "Converting records to a dataframe, as desired:"
      ]
    },
    {
      "cell_type": "code",
      "execution_count": 36,
      "metadata": {
        "colab": {
          "base_uri": "https://localhost:8080/",
          "height": 206
        },
        "id": "Y_jiSukKwARC",
        "outputId": "3b778d34-45ea-4a03-a3f7-17974f70d652"
      },
      "outputs": [
        {
          "data": {
            "application/vnd.google.colaboratory.intrinsic+json": {
              "summary": "{\n  \"name\": \"df\",\n  \"rows\": 5555,\n  \"fields\": [\n    {\n      \"column\": \"timestamp\",\n      \"properties\": {\n        \"dtype\": \"object\",\n        \"num_unique_values\": 5555,\n        \"samples\": [\n          \"2005-04-27\",\n          \"2006-01-31\",\n          \"2013-04-30\"\n        ],\n        \"semantic_type\": \"\",\n        \"description\": \"\"\n      }\n    },\n    {\n      \"column\": \"open\",\n      \"properties\": {\n        \"dtype\": \"number\",\n        \"std\": 183.17693944406952,\n        \"min\": 5.29,\n        \"max\": 708.9,\n        \"num_unique_values\": 4863,\n        \"samples\": [\n          567.2,\n          97.51,\n          216.98\n        ],\n        \"semantic_type\": \"\",\n        \"description\": \"\"\n      }\n    },\n    {\n      \"column\": \"high\",\n      \"properties\": {\n        \"dtype\": \"number\",\n        \"std\": 185.4916692904882,\n        \"min\": 5.75,\n        \"max\": 716.16,\n        \"num_unique_values\": 4905,\n        \"samples\": [\n          47.92,\n          48.2,\n          490.06\n        ],\n        \"semantic_type\": \"\",\n        \"description\": \"\"\n      }\n    },\n    {\n      \"column\": \"low\",\n      \"properties\": {\n        \"dtype\": \"number\",\n        \"std\": 180.76006143717058,\n        \"min\": 4.85,\n        \"max\": 697.57,\n        \"num_unique_values\": 4880,\n        \"samples\": [\n          27.75,\n          507.0,\n          337.635\n        ],\n        \"semantic_type\": \"\",\n        \"description\": \"\"\n      }\n    },\n    {\n      \"column\": \"close\",\n      \"properties\": {\n        \"dtype\": \"number\",\n        \"std\": 183.19654851025513,\n        \"min\": 5.22,\n        \"max\": 707.61,\n        \"num_unique_values\": 4960,\n        \"samples\": [\n          286.62,\n          658.64,\n          356.56\n        ],\n        \"semantic_type\": \"\",\n        \"description\": \"\"\n      }\n    },\n    {\n      \"column\": \"adjusted_close\",\n      \"properties\": {\n        \"dtype\": \"number\",\n        \"std\": 184.03441791033967,\n        \"min\": 0.37285677,\n        \"max\": 691.69,\n        \"num_unique_values\": 5076,\n        \"samples\": [\n          523.28,\n          1.959283755,\n          550.64\n        ],\n        \"semantic_type\": \"\",\n        \"description\": \"\"\n      }\n    },\n    {\n      \"column\": \"volume\",\n      \"properties\": {\n        \"dtype\": \"number\",\n        \"std\": 5995827,\n        \"min\": 20400,\n        \"max\": 132644607,\n        \"num_unique_values\": 5473,\n        \"samples\": [\n          209700,\n          3296600,\n          8961126\n        ],\n        \"semantic_type\": \"\",\n        \"description\": \"\"\n      }\n    },\n    {\n      \"column\": \"dividend_amount\",\n      \"properties\": {\n        \"dtype\": \"number\",\n        \"std\": 0,\n        \"min\": 0,\n        \"max\": 0,\n        \"num_unique_values\": 1,\n        \"samples\": [\n          0\n        ],\n        \"semantic_type\": \"\",\n        \"description\": \"\"\n      }\n    },\n    {\n      \"column\": \"split_coefficient\",\n      \"properties\": {\n        \"dtype\": \"number\",\n        \"std\": 0.0816106135247407,\n        \"min\": 1.0,\n        \"max\": 7.000007,\n        \"num_unique_values\": 3,\n        \"samples\": [\n          1.0\n        ],\n        \"semantic_type\": \"\",\n        \"description\": \"\"\n      }\n    }\n  ]\n}",
              "type": "dataframe",
              "variable_name": "df"
            },
            "text/html": [
              "\n",
              "  <div id=\"df-a4b85fde-4d9e-48b8-8b59-e5a52e47cf81\" class=\"colab-df-container\">\n",
              "    <div>\n",
              "<style scoped>\n",
              "    .dataframe tbody tr th:only-of-type {\n",
              "        vertical-align: middle;\n",
              "    }\n",
              "\n",
              "    .dataframe tbody tr th {\n",
              "        vertical-align: top;\n",
              "    }\n",
              "\n",
              "    .dataframe thead th {\n",
              "        text-align: right;\n",
              "    }\n",
              "</style>\n",
              "<table border=\"1\" class=\"dataframe\">\n",
              "  <thead>\n",
              "    <tr style=\"text-align: right;\">\n",
              "      <th></th>\n",
              "      <th>timestamp</th>\n",
              "      <th>open</th>\n",
              "      <th>high</th>\n",
              "      <th>low</th>\n",
              "      <th>close</th>\n",
              "      <th>adjusted_close</th>\n",
              "      <th>volume</th>\n",
              "      <th>dividend_amount</th>\n",
              "      <th>split_coefficient</th>\n",
              "    </tr>\n",
              "  </thead>\n",
              "  <tbody>\n",
              "    <tr>\n",
              "      <th>0</th>\n",
              "      <td>2024-06-17</td>\n",
              "      <td>669.11</td>\n",
              "      <td>682.7099</td>\n",
              "      <td>665.1101</td>\n",
              "      <td>675.83</td>\n",
              "      <td>675.83</td>\n",
              "      <td>3631184</td>\n",
              "      <td>0</td>\n",
              "      <td>1.0</td>\n",
              "    </tr>\n",
              "    <tr>\n",
              "      <th>1</th>\n",
              "      <td>2024-06-14</td>\n",
              "      <td>655.05</td>\n",
              "      <td>675.5800</td>\n",
              "      <td>652.6400</td>\n",
              "      <td>669.38</td>\n",
              "      <td>669.38</td>\n",
              "      <td>4447116</td>\n",
              "      <td>0</td>\n",
              "      <td>1.0</td>\n",
              "    </tr>\n",
              "    <tr>\n",
              "      <th>2</th>\n",
              "      <td>2024-06-13</td>\n",
              "      <td>644.00</td>\n",
              "      <td>655.2500</td>\n",
              "      <td>642.3500</td>\n",
              "      <td>653.26</td>\n",
              "      <td>653.26</td>\n",
              "      <td>1863587</td>\n",
              "      <td>0</td>\n",
              "      <td>1.0</td>\n",
              "    </tr>\n",
              "    <tr>\n",
              "      <th>3</th>\n",
              "      <td>2024-06-12</td>\n",
              "      <td>652.21</td>\n",
              "      <td>655.7800</td>\n",
              "      <td>643.1100</td>\n",
              "      <td>650.06</td>\n",
              "      <td>650.06</td>\n",
              "      <td>2094381</td>\n",
              "      <td>0</td>\n",
              "      <td>1.0</td>\n",
              "    </tr>\n",
              "    <tr>\n",
              "      <th>4</th>\n",
              "      <td>2024-06-11</td>\n",
              "      <td>640.72</td>\n",
              "      <td>650.1900</td>\n",
              "      <td>640.5200</td>\n",
              "      <td>648.55</td>\n",
              "      <td>648.55</td>\n",
              "      <td>2167417</td>\n",
              "      <td>0</td>\n",
              "      <td>1.0</td>\n",
              "    </tr>\n",
              "  </tbody>\n",
              "</table>\n",
              "</div>\n",
              "    <div class=\"colab-df-buttons\">\n",
              "\n",
              "  <div class=\"colab-df-container\">\n",
              "    <button class=\"colab-df-convert\" onclick=\"convertToInteractive('df-a4b85fde-4d9e-48b8-8b59-e5a52e47cf81')\"\n",
              "            title=\"Convert this dataframe to an interactive table.\"\n",
              "            style=\"display:none;\">\n",
              "\n",
              "  <svg xmlns=\"http://www.w3.org/2000/svg\" height=\"24px\" viewBox=\"0 -960 960 960\">\n",
              "    <path d=\"M120-120v-720h720v720H120Zm60-500h600v-160H180v160Zm220 220h160v-160H400v160Zm0 220h160v-160H400v160ZM180-400h160v-160H180v160Zm440 0h160v-160H620v160ZM180-180h160v-160H180v160Zm440 0h160v-160H620v160Z\"/>\n",
              "  </svg>\n",
              "    </button>\n",
              "\n",
              "  <style>\n",
              "    .colab-df-container {\n",
              "      display:flex;\n",
              "      gap: 12px;\n",
              "    }\n",
              "\n",
              "    .colab-df-convert {\n",
              "      background-color: #E8F0FE;\n",
              "      border: none;\n",
              "      border-radius: 50%;\n",
              "      cursor: pointer;\n",
              "      display: none;\n",
              "      fill: #1967D2;\n",
              "      height: 32px;\n",
              "      padding: 0 0 0 0;\n",
              "      width: 32px;\n",
              "    }\n",
              "\n",
              "    .colab-df-convert:hover {\n",
              "      background-color: #E2EBFA;\n",
              "      box-shadow: 0px 1px 2px rgba(60, 64, 67, 0.3), 0px 1px 3px 1px rgba(60, 64, 67, 0.15);\n",
              "      fill: #174EA6;\n",
              "    }\n",
              "\n",
              "    .colab-df-buttons div {\n",
              "      margin-bottom: 4px;\n",
              "    }\n",
              "\n",
              "    [theme=dark] .colab-df-convert {\n",
              "      background-color: #3B4455;\n",
              "      fill: #D2E3FC;\n",
              "    }\n",
              "\n",
              "    [theme=dark] .colab-df-convert:hover {\n",
              "      background-color: #434B5C;\n",
              "      box-shadow: 0px 1px 3px 1px rgba(0, 0, 0, 0.15);\n",
              "      filter: drop-shadow(0px 1px 2px rgba(0, 0, 0, 0.3));\n",
              "      fill: #FFFFFF;\n",
              "    }\n",
              "  </style>\n",
              "\n",
              "    <script>\n",
              "      const buttonEl =\n",
              "        document.querySelector('#df-a4b85fde-4d9e-48b8-8b59-e5a52e47cf81 button.colab-df-convert');\n",
              "      buttonEl.style.display =\n",
              "        google.colab.kernel.accessAllowed ? 'block' : 'none';\n",
              "\n",
              "      async function convertToInteractive(key) {\n",
              "        const element = document.querySelector('#df-a4b85fde-4d9e-48b8-8b59-e5a52e47cf81');\n",
              "        const dataTable =\n",
              "          await google.colab.kernel.invokeFunction('convertToInteractive',\n",
              "                                                    [key], {});\n",
              "        if (!dataTable) return;\n",
              "\n",
              "        const docLinkHtml = 'Like what you see? Visit the ' +\n",
              "          '<a target=\"_blank\" href=https://colab.research.google.com/notebooks/data_table.ipynb>data table notebook</a>'\n",
              "          + ' to learn more about interactive tables.';\n",
              "        element.innerHTML = '';\n",
              "        dataTable['output_type'] = 'display_data';\n",
              "        await google.colab.output.renderOutput(dataTable, element);\n",
              "        const docLink = document.createElement('div');\n",
              "        docLink.innerHTML = docLinkHtml;\n",
              "        element.appendChild(docLink);\n",
              "      }\n",
              "    </script>\n",
              "  </div>\n",
              "\n",
              "\n",
              "<div id=\"df-9eb33c15-e699-43d8-905a-e5e95499ca80\">\n",
              "  <button class=\"colab-df-quickchart\" onclick=\"quickchart('df-9eb33c15-e699-43d8-905a-e5e95499ca80')\"\n",
              "            title=\"Suggest charts\"\n",
              "            style=\"display:none;\">\n",
              "\n",
              "<svg xmlns=\"http://www.w3.org/2000/svg\" height=\"24px\"viewBox=\"0 0 24 24\"\n",
              "     width=\"24px\">\n",
              "    <g>\n",
              "        <path d=\"M19 3H5c-1.1 0-2 .9-2 2v14c0 1.1.9 2 2 2h14c1.1 0 2-.9 2-2V5c0-1.1-.9-2-2-2zM9 17H7v-7h2v7zm4 0h-2V7h2v10zm4 0h-2v-4h2v4z\"/>\n",
              "    </g>\n",
              "</svg>\n",
              "  </button>\n",
              "\n",
              "<style>\n",
              "  .colab-df-quickchart {\n",
              "      --bg-color: #E8F0FE;\n",
              "      --fill-color: #1967D2;\n",
              "      --hover-bg-color: #E2EBFA;\n",
              "      --hover-fill-color: #174EA6;\n",
              "      --disabled-fill-color: #AAA;\n",
              "      --disabled-bg-color: #DDD;\n",
              "  }\n",
              "\n",
              "  [theme=dark] .colab-df-quickchart {\n",
              "      --bg-color: #3B4455;\n",
              "      --fill-color: #D2E3FC;\n",
              "      --hover-bg-color: #434B5C;\n",
              "      --hover-fill-color: #FFFFFF;\n",
              "      --disabled-bg-color: #3B4455;\n",
              "      --disabled-fill-color: #666;\n",
              "  }\n",
              "\n",
              "  .colab-df-quickchart {\n",
              "    background-color: var(--bg-color);\n",
              "    border: none;\n",
              "    border-radius: 50%;\n",
              "    cursor: pointer;\n",
              "    display: none;\n",
              "    fill: var(--fill-color);\n",
              "    height: 32px;\n",
              "    padding: 0;\n",
              "    width: 32px;\n",
              "  }\n",
              "\n",
              "  .colab-df-quickchart:hover {\n",
              "    background-color: var(--hover-bg-color);\n",
              "    box-shadow: 0 1px 2px rgba(60, 64, 67, 0.3), 0 1px 3px 1px rgba(60, 64, 67, 0.15);\n",
              "    fill: var(--button-hover-fill-color);\n",
              "  }\n",
              "\n",
              "  .colab-df-quickchart-complete:disabled,\n",
              "  .colab-df-quickchart-complete:disabled:hover {\n",
              "    background-color: var(--disabled-bg-color);\n",
              "    fill: var(--disabled-fill-color);\n",
              "    box-shadow: none;\n",
              "  }\n",
              "\n",
              "  .colab-df-spinner {\n",
              "    border: 2px solid var(--fill-color);\n",
              "    border-color: transparent;\n",
              "    border-bottom-color: var(--fill-color);\n",
              "    animation:\n",
              "      spin 1s steps(1) infinite;\n",
              "  }\n",
              "\n",
              "  @keyframes spin {\n",
              "    0% {\n",
              "      border-color: transparent;\n",
              "      border-bottom-color: var(--fill-color);\n",
              "      border-left-color: var(--fill-color);\n",
              "    }\n",
              "    20% {\n",
              "      border-color: transparent;\n",
              "      border-left-color: var(--fill-color);\n",
              "      border-top-color: var(--fill-color);\n",
              "    }\n",
              "    30% {\n",
              "      border-color: transparent;\n",
              "      border-left-color: var(--fill-color);\n",
              "      border-top-color: var(--fill-color);\n",
              "      border-right-color: var(--fill-color);\n",
              "    }\n",
              "    40% {\n",
              "      border-color: transparent;\n",
              "      border-right-color: var(--fill-color);\n",
              "      border-top-color: var(--fill-color);\n",
              "    }\n",
              "    60% {\n",
              "      border-color: transparent;\n",
              "      border-right-color: var(--fill-color);\n",
              "    }\n",
              "    80% {\n",
              "      border-color: transparent;\n",
              "      border-right-color: var(--fill-color);\n",
              "      border-bottom-color: var(--fill-color);\n",
              "    }\n",
              "    90% {\n",
              "      border-color: transparent;\n",
              "      border-bottom-color: var(--fill-color);\n",
              "    }\n",
              "  }\n",
              "</style>\n",
              "\n",
              "  <script>\n",
              "    async function quickchart(key) {\n",
              "      const quickchartButtonEl =\n",
              "        document.querySelector('#' + key + ' button');\n",
              "      quickchartButtonEl.disabled = true;  // To prevent multiple clicks.\n",
              "      quickchartButtonEl.classList.add('colab-df-spinner');\n",
              "      try {\n",
              "        const charts = await google.colab.kernel.invokeFunction(\n",
              "            'suggestCharts', [key], {});\n",
              "      } catch (error) {\n",
              "        console.error('Error during call to suggestCharts:', error);\n",
              "      }\n",
              "      quickchartButtonEl.classList.remove('colab-df-spinner');\n",
              "      quickchartButtonEl.classList.add('colab-df-quickchart-complete');\n",
              "    }\n",
              "    (() => {\n",
              "      let quickchartButtonEl =\n",
              "        document.querySelector('#df-9eb33c15-e699-43d8-905a-e5e95499ca80 button');\n",
              "      quickchartButtonEl.style.display =\n",
              "        google.colab.kernel.accessAllowed ? 'block' : 'none';\n",
              "    })();\n",
              "  </script>\n",
              "</div>\n",
              "\n",
              "    </div>\n",
              "  </div>\n"
            ],
            "text/plain": [
              "    timestamp    open      high       low   close  adjusted_close   volume  \\\n",
              "0  2024-06-17  669.11  682.7099  665.1101  675.83          675.83  3631184   \n",
              "1  2024-06-14  655.05  675.5800  652.6400  669.38          669.38  4447116   \n",
              "2  2024-06-13  644.00  655.2500  642.3500  653.26          653.26  1863587   \n",
              "3  2024-06-12  652.21  655.7800  643.1100  650.06          650.06  2094381   \n",
              "4  2024-06-11  640.72  650.1900  640.5200  648.55          648.55  2167417   \n",
              "\n",
              "   dividend_amount  split_coefficient  \n",
              "0                0                1.0  \n",
              "1                0                1.0  \n",
              "2                0                1.0  \n",
              "3                0                1.0  \n",
              "4                0                1.0  "
            ]
          },
          "execution_count": 36,
          "metadata": {},
          "output_type": "execute_result"
        }
      ],
      "source": [
        "from pandas import DataFrame\n",
        "\n",
        "df = DataFrame(records)\n",
        "df.head()"
      ]
    },
    {
      "cell_type": "markdown",
      "metadata": {
        "id": "wHE5tJrHW9md"
      },
      "source": [
        "### Helper Functions"
      ]
    },
    {
      "cell_type": "markdown",
      "metadata": {
        "id": "qMZXZwBDW_lU"
      },
      "source": [
        "Here are some helper functions, to help you more easily interface with the `gspread` package. Feel free to copy and adapt, as desired."
      ]
    },
    {
      "cell_type": "markdown",
      "metadata": {
        "id": "rNjXv65rXLKi"
      },
      "source": [
        "#### Find or Create Sheet"
      ]
    },
    {
      "cell_type": "code",
      "execution_count": 37,
      "metadata": {
        "colab": {
          "base_uri": "https://localhost:8080/"
        },
        "id": "J2PskC8wW-7R",
        "outputId": "d321206f-26df-4dd0-884a-9d2cbb90ec92"
      },
      "outputs": [
        {
          "name": "stdout",
          "output_type": "stream",
          "text": [
            "SHEET: <class 'gspread.worksheet.Worksheet'> daily-prices-nflx-copy\n"
          ]
        }
      ],
      "source": [
        "from gspread.exceptions import WorksheetNotFound\n",
        "\n",
        "def find_or_create_sheet(sheet_name, doc=doc):\n",
        "    \"\"\"Access a sheet within the document, or create if not exists.\n",
        "\n",
        "    Params:\n",
        "        sheet_name (str): name of the sheet to access or create\n",
        "\n",
        "        doc (gspread.Spreadsheet): Google Sheets document object\n",
        "\n",
        "    Returns:\n",
        "        gspread.Worksheet: sheet object\n",
        "    \"\"\"\n",
        "    try:\n",
        "        sheet = doc.worksheet(sheet_name)\n",
        "    except WorksheetNotFound:\n",
        "        print(\"CREATING NEW SHEET...\")\n",
        "        sheet = doc.add_worksheet(title=sheet_name, rows=\"10\", cols=\"10\")\n",
        "\n",
        "    return sheet\n",
        "\n",
        "\n",
        "sheet_name = \"daily-prices-nflx-copy\"\n",
        "sheet = find_or_create_sheet(sheet_name)\n",
        "print(\"SHEET:\", type(sheet), sheet.title)"
      ]
    },
    {
      "cell_type": "markdown",
      "metadata": {
        "id": "4qfNygdXXouQ"
      },
      "source": [
        "#### Writing Dataframes to Sheet"
      ]
    },
    {
      "cell_type": "code",
      "execution_count": 38,
      "metadata": {
        "id": "AtKttsA2XsGx"
      },
      "outputs": [],
      "source": [
        "def write_data_to_sheet(df, sheet):\n",
        "    \"\"\"Write dataframe contents to a given sheet.\n",
        "\n",
        "    Params:\n",
        "        df (pandas.DataFrame): dataframe you would like to write to sheet\n",
        "\n",
        "        sheet (gspread.Worksheet): sheet object you would like to write to\n",
        "    \"\"\"\n",
        "    header_row = df.columns.tolist()\n",
        "    rows = df.values.tolist()\n",
        "    assert len(header_row) == len(rows[0]) # same number of columns in all rows\n",
        "    all_rows = [header_row] + rows\n",
        "\n",
        "    sheet.clear()\n",
        "    sheet.update(all_rows)\n",
        "\n",
        "\n",
        "write_data_to_sheet(df, sheet)"
      ]
    },
    {
      "cell_type": "markdown",
      "metadata": {
        "id": "pqXYmNiWZWRJ"
      },
      "source": [
        "Verifying the data got written:\n"
      ]
    },
    {
      "cell_type": "code",
      "execution_count": 39,
      "metadata": {
        "colab": {
          "base_uri": "https://localhost:8080/"
        },
        "id": "NKIuS1MWZa22",
        "outputId": "f7274d0c-94b4-4d38-9677-08a8604f0c0e"
      },
      "outputs": [
        {
          "name": "stdout",
          "output_type": "stream",
          "text": [
            "daily-prices-nflx-copy\n",
            "5555\n"
          ]
        },
        {
          "data": {
            "text/plain": [
              "{'timestamp': '2024-06-17',\n",
              " 'open': 669.11,\n",
              " 'high': 682.7099,\n",
              " 'low': 665.1101,\n",
              " 'close': 675.83,\n",
              " 'adjusted_close': 675.83,\n",
              " 'volume': 3631184,\n",
              " 'dividend_amount': 0,\n",
              " 'split_coefficient': 1}"
            ]
          },
          "execution_count": 39,
          "metadata": {},
          "output_type": "execute_result"
        }
      ],
      "source": [
        "records = sheet.get_all_records()\n",
        "print(sheet.title)\n",
        "print(len(records))\n",
        "records[0]"
      ]
    }
  ],
  "metadata": {
    "colab": {
      "provenance": [],
      "toc_visible": true
    },
    "kernelspec": {
      "display_name": "Python 3",
      "name": "python3"
    },
    "language_info": {
      "name": "python"
    }
  },
  "nbformat": 4,
  "nbformat_minor": 0
}
