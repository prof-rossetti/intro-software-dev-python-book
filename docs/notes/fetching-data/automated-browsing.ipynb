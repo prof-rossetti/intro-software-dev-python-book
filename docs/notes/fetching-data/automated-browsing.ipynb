{
  "cells": [
    {
      "cell_type": "markdown",
      "metadata": {
        "id": "6-kzk8AA9MBI"
      },
      "source": [
        "# Automated Browsing w/ `selenium`"
      ]
    },
    {
      "cell_type": "markdown",
      "metadata": {
        "id": "lDHXBMBDn6kw"
      },
      "source": [
        "This chapter provides an example of automated web browsing capabilities using the `selenium` package.\n",
        "\n",
        "We use `selenium` when a simple HTTP request doesn't do the trick - perhaps when the pages we are trying to scrape are dynamically compiled via JavaScript (requiring a pause before all the elements are fully loaded), or when we need to perform certain interactions (like pressing buttons or typing text in input boxes). Selenium gives us the ability to programmatically interact with the websites we are browsing.\n",
        "\n"
      ]
    },
    {
      "cell_type": "markdown",
      "metadata": {
        "id": "tZyVh5Llo7_g"
      },
      "source": [
        "\n",
        "\n",
        "\n",
        "Selenium Resources:\n",
        "\n",
        "  + <https://github.com/SeleniumHQ/selenium/tree/trunk/py>\n",
        "  + <https://www.selenium.dev/selenium/docs/api/py/api.html>\n",
        "  + <https://selenium-python.readthedocs.io/index.html>"
      ]
    },
    {
      "cell_type": "markdown",
      "metadata": {
        "id": "5zyEFkMHzmzn"
      },
      "source": [
        ":::{.callout-note}\n",
        "When using `selenium` for automated web browsing locally, we can choose to browse in \"headless\" or \"non-headless\" mode. Non-headless will allow us to see the actual browser window, whereas headless mode will operate the browser without a window. When using `selenium` on a production server or in Colab, we will be operating in headless mode only.\n",
        ":::"
      ]
    },
    {
      "cell_type": "markdown",
      "metadata": {
        "id": "ONjbQwqYr9eL"
      },
      "source": [
        "## Setup"
      ]
    },
    {
      "cell_type": "markdown",
      "metadata": {
        "id": "6F__S5vMScyH"
      },
      "source": [
        "\n",
        "In practice, to make `selenium` work on a local machine, we might need to also download some dependencies such as the Chromedriver and Chrome browser binary files. However in Colab, we can interface with `selenium` using [the `google-colab-selenium` package](https://pypi.org/project/google-colab-selenium/), without needing to separately install these dependencies."
      ]
    },
    {
      "cell_type": "markdown",
      "metadata": {
        "id": "NBdofVUR9OeV"
      },
      "source": [
        "Installing the `google-colab-selenium` package:"
      ]
    },
    {
      "cell_type": "code",
      "execution_count": 1,
      "metadata": {
        "id": "Jnl1ReNfmfd5"
      },
      "outputs": [],
      "source": [
        "%%capture\n",
        "!pip install -q google-colab-selenium"
      ]
    },
    {
      "cell_type": "markdown",
      "metadata": {
        "id": "OqqRVeOYr0bE"
      },
      "source": [
        "## Web Scraping Limitations"
      ]
    },
    {
      "cell_type": "markdown",
      "metadata": {
        "id": "-Fe50TjD0qLN"
      },
      "source": [
        "In this example, we will scrape a list of startup companies from the Y Combinator website:\n",
        "\n",
        "<https://www.ycombinator.com/companies?batch=W24>\n",
        "\n"
      ]
    },
    {
      "cell_type": "markdown",
      "metadata": {
        "id": "aljZIJXuEFzb"
      },
      "source": [
        "As a part of our normal web scraping process, we visit the website manually in the browser, and inspect the contents of the page to find the selectors of the elements we care about.\n",
        "\n",
        "In this case, we see there are a number of `a` elements (i.e. hyperlinks), each with a class of `'_company_i9oky_355'`, which we can use to programmatically identify the companies. We also see that these company results are all nested inside a `div` element with a class of `\"_results_i9oky_343\"`.\n",
        "\n",
        "![Inspecting the underlying contents of the page.](../../images/yc-companies-inspect.png)\n",
        "\n",
        "\n",
        ":::{.callout-warning}\n",
        "You'll notice some of the selectors are specific to this particular page, and may change over time. If the webmaster changes the selectors, we would have to update our solution code.\n",
        ":::"
      ]
    },
    {
      "cell_type": "markdown",
      "metadata": {
        "id": "5uhyQPumFvWi"
      },
      "source": [
        "Our usual next step would be to try [scraping](./html-web-scraping.qmd) the page with a normal HTTP request using the `requests` package, and then using the `BeautifulSoup` package to parse the page contents:"
      ]
    },
    {
      "cell_type": "code",
      "execution_count": 2,
      "metadata": {
        "id": "tUrm029WD4wl"
      },
      "outputs": [],
      "source": [
        "import requests\n",
        "\n",
        "page_url = \"https://www.ycombinator.com/companies?batch=W24\"\n",
        "response = requests.get(page_url)"
      ]
    },
    {
      "cell_type": "code",
      "execution_count": null,
      "metadata": {
        "id": "j4HUuX88J1iT"
      },
      "outputs": [],
      "source": [
        "from bs4 import BeautifulSoup\n",
        "\n",
        "soup = BeautifulSoup(response.text, 'html.parser')"
      ]
    },
    {
      "cell_type": "markdown",
      "metadata": {
        "id": "7_P7nKTNexfY"
      },
      "source": [
        "However after doing so, we find the requested page actually doesn't have the same content we see in the browser.\n"
      ]
    },
    {
      "cell_type": "code",
      "execution_count": 3,
      "metadata": {
        "colab": {
          "base_uri": "https://localhost:8080/"
        },
        "id": "zhZFOfx6ev-k",
        "outputId": "af52a9c8-584f-445b-94eb-c4b06bd95fa3"
      },
      "outputs": [
        {
          "data": {
            "text/plain": [
              "False"
            ]
          },
          "execution_count": 3,
          "metadata": {},
          "output_type": "execute_result"
        }
      ],
      "source": [
        "companies = soup.find_all('a', \"_company_i9oky_355\")\n",
        "any(companies)"
      ]
    },
    {
      "cell_type": "markdown",
      "metadata": {
        "id": "r5VywpahKqBr"
      },
      "source": [
        "\n",
        "It looks like the page we requested programmatically has not yet been fully loaded with the page contents we care about. In practice, this may happen sometimes when certain page contents are populated dynamically (for example using an external API or data source).\n",
        "\n",
        "To troubleshoot, to make sure we aren't getting the selectors wrong by accident, we can save the HTML contents to file, download the HTML file to our local machine, and open it in a browser to verify this page looks different / incomplete:\n"
      ]
    },
    {
      "cell_type": "code",
      "execution_count": 4,
      "metadata": {
        "id": "M9zDo-pWKnA0"
      },
      "outputs": [],
      "source": [
        "# save page source as html file to colab filesystem (for inspection):\n",
        "with open(\"companies_page_incomplete.html\", \"w\") as f:\n",
        "    f.write(response.text)"
      ]
    },
    {
      "cell_type": "markdown",
      "metadata": {
        "id": "tUtRIp_Ezmzr"
      },
      "source": [
        "After downloading this HTML file and opening the resulting file in our browser, we see that when the page originally loads, it doesn't have the list of companies we care about:"
      ]
    },
    {
      "cell_type": "markdown",
      "metadata": {
        "id": "0btS7OxtNUNQ"
      },
      "source": [
        "![Inspecting the page to see the content has not yet been loaded.](../../images/yc-startups-page-loading.png)"
      ]
    },
    {
      "cell_type": "markdown",
      "metadata": {
        "id": "p3wqFrdeLLFh"
      },
      "source": [
        "## Automated Browsing Solution"
      ]
    },
    {
      "cell_type": "markdown",
      "metadata": {
        "id": "1TiN65k3G8B0"
      },
      "source": [
        "\n",
        "\n",
        "This motivates us to try an automated browsing solution instead, which will sometimes allow the page to fully load.\n",
        "\n",
        "In some cases, the page might load automatically after a few seconds, while in other cases we can program in some hard-coded \"sleep\" time, or explicitly tell `selenium` to \"wait\" for certain elements to appear on the page before proceeding."
      ]
    },
    {
      "cell_type": "markdown",
      "metadata": {
        "id": "PLgTdkmzM7Uv"
      },
      "source": [
        "Initializing the web driver:"
      ]
    },
    {
      "cell_type": "code",
      "execution_count": 5,
      "metadata": {
        "colab": {
          "base_uri": "https://localhost:8080/",
          "height": 79
        },
        "id": "IebAh39Y06QH",
        "outputId": "b4c5ad4a-1db3-4653-941d-7bebeab3658e"
      },
      "outputs": [
        {
          "data": {
            "text/html": [
              "\n",
              "            <div class=\"spinner-container\">\n",
              "                <div class=\"spinner\" id=\"105b10ab-be7e-4710-bef5-34208375930b-circle\"></div>\n",
              "                <div class=\"spinner-text\" id=\"105b10ab-be7e-4710-bef5-34208375930b-text\">Updating and upgrading APT</div>\n",
              "            </div>\n",
              "            <style>\n",
              "                @keyframes spin {\n",
              "                    from { transform: rotate(0deg); }\n",
              "                    to { transform: rotate(360deg); }\n",
              "                }\n",
              "\n",
              "                .spinner-container {\n",
              "                    display: flex;\n",
              "                    align-items: center;\n",
              "                    margin-bottom: 3px;\n",
              "                }\n",
              "\n",
              "                .spinner {\n",
              "                    border: 3px solid rgba(0, 0, 0, 0.1);\n",
              "                    border-left-color: lightblue;\n",
              "                    border-radius: 50%;\n",
              "                    width: 12px;\n",
              "                    height: 12px;\n",
              "                    animation: spin 1s linear infinite;\n",
              "                }\n",
              "\n",
              "                .spinner-text {\n",
              "                    padding-left: 6px;\n",
              "                }\n",
              "            </style>\n",
              "        "
            ],
            "text/plain": [
              "<IPython.core.display.HTML object>"
            ]
          },
          "metadata": {},
          "output_type": "display_data"
        },
        {
          "data": {
            "application/javascript": "\n            const element = document.getElementById(\"105b10ab-be7e-4710-bef5-34208375930b-circle\");\n            element.style.border = \"3px solid limegreen\";\n            element.style.animation = \"none\";\n\n            const text = document.getElementById(\"105b10ab-be7e-4710-bef5-34208375930b-text\");\n            text.innerText = \"Updated and upgraded APT\";\n        ",
            "text/plain": [
              "<IPython.core.display.Javascript object>"
            ]
          },
          "metadata": {},
          "output_type": "display_data"
        },
        {
          "data": {
            "text/html": [
              "\n",
              "            <div class=\"spinner-container\">\n",
              "                <div class=\"spinner\" id=\"839a517c-129d-46ed-be45-835b84d1b381-circle\"></div>\n",
              "                <div class=\"spinner-text\" id=\"839a517c-129d-46ed-be45-835b84d1b381-text\">Downloading Google Chrome</div>\n",
              "            </div>\n",
              "            <style>\n",
              "                @keyframes spin {\n",
              "                    from { transform: rotate(0deg); }\n",
              "                    to { transform: rotate(360deg); }\n",
              "                }\n",
              "\n",
              "                .spinner-container {\n",
              "                    display: flex;\n",
              "                    align-items: center;\n",
              "                    margin-bottom: 3px;\n",
              "                }\n",
              "\n",
              "                .spinner {\n",
              "                    border: 3px solid rgba(0, 0, 0, 0.1);\n",
              "                    border-left-color: lightblue;\n",
              "                    border-radius: 50%;\n",
              "                    width: 12px;\n",
              "                    height: 12px;\n",
              "                    animation: spin 1s linear infinite;\n",
              "                }\n",
              "\n",
              "                .spinner-text {\n",
              "                    padding-left: 6px;\n",
              "                }\n",
              "            </style>\n",
              "        "
            ],
            "text/plain": [
              "<IPython.core.display.HTML object>"
            ]
          },
          "metadata": {},
          "output_type": "display_data"
        },
        {
          "data": {
            "application/javascript": "\n            const element = document.getElementById(\"839a517c-129d-46ed-be45-835b84d1b381-circle\");\n            element.style.border = \"3px solid limegreen\";\n            element.style.animation = \"none\";\n\n            const text = document.getElementById(\"839a517c-129d-46ed-be45-835b84d1b381-text\");\n            text.innerText = \"Downloaded Google Chrome\";\n        ",
            "text/plain": [
              "<IPython.core.display.Javascript object>"
            ]
          },
          "metadata": {},
          "output_type": "display_data"
        },
        {
          "data": {
            "text/html": [
              "\n",
              "            <div class=\"spinner-container\">\n",
              "                <div class=\"spinner\" id=\"ba2dab6d-adae-4c80-8f16-bc76d67f4183-circle\"></div>\n",
              "                <div class=\"spinner-text\" id=\"ba2dab6d-adae-4c80-8f16-bc76d67f4183-text\">Initializing Chromedriver</div>\n",
              "            </div>\n",
              "            <style>\n",
              "                @keyframes spin {\n",
              "                    from { transform: rotate(0deg); }\n",
              "                    to { transform: rotate(360deg); }\n",
              "                }\n",
              "\n",
              "                .spinner-container {\n",
              "                    display: flex;\n",
              "                    align-items: center;\n",
              "                    margin-bottom: 3px;\n",
              "                }\n",
              "\n",
              "                .spinner {\n",
              "                    border: 3px solid rgba(0, 0, 0, 0.1);\n",
              "                    border-left-color: lightblue;\n",
              "                    border-radius: 50%;\n",
              "                    width: 12px;\n",
              "                    height: 12px;\n",
              "                    animation: spin 1s linear infinite;\n",
              "                }\n",
              "\n",
              "                .spinner-text {\n",
              "                    padding-left: 6px;\n",
              "                }\n",
              "            </style>\n",
              "        "
            ],
            "text/plain": [
              "<IPython.core.display.HTML object>"
            ]
          },
          "metadata": {},
          "output_type": "display_data"
        },
        {
          "data": {
            "application/javascript": "\n            const element = document.getElementById(\"ba2dab6d-adae-4c80-8f16-bc76d67f4183-circle\");\n            element.style.border = \"3px solid limegreen\";\n            element.style.animation = \"none\";\n\n            const text = document.getElementById(\"ba2dab6d-adae-4c80-8f16-bc76d67f4183-text\");\n            text.innerText = \"Initialized Chromedriver\";\n        ",
            "text/plain": [
              "<IPython.core.display.Javascript object>"
            ]
          },
          "metadata": {},
          "output_type": "display_data"
        }
      ],
      "source": [
        "from google_colab_selenium import Chrome\n",
        "\n",
        "driver = Chrome()"
      ]
    },
    {
      "cell_type": "markdown",
      "metadata": {
        "id": "zkavMW6ATD5N"
      },
      "source": [
        "Browsing to the page:"
      ]
    },
    {
      "cell_type": "code",
      "execution_count": 6,
      "metadata": {
        "colab": {
          "base_uri": "https://localhost:8080/"
        },
        "id": "obwuddRNLJ75",
        "outputId": "c3728038-dada-4178-ea62-5757f47f1e4c"
      },
      "outputs": [
        {
          "name": "stdout",
          "output_type": "stream",
          "text": [
            "The YC Startup Directory | Y Combinator\n"
          ]
        }
      ],
      "source": [
        "page_url = \"https://www.ycombinator.com/companies?batch=W24\"\n",
        "driver.get(page_url)\n",
        "print(driver.title)"
      ]
    },
    {
      "cell_type": "markdown",
      "metadata": {
        "id": "1SuvvN0LH3xX"
      },
      "source": [
        "We want to wait until the expected content has been loaded. In this case we can wait for a `<div>` element that has a class of `\"_results_i9oky_343\"`, which will contain  the company results we are looking for:"
      ]
    },
    {
      "cell_type": "code",
      "execution_count": 13,
      "metadata": {
        "colab": {
          "base_uri": "https://localhost:8080/"
        },
        "id": "nhjTA982IWR4",
        "outputId": "5592427d-a09e-475f-a5d7-4e1392117f67"
      },
      "outputs": [
        {
          "data": {
            "text/plain": [
              "<selenium.webdriver.remote.webelement.WebElement (session=\"67cfbf463c3a7a7c982226f9462802a4\", element=\"f.A0D28226BF6AE577A30B2CE75CB08686.d.EC3750904012B0862E6519250A3F1412.e.92\")>"
            ]
          },
          "execution_count": 13,
          "metadata": {},
          "output_type": "execute_result"
        }
      ],
      "source": [
        "from selenium.webdriver.common.by import By\n",
        "from selenium.webdriver.support.ui import WebDriverWait\n",
        "from selenium.webdriver.support import expected_conditions as EC\n",
        "\n",
        "WebDriverWait(driver, 15).until(\n",
        "    EC.presence_of_element_located((By.CLASS_NAME, \"_results_i9oky_343\"))\n",
        ")"
      ]
    },
    {
      "cell_type": "markdown",
      "metadata": {
        "id": "Jj5XICoWzmzr"
      },
      "source": [
        "To check if the page content has been loaded, we can use the driver object's `save_screenshot` method to save an image of the page, which we can then view:"
      ]
    },
    {
      "cell_type": "code",
      "execution_count": 14,
      "metadata": {
        "colab": {
          "base_uri": "https://localhost:8080/",
          "height": 317
        },
        "id": "02Fw5gH5Gg6q",
        "outputId": "43ec8eaf-f6a7-4a80-ec05-3dc4f7a4c67f"
      },
      "outputs": [
        {
          "data": {
            "image/png": "[encoded data removed]",
            "text/plain": [
              "<IPython.core.display.Image object>"
            ]
          },
          "metadata": {
            "image/png": {
              "height": 300
            }
          },
          "output_type": "display_data"
        }
      ],
      "source": [
        "from IPython.display import Image, display\n",
        "\n",
        "image_filename = \"companies_page_loaded.png\"\n",
        "driver.save_screenshot(image_filename)\n",
        "display(Image(filename=image_filename, height=300))"
      ]
    },
    {
      "cell_type": "markdown",
      "metadata": {
        "id": "58rPtREfOKuf"
      },
      "source": [
        "Alright, now it looks like the page content is fully loaded!"
      ]
    },
    {
      "cell_type": "markdown",
      "metadata": {
        "id": "91iy01pRpJxH"
      },
      "source": [
        "At this point we return to our initial attempt to use `BeautifulSoup` to parse the page, however this time we pass the driver object's `page_source` property  instead:"
      ]
    },
    {
      "cell_type": "code",
      "execution_count": 15,
      "metadata": {
        "id": "H4qMXmNrfTv1"
      },
      "outputs": [],
      "source": [
        "from bs4 import BeautifulSoup\n",
        "\n",
        "soup = BeautifulSoup(driver.page_source, 'html.parser')"
      ]
    },
    {
      "cell_type": "code",
      "execution_count": 16,
      "metadata": {
        "colab": {
          "base_uri": "https://localhost:8080/"
        },
        "id": "rMYMDH5IAM58",
        "outputId": "c16abe9d-cd1e-4624-dca1-4ccec81c9509"
      },
      "outputs": [
        {
          "data": {
            "text/plain": [
              "True"
            ]
          },
          "execution_count": 16,
          "metadata": {},
          "output_type": "execute_result"
        }
      ],
      "source": [
        "companies = soup.find_all('a', \"_company_i9oky_355\")\n",
        "any(companies)"
      ]
    },
    {
      "cell_type": "markdown",
      "metadata": {
        "id": "N9kBFl79GoqY"
      },
      "source": [
        "Now we do have access to the content we care about!"
      ]
    },
    {
      "cell_type": "code",
      "execution_count": 17,
      "metadata": {
        "colab": {
          "base_uri": "https://localhost:8080/"
        },
        "id": "SoakbVrWUWd7",
        "outputId": "c48b0497-0035-4308-8ecc-658b179f10ad"
      },
      "outputs": [
        {
          "name": "stdout",
          "output_type": "stream",
          "text": [
            "40\n"
          ]
        }
      ],
      "source": [
        "print(len(companies))"
      ]
    },
    {
      "cell_type": "markdown",
      "metadata": {
        "id": "OpBqhFCRzmzs"
      },
      "source": [
        "We can inspect the first company to get a sense of the structure:"
      ]
    },
    {
      "cell_type": "code",
      "execution_count": 25,
      "metadata": {
        "colab": {
          "base_uri": "https://localhost:8080/"
        },
        "id": "PfjbkGf5UXwm",
        "outputId": "ae4fe78b-df7a-4d43-80f1-3ba84feb38f6"
      },
      "outputs": [
        {
          "name": "stdout",
          "output_type": "stream",
          "text": [
            "<class 'bs4.element.Tag'>\n",
            "----------\n",
            "<a class=\"_company_i9oky_355\" href=\"/companies/indemni\">\n",
            " <div class=\"relative flex w-full items-center justify-start\">\n",
            "  <div class=\"flex w-20 shrink-0 grow-0 basis-20 items-center pr-4\">\n",
            "   <img alt=\"\" class=\"rounded-full bg-gray-100\" role=\"presentation\" src=\"https://bookface-images.s3.amazonaws.com/small_logos/a1ed866a0e050a4d9f6c6aeb931483100a8fcbbb.png\"/>\n",
            "  </div>\n",
            "  <div class=\"flex flex-1 items-center justify-between\">\n",
            "   <div class=\"lg:max-w-[90%]\">\n",
            "    <div>\n",
            "     <span class=\"_coName_i9oky_470\">\n",
            "      Indemni\n",
            "     </span>\n",
            "     <span class=\"_coLocation_i9oky_486\">\n",
            "      San Francisco, CA, USA\n",
            "     </span>\n",
            "    </div>\n",
            "    <div>\n",
            "     <span class=\"_coDescription_i9oky_495\">\n",
            "      Cargo Theft and Fraud Prevention Platform\n",
            "     </span>\n",
            "    </div>\n",
            "    <div class=\"_pillWrapper_i9oky_33\">\n",
            "     <a class=\"_tagLink_i9oky_1040\" href=\"/companies?batch=W24\" target=\"_blank\">\n",
            "      <span class=\"pill _pill_i9oky_33\">\n",
            "       <svg aria-hidden=\"true\" class=\"svg-inline--fa fa-y-combinator fa-fw\" data-icon=\"y-combinator\" data-prefix=\"fab\" focusable=\"false\" role=\"img\" viewbox=\"0 0 448 512\" xmlns=\"http://www.w3.org/2000/svg\">\n",
            "        <path d=\"M448 32v448H0V32h448zM236 287.5L313.5 142h-32.7L235 233c-4.7 9.3-9 18.3-12.8 26.8L210 233l-45.2-91h-35l76.7 143.8v94.5H236v-92.8z\" fill=\"currentColor\">\n",
            "        </path>\n",
            "       </svg>\n",
            "       W24\n",
            "      </span>\n",
            "     </a>\n",
            "     <a class=\"_tagLink_i9oky_1040\" href=\"/companies?industry=B2B\" target=\"_blank\">\n",
            "      <span class=\"pill _pill_i9oky_33\">\n",
            "       B2B\n",
            "      </span>\n",
            "     </a>\n",
            "     <a class=\"_tagLink_i9oky_1040\" href=\"/companies?industry=Supply Chain and Logistics\" target=\"_blank\">\n",
            "      <span class=\"pill _pill_i9oky_33\">\n",
            "       Supply Chain and Logistics\n",
            "      </span>\n",
            "     </a>\n",
            "    </div>\n",
            "   </div>\n",
            "  </div>\n",
            " </div>\n",
            "</a>\n",
            "\n"
          ]
        }
      ],
      "source": [
        "company = companies[0]\n",
        "print(type(company))\n",
        "print(\"----------\")\n",
        "print(company.prettify())"
      ]
    },
    {
      "cell_type": "markdown",
      "metadata": {
        "id": "5HAWaFlPO1I0"
      },
      "source": [
        "This helps us understand the structure of each company's information on the page. In this case, we see each company has a child `<img>` element to display the company image, and various `<span>` elements for displaying the company name, description, and location:\n",
        "\n"
      ]
    },
    {
      "cell_type": "code",
      "execution_count": 26,
      "metadata": {
        "colab": {
          "base_uri": "https://localhost:8080/",
          "height": 191
        },
        "id": "6jq09LMYMLyc",
        "outputId": "0f02b424-c2ec-4add-8441-a1f39df7baf4"
      },
      "outputs": [
        {
          "data": {
            "text/html": [
              "<img src=\"https://bookface-images.s3.amazonaws.com/small_logos/a1ed866a0e050a4d9f6c6aeb931483100a8fcbbb.png\" height=\"100\"/>"
            ],
            "text/plain": [
              "<IPython.core.display.Image object>"
            ]
          },
          "metadata": {},
          "output_type": "display_data"
        },
        {
          "name": "stdout",
          "output_type": "stream",
          "text": [
            "Indemni\n",
            "San Francisco, CA, USA\n",
            "Cargo Theft and Fraud Prevention Platform\n",
            "https://www.ycombinator.com/companies/indemni\n"
          ]
        }
      ],
      "source": [
        "img = company.find(\"img\")\n",
        "img_url = img.attrs[\"src\"]\n",
        "display(Image(url=img_url, height=100))\n",
        "\n",
        "name = company.find(\"span\", \"_coName_i9oky_470\")\n",
        "print(name.text)\n",
        "\n",
        "loc = company.find(\"span\", \"_coLocation_i9oky_486\")\n",
        "print(loc.text)\n",
        "\n",
        "desc = company.find(\"span\", \"_coDescription_i9oky_495\")\n",
        "print(desc.text)\n",
        "\n",
        "href = company.attrs[\"href\"]\n",
        "print(f\"https://www.ycombinator.com{href}\")"
      ]
    },
    {
      "cell_type": "markdown",
      "metadata": {
        "id": "jBq4Sq04MLAZ"
      },
      "source": [
        "We can now loop through all the companies (or for demonstration purposes, just the first five) to automate the process of gathering and/or displaying this data:"
      ]
    },
    {
      "cell_type": "code",
      "execution_count": 30,
      "metadata": {
        "colab": {
          "base_uri": "https://localhost:8080/"
        },
        "id": "8nXhst6MMizg",
        "outputId": "dc3dfc6e-38a5-4466-9cae-db4be1bff6bf"
      },
      "outputs": [
        {
          "name": "stdout",
          "output_type": "stream",
          "text": [
            "----------------\n",
            "Indemni\n",
            "San Francisco, CA, USA\n",
            "Cargo Theft and Fraud Prevention Platform\n",
            "----------------\n",
            "ParcelBio\n",
            "San Francisco, CA, USA\n",
            "Next-generation mRNA medicines\n",
            "----------------\n",
            "K-Scale Labs\n",
            "Palo Alto, CA, USA\n",
            "Open-source humanoid robots\n",
            "----------------\n",
            "Marr Labs\n",
            "San Francisco, CA, USA\n",
            "AI-voice agents that are indistinguishable from humans.\n",
            "----------------\n",
            "Forge Rewards\n",
            "San Francisco, CA, USA\n",
            "Starbucks app for restaurants\n"
          ]
        }
      ],
      "source": [
        "for company in companies[0:5]:\n",
        "    print(\"----------------\")\n",
        "\n",
        "    name = company.find(\"span\", \"_coName_i9oky_470\")\n",
        "    print(name.text)\n",
        "\n",
        "    loc = company.find(\"span\", \"_coLocation_i9oky_486\")\n",
        "    print(loc.text)\n",
        "\n",
        "    desc = company.find(\"span\", \"_coDescription_i9oky_495\")\n",
        "    print(desc.text)\n"
      ]
    },
    {
      "cell_type": "markdown",
      "metadata": {
        "id": "OQYGvIbvztEP"
      },
      "source": [
        "Finally, as a best practice, once we are done, we shut down the web driver, to save memory:"
      ]
    },
    {
      "cell_type": "code",
      "execution_count": 23,
      "metadata": {
        "id": "W4rqeliFpU-F"
      },
      "outputs": [],
      "source": [
        "driver.quit()"
      ]
    },
    {
      "cell_type": "markdown",
      "metadata": {
        "id": "VYBGnDFLABSD"
      },
      "source": [
        "That's it, you are automated browsing like a pro!"
      ]
    }
  ],
  "metadata": {
    "colab": {
      "provenance": []
    },
    "kernelspec": {
      "display_name": "Python 3",
      "name": "python3"
    },
    "language_info": {
      "name": "python"
    }
  },
  "nbformat": 4,
  "nbformat_minor": 0
}
