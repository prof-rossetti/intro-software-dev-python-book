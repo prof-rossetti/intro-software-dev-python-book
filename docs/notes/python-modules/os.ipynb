{
 "cells": [
  {
   "cell_type": "markdown",
   "metadata": {
    "id": "qNAdiHklyLhf"
   },
   "source": [
    "# The `os` Module"
   ]
  },
  {
   "cell_type": "markdown",
   "metadata": {
    "id": "vgTIx3lx4QMT"
   },
   "source": [
    "## Filesystem Operations\n"
   ]
  },
  {
   "cell_type": "markdown",
   "metadata": {
    "id": "FzZ8bCfCodn6"
   },
   "source": [
    "\n",
    "The [`os` module](https://docs.python.org/3/library/os.html) helps us access and manipulate the file system.\n",
    "\n",
    "\n"
   ]
  },
  {
   "cell_type": "markdown",
   "metadata": {
    "id": "tHcQfhazBX2m"
   },
   "source": [
    "### Current Working Directory"
   ]
  },
  {
   "cell_type": "markdown",
   "metadata": {
    "id": "o0EYbKxJpScy"
   },
   "source": [
    "Detecting the name of the current working directory, using the [`getcwd` function](https://docs.python.org/3/library/os.html#os.getcwd):"
   ]
  },
  {
   "cell_type": "code",
   "execution_count": 1,
   "metadata": {
    "colab": {
     "base_uri": "https://localhost:8080/",
     "height": 35
    },
    "id": "ZiSowuruobqs",
    "outputId": "517edc8c-bcd3-4689-f038-779814517482"
   },
   "outputs": [
    {
     "data": {
      "application/vnd.google.colaboratory.intrinsic+json": {
       "type": "string"
      },
      "text/plain": [
       "'/content'"
      ]
     },
     "execution_count": 1,
     "metadata": {},
     "output_type": "execute_result"
    }
   ],
   "source": [
    "import os\n",
    "\n",
    "os.getcwd()"
   ]
  },
  {
   "cell_type": "markdown",
   "metadata": {
    "id": "pVJCJphfBX2o"
   },
   "source": [
    "We see in Google Colab the default working directory is called \"content\"."
   ]
  },
  {
   "cell_type": "markdown",
   "metadata": {
    "id": "CtE1TQbIBX2o"
   },
   "source": [
    "### Listing Files"
   ]
  },
  {
   "cell_type": "markdown",
   "metadata": {
    "id": "DpkyEiouqLXg"
   },
   "source": [
    "Listing all files and folders that exist in a given directory (for example in the \"content\" directory where we are right now), using the [`listdir` function](https://docs.python.org/3/library/os.html#os.listdir):"
   ]
  },
  {
   "cell_type": "code",
   "execution_count": 2,
   "metadata": {
    "colab": {
     "base_uri": "https://localhost:8080/"
    },
    "id": "stXz9D5PqOfC",
    "outputId": "0aa7e816-3dee-48a4-b945-f95db7179f6d"
   },
   "outputs": [
    {
     "data": {
      "text/plain": [
       "['.config', 'sample_data']"
      ]
     },
     "execution_count": 2,
     "metadata": {},
     "output_type": "execute_result"
    }
   ],
   "source": [
    "os.listdir(\"/content\")"
   ]
  },
  {
   "cell_type": "markdown",
   "metadata": {
    "id": "0tzsYbvrrRsR"
   },
   "source": [
    "We see there is a \"sample_data\" directory.\n",
    "\n",
    "After further inspection, we see it contains some example text and data files:"
   ]
  },
  {
   "cell_type": "code",
   "execution_count": 3,
   "metadata": {
    "colab": {
     "base_uri": "https://localhost:8080/"
    },
    "id": "3Zjx7ZzJCdNG",
    "outputId": "dcc98d5d-12e0-4b47-b812-5230ad3c5448"
   },
   "outputs": [
    {
     "data": {
      "text/plain": [
       "['anscombe.json',\n",
       " 'README.md',\n",
       " 'california_housing_train.csv',\n",
       " 'mnist_train_small.csv',\n",
       " 'mnist_test.csv',\n",
       " 'california_housing_test.csv']"
      ]
     },
     "execution_count": 3,
     "metadata": {},
     "output_type": "execute_result"
    }
   ],
   "source": [
    "os.listdir(\"/content/sample_data\")"
   ]
  },
  {
   "cell_type": "markdown",
   "metadata": {
    "id": "vKI0O7xwIMny"
   },
   "source": [
    ":::{.callout-note}\n",
    "So far we have used an absolute file reference, but since we are already in the \"content\" directory, it is possible to use a relative file references instead. These references are relative to the \"content\" directory, where we are right now."
   ]
  },
  {
   "cell_type": "code",
   "execution_count": 4,
   "metadata": {
    "colab": {
     "base_uri": "https://localhost:8080/"
    },
    "id": "wWzDFlsXLAi0",
    "outputId": "44e39f99-5815-410d-a7a3-ffac2fefcb94"
   },
   "outputs": [
    {
     "data": {
      "text/plain": [
       "['.config', 'sample_data']"
      ]
     },
     "execution_count": 4,
     "metadata": {},
     "output_type": "execute_result"
    }
   ],
   "source": [
    "os.listdir()"
   ]
  },
  {
   "cell_type": "code",
   "execution_count": 5,
   "metadata": {
    "colab": {
     "base_uri": "https://localhost:8080/"
    },
    "id": "yvofS2THINPI",
    "outputId": "fb385438-9aca-4e99-b22b-d0a3b9c3fb09"
   },
   "outputs": [
    {
     "data": {
      "text/plain": [
       "['anscombe.json',\n",
       " 'README.md',\n",
       " 'california_housing_train.csv',\n",
       " 'mnist_train_small.csv',\n",
       " 'mnist_test.csv',\n",
       " 'california_housing_test.csv']"
      ]
     },
     "execution_count": 5,
     "metadata": {},
     "output_type": "execute_result"
    }
   ],
   "source": [
    "os.listdir(\"sample_data\")"
   ]
  },
  {
   "cell_type": "markdown",
   "metadata": {},
   "source": [
    "For the remainder of this chapter we will continue using relative references, for simplicity."
   ]
  },
  {
   "cell_type": "markdown",
   "metadata": {
    "id": "RHrWnjdFJAHX"
   },
   "source": [
    ":::"
   ]
  },
  {
   "cell_type": "markdown",
   "metadata": {
    "id": "veHbkh2sBX2p"
   },
   "source": [
    "### Detecting Directories and Files"
   ]
  },
  {
   "cell_type": "markdown",
   "metadata": {
    "id": "z4JD64T3rcBq"
   },
   "source": [
    "Checking to see whether a given directory or file exists, using the `isdir` and `isfile` functions from the `os.path` sub-module:\n"
   ]
  },
  {
   "cell_type": "code",
   "execution_count": 6,
   "metadata": {
    "colab": {
     "base_uri": "https://localhost:8080/"
    },
    "id": "QtSSz9FiLnHj",
    "outputId": "44859195-f80a-46da-b2bb-05402519d374"
   },
   "outputs": [
    {
     "data": {
      "text/plain": [
       "True"
      ]
     },
     "execution_count": 6,
     "metadata": {},
     "output_type": "execute_result"
    }
   ],
   "source": [
    "os.path.isdir(\"sample_data\")"
   ]
  },
  {
   "cell_type": "code",
   "execution_count": 7,
   "metadata": {
    "colab": {
     "base_uri": "https://localhost:8080/"
    },
    "id": "RLZdJSILrgiy",
    "outputId": "ace33995-bd71-45e4-b39d-20ad16cf3c18"
   },
   "outputs": [
    {
     "data": {
      "text/plain": [
       "True"
      ]
     },
     "execution_count": 7,
     "metadata": {},
     "output_type": "execute_result"
    }
   ],
   "source": [
    "os.path.isfile(\"sample_data/README.md\")"
   ]
  },
  {
   "cell_type": "markdown",
   "metadata": {
    "id": "rC65gC5IBX2r"
   },
   "source": [
    "### Reading and Writing Files"
   ]
  },
  {
   "cell_type": "markdown",
   "metadata": {
    "id": "c84DC2iZr4Y_"
   },
   "source": [
    "See the [Text File Operations](../python-lang/file-operations.qmd) chapter for examples of how to read and write text files using the `open` function."
   ]
  },
  {
   "cell_type": "markdown",
   "metadata": {
    "id": "kvSy9q9PHpXq"
   },
   "source": [
    "See [Getting Started with Pandas](https://prof-rossetti.github.io/applied-data-science-python-book/notes/pandas/obtaining-dataframes.html) for examples of how to read and write tabular data files using the `pandas` package."
   ]
  },
  {
   "cell_type": "markdown",
   "metadata": {
    "id": "_17RzoYDBX2q"
   },
   "source": [
    "### Deleting Files"
   ]
  },
  {
   "cell_type": "code",
   "execution_count": 10,
   "metadata": {
    "colab": {
     "base_uri": "https://localhost:8080/"
    },
    "id": "it4IQL4sNC7o",
    "outputId": "55dc1ebc-ee67-4ec1-d8fd-8aaf2913fdb6"
   },
   "outputs": [
    {
     "data": {
      "text/plain": [
       "True"
      ]
     },
     "execution_count": 10,
     "metadata": {},
     "output_type": "execute_result"
    }
   ],
   "source": [
    "filepath = \"sample_data/anscombe.json\"\n",
    "\n",
    "# verifying the file exists:\n",
    "os.path.isfile(filepath)"
   ]
  },
  {
   "cell_type": "markdown",
   "metadata": {
    "id": "wLw8JfYL2tdc"
   },
   "source": [
    "Deleting a file, using the [`remove` function](https://docs.python.org/3/library/os.html#os.remove):"
   ]
  },
  {
   "cell_type": "code",
   "execution_count": 11,
   "metadata": {
    "id": "oGSWOswR2u9A"
   },
   "outputs": [],
   "source": [
    "os.remove(filepath)"
   ]
  },
  {
   "cell_type": "code",
   "execution_count": 12,
   "metadata": {
    "colab": {
     "base_uri": "https://localhost:8080/"
    },
    "id": "zLBd1XF-BdSo",
    "outputId": "eb30b9ef-4393-4997-dfab-d9fafa726358"
   },
   "outputs": [
    {
     "data": {
      "text/plain": [
       "False"
      ]
     },
     "execution_count": 12,
     "metadata": {},
     "output_type": "execute_result"
    }
   ],
   "source": [
    "# verifying the file was deleted:\n",
    "os.path.isfile(filepath)"
   ]
  },
  {
   "cell_type": "markdown",
   "metadata": {
    "id": "wYhlyEdzBX2q"
   },
   "source": [
    "### Creating Directories"
   ]
  },
  {
   "cell_type": "markdown",
   "metadata": {
    "id": "xgRz036LpyiW"
   },
   "source": [
    "Creating a new directory using the [`makedirs` function](https://docs.python.org/3/library/os.html#os.makedirs):"
   ]
  },
  {
   "cell_type": "code",
   "execution_count": 18,
   "metadata": {
    "id": "vugRrjZvpyA5"
   },
   "outputs": [],
   "source": [
    "os.makedirs(\"my_data\", exist_ok=True)"
   ]
  },
  {
   "cell_type": "code",
   "execution_count": 14,
   "metadata": {
    "colab": {
     "base_uri": "https://localhost:8080/"
    },
    "id": "hUSjUFttq24k",
    "outputId": "5ad3fd93-8221-40e9-89c9-13cdc10219aa"
   },
   "outputs": [
    {
     "data": {
      "text/plain": [
       "['.config', 'my_data', 'sample_data']"
      ]
     },
     "execution_count": 14,
     "metadata": {},
     "output_type": "execute_result"
    }
   ],
   "source": [
    "# verifying the \"my_data\" directory got created:\n",
    "os.listdir()"
   ]
  },
  {
   "cell_type": "code",
   "execution_count": 19,
   "metadata": {
    "id": "t_vqxL5IQuUZ"
   },
   "outputs": [],
   "source": [
    "#| echo: false\n",
    "\n",
    "#df.to_csv(\"my_data/california_housing_test.csv\", index=False)"
   ]
  },
  {
   "cell_type": "markdown",
   "metadata": {},
   "source": [
    "### Deleting Directories"
   ]
  },
  {
   "cell_type": "markdown",
   "metadata": {
    "id": "2rtE_R03PSFQ"
   },
   "source": [
    "To delete an empty directory, we can use the `rmdir` function from the `os` module, however it only works for empty directories and throws an error if the directory does not exist. So for a more robust solution, we can use the [`rmtree` function](https://docs.python.org/3/library/shutil.html#shutil.rmtree) from the `shutil` module:"
   ]
  },
  {
   "cell_type": "code",
   "execution_count": 21,
   "metadata": {
    "id": "x8cRgG0IPqo3"
   },
   "outputs": [],
   "source": [
    "#os.rmdir(\"my_data\")"
   ]
  },
  {
   "cell_type": "code",
   "execution_count": 16,
   "metadata": {
    "id": "LjpFLVTFOoIx"
   },
   "outputs": [],
   "source": [
    "from shutil import rmtree\n",
    "\n",
    "rmtree(\"my_data\", ignore_errors=True)"
   ]
  },
  {
   "cell_type": "code",
   "execution_count": 17,
   "metadata": {
    "colab": {
     "base_uri": "https://localhost:8080/"
    },
    "id": "fOk_jjKTOrgJ",
    "outputId": "c86a055e-3ba6-42dd-fdce-2bec8269b4e6"
   },
   "outputs": [
    {
     "data": {
      "text/plain": [
       "['.config', 'sample_data']"
      ]
     },
     "execution_count": 17,
     "metadata": {},
     "output_type": "execute_result"
    }
   ],
   "source": [
    "# verifying the \"my_data\" directory got deleted:\n",
    "os.listdir()"
   ]
  }
 ],
 "metadata": {
  "colab": {
   "provenance": []
  },
  "kernelspec": {
   "display_name": "Python 3",
   "name": "python3"
  },
  "language_info": {
   "name": "python"
  }
 },
 "nbformat": 4,
 "nbformat_minor": 0
}
