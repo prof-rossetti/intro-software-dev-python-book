{
  "cells": [
    {
      "cell_type": "markdown",
      "metadata": {
        "id": "GDv8Vk1NCFQm"
      },
      "source": [
        "# Python Language Overview"
      ]
    },
    {
      "cell_type": "markdown",
      "metadata": {
        "id": "zWrmRzdACHLe"
      },
      "source": [
        "Let's take a moment to familiarize ourselves with some basic Python language concepts, including comments, variables, and built-in functions.\n",
        "\n",
        "Each of these concepts are exemplified in the cell below:"
      ]
    },
    {
      "cell_type": "code",
      "execution_count": 1,
      "metadata": {
        "colab": {
          "base_uri": "https://localhost:8080/"
        },
        "id": "0cYpO1lQCWSs",
        "outputId": "4957ff6d-27a8-4a01-ed85-dd6ed636c4a8"
      },
      "outputs": [
        {
          "name": "stdout",
          "output_type": "stream",
          "text": [
            "HELLO WORLD!\n",
            "4\n"
          ]
        }
      ],
      "source": [
        "# this is a comment\n",
        "\n",
        "print(\"HELLO WORLD!\")\n",
        "\n",
        "x = 2 + 2\n",
        "print(x)"
      ]
    },
    {
      "cell_type": "markdown",
      "metadata": {
        "id": "ei4ec7BCC0gR"
      },
      "source": [
        "Let's debrief each of these concepts one at a time."
      ]
    },
    {
      "cell_type": "markdown",
      "metadata": {
        "id": "v0JOPTtRZnlD"
      },
      "source": [
        "## Comments"
      ]
    },
    {
      "cell_type": "markdown",
      "metadata": {
        "id": "uK1sNY_wC5sU"
      },
      "source": [
        "When programming, sometimes we want to accompany our code with **comments**, written in normal English.\n",
        "\n",
        "We use comments to explain the code, and provide context.\n",
        "\n",
        "In Python, we use the pound sign character (`#`) to introduce a comment:\n"
      ]
    },
    {
      "cell_type": "code",
      "execution_count": 2,
      "metadata": {
        "id": "67mKJuNeZXq8"
      },
      "outputs": [],
      "source": [
        "# this is a comment"
      ]
    },
    {
      "cell_type": "markdown",
      "metadata": {
        "id": "iQneWpEjDYtD"
      },
      "source": [
        "Observe that whatever text appears to the right of the comment is not executed. But any code to the left is still executed:"
      ]
    },
    {
      "cell_type": "code",
      "execution_count": 3,
      "metadata": {
        "colab": {
          "base_uri": "https://localhost:8080/"
        },
        "id": "nWpKwehQ75VC",
        "outputId": "ca6107b0-b3f1-46a9-dab7-248cfca358d4"
      },
      "outputs": [
        {
          "name": "stdout",
          "output_type": "stream",
          "text": [
            "HELLO\n"
          ]
        }
      ],
      "source": [
        "print(\"HELLO\") # this is still a comment"
      ]
    },
    {
      "cell_type": "markdown",
      "metadata": {
        "id": "MkywUTuQDXCq"
      },
      "source": [
        "In terms of practical usage of comments, in the classroom, we encourage students to use comments to cite or attribute sources of help:"
      ]
    },
    {
      "cell_type": "code",
      "execution_count": 4,
      "metadata": {
        "colab": {
          "base_uri": "https://localhost:8080/"
        },
        "id": "EvzqhHG27yuO",
        "outputId": "f36d7467-0dfe-4392-b7b7-bb48d3f77b4c"
      },
      "outputs": [
        {
          "name": "stdout",
          "output_type": "stream",
          "text": [
            "SOME CODE FROM ONLINE...\n",
            "SOME CODE FROM CHAT GPT...\n",
            "SOME CODE FROM ANOTHER STUDENT...\n"
          ]
        }
      ],
      "source": [
        "# adapted this code from url: ___________\n",
        "print(\"SOME CODE FROM ONLINE...\")\n",
        "\n",
        "# adapted this code from session with ChatGPT: ___________\n",
        "print(\"SOME CODE FROM CHAT GPT...\")\n",
        "\n",
        "# student ________ helped me with this code:\n",
        "print(\"SOME CODE FROM ANOTHER STUDENT...\")\n"
      ]
    },
    {
      "cell_type": "markdown",
      "metadata": {
        "id": "ccCC_c1fDfQP"
      },
      "source": [
        "Sometimes we will use comment blocks to organize sections of our code:"
      ]
    },
    {
      "cell_type": "code",
      "execution_count": 5,
      "metadata": {
        "colab": {
          "base_uri": "https://localhost:8080/"
        },
        "id": "4NDzJJA5DiQ3",
        "outputId": "bf2c9685-b429-4eba-f756-be66a1c43da7"
      },
      "outputs": [
        {
          "name": "stdout",
          "output_type": "stream",
          "text": [
            "HELLO\n",
            "4\n"
          ]
        }
      ],
      "source": [
        "#\n",
        "# THIS IS A SECTION OF MY CODE\n",
        "#\n",
        "\n",
        "print(\"HELLO\")\n",
        "\n",
        "#\n",
        "# THIS IS ANOTHER SECTION OF MY CODE\n",
        "#\n",
        "\n",
        "x = 2 + 2\n",
        "print(x)"
      ]
    },
    {
      "cell_type": "markdown",
      "metadata": {
        "id": "leDpOvx4FaCn"
      },
      "source": [
        "::: {.callout-tip title=\"Pro Tip\"}\n",
        "As a time saving tip for commenting out many lines of code at the same time, we can use a keyboard shortcut to perform a **vertical column selection**.\n",
        "\n",
        "To perform a vertical column selection:\n",
        "\n",
        "  1. Click the cursor on the first line where we want to start the selection (where we would type our first comment character)\n",
        "  2. Then press and hold \"shift + option\" on Mac, or \"shift + alt\" on Windows.\n",
        "  3. Then click and drag straight down, and release the keys you were holding.\n",
        "  4. Finally type a comment character (or whatever text you'd like), and notice it will be typed onto all the selected lines.\n",
        ":::"
      ]
    },
    {
      "cell_type": "markdown",
      "metadata": {
        "id": "Hz94QFoFDyRz"
      },
      "source": [
        "Feel free to use comments librally in your coding. There is no penalty for using comments!\n"
      ]
    },
    {
      "cell_type": "markdown",
      "metadata": {
        "id": "mKnAe26_Zp_H"
      },
      "source": [
        "## Variables"
      ]
    },
    {
      "cell_type": "markdown",
      "metadata": {
        "id": "jcOeApND1rSa"
      },
      "source": [
        "Let's move on to discussing **variables**.\n",
        "\n",
        "We use a variable to store a value for later. And anytime we reference that variable, we access whatever value it holds at the time we reference it.\n",
        "\n",
        "When storing variables, we use the equals sign (`=`) as the assignment operator. Whatever is on the right of the equals sign is stored in the variable on the left:"
      ]
    },
    {
      "cell_type": "code",
      "execution_count": 6,
      "metadata": {
        "colab": {
          "base_uri": "https://localhost:8080/"
        },
        "id": "bcZ0fYx9ZsqY",
        "outputId": "7accd52c-36ce-4ab5-9c56-9a4da86c67d5"
      },
      "outputs": [
        {
          "name": "stdout",
          "output_type": "stream",
          "text": [
            "5\n"
          ]
        }
      ],
      "source": [
        "x = 5\n",
        "print(x)"
      ]
    },
    {
      "cell_type": "code",
      "execution_count": 7,
      "metadata": {
        "colab": {
          "base_uri": "https://localhost:8080/"
        },
        "id": "3N5FwjJo134d",
        "outputId": "fe47890a-6579-456d-b326-1d26886a6b31"
      },
      "outputs": [
        {
          "name": "stdout",
          "output_type": "stream",
          "text": [
            "HELLO WORLD!\n"
          ]
        }
      ],
      "source": [
        "message = \"HELLO WORLD!\"\n",
        "print(message)"
      ]
    },
    {
      "cell_type": "markdown",
      "metadata": {
        "id": "fT4oqIk3zP_5"
      },
      "source": [
        "The name \"variable\" means that its value can change over time:"
      ]
    },
    {
      "cell_type": "code",
      "execution_count": 8,
      "metadata": {
        "colab": {
          "base_uri": "https://localhost:8080/"
        },
        "id": "UAw3sNcdvAPg",
        "outputId": "085ba5f3-c986-4aff-b05b-7393e0c469da"
      },
      "outputs": [
        {
          "name": "stdout",
          "output_type": "stream",
          "text": [
            "5\n",
            "10\n"
          ]
        }
      ],
      "source": [
        "x = 5\n",
        "print(x)\n",
        "\n",
        "x = 10\n",
        "print(x)"
      ]
    },
    {
      "cell_type": "markdown",
      "metadata": {
        "id": "cBnVnH0tG34E"
      },
      "source": [
        "Notice we can reference the variable's previous value when assigning a new value:"
      ]
    },
    {
      "cell_type": "code",
      "execution_count": 9,
      "metadata": {
        "colab": {
          "base_uri": "https://localhost:8080/"
        },
        "id": "Vml8zMC4UZiW",
        "outputId": "dbc14d1a-1330-410a-cb9e-1940e3803214"
      },
      "outputs": [
        {
          "name": "stdout",
          "output_type": "stream",
          "text": [
            "20\n",
            "30\n"
          ]
        }
      ],
      "source": [
        "x = x + 10\n",
        "print(x)\n",
        "\n",
        "x += 10 # FYI: += is a shorthand operator equivalent to this = this + that\n",
        "print(x)"
      ]
    },
    {
      "cell_type": "markdown",
      "metadata": {
        "id": "QiTDbHiZUdsh"
      },
      "source": [
        "Remember, whatever is on the right side of the equals sign will be evaluated first, then stored in the variable on the left."
      ]
    },
    {
      "cell_type": "markdown",
      "metadata": {
        "id": "4jpq-n6rHGHv"
      },
      "source": [
        "### Variable Naming Conventions"
      ]
    },
    {
      "cell_type": "markdown",
      "metadata": {
        "id": "mcA7CO7QzSYq"
      },
      "source": [
        "In spreadsheet software, we may be constrained to referenceing cells using variables like \"A2\" or \"C3\".\n",
        "\n",
        "However in Python we get to choose our own variable names.\n",
        "\n",
        "Let's prefer to use contextual variable names, which describe that the value is about, so when we read the code in English, we can understand what concept the variable is referencing.\n",
        "\n",
        "Notice, for variables with multiple words, we use snake case, (which is essentially all lowercase with underscores):"
      ]
    },
    {
      "cell_type": "code",
      "execution_count": 10,
      "metadata": {
        "colab": {
          "base_uri": "https://localhost:8080/"
        },
        "id": "Kt1NoMJpzUWe",
        "outputId": "c1cdec1b-021b-425b-a989-7ca85fa60b53"
      },
      "outputs": [
        {
          "name": "stdout",
          "output_type": "stream",
          "text": [
            "90\n"
          ]
        }
      ],
      "source": [
        "# s = 90 # OK\n",
        "# print(s)\n",
        "\n",
        "# speed = 90 # BETTER\n",
        "# print(speed)\n",
        "\n",
        "# speed mph = 90 # NOT VALID (CAN'T HAVE SPACES)\n",
        "\n",
        "speed_mph = 90 # BEST\n",
        "print(speed_mph)"
      ]
    },
    {
      "cell_type": "markdown",
      "metadata": {
        "id": "dt5--uk4IAi-"
      },
      "source": [
        "### Constants"
      ]
    },
    {
      "cell_type": "markdown",
      "metadata": {
        "id": "aH_dsbGZ19If"
      },
      "source": [
        "Sometimes you may see us use all capital letters for variables that are considered as \"constants\". A **constant** is a type of variable whose value we don't expect will change. For example:\n",
        "\n"
      ]
    },
    {
      "cell_type": "code",
      "execution_count": 11,
      "metadata": {
        "colab": {
          "base_uri": "https://localhost:8080/"
        },
        "id": "Ih_oA-5l2GnM",
        "outputId": "adb6cc80-e3ca-4d3c-c6cb-f7141cabd72a"
      },
      "outputs": [
        {
          "name": "stdout",
          "output_type": "stream",
          "text": [
            "3.14\n"
          ]
        }
      ],
      "source": [
        "MY_CONSTANT = 3.14\n",
        "print(MY_CONSTANT)"
      ]
    },
    {
      "cell_type": "markdown",
      "metadata": {
        "id": "AK89rVcBHwPk"
      },
      "source": [
        "In some languages, we will be prevented from updating the value of a constant, but in Python constants are just a naming convention (they don't actually prevent the value from being updated)."
      ]
    },
    {
      "cell_type": "markdown",
      "metadata": {
        "id": "FEOylvl1HnJR"
      },
      "source": [
        "Often in practice we may use a constant for configuration variables and notebook secrets.\n"
      ]
    },
    {
      "cell_type": "markdown",
      "metadata": {
        "id": "Z0olg9uzZudg"
      },
      "source": [
        "## Built-in Functions"
      ]
    },
    {
      "cell_type": "markdown",
      "metadata": {
        "id": "TzVJNhqLVjlv"
      },
      "source": [
        "In spreadsheet software, we have access to a number of built-in **functions** like \"SUM\" or \"VLOOKUP\".\n",
        "\n",
        "In Python, there are a number of [built-in functions](https://docs.python.org/3/library/functions.html) we can use as well."
      ]
    },
    {
      "cell_type": "markdown",
      "metadata": {
        "id": "Xo4V1R_JZwyr"
      },
      "source": [
        "### The `print` Function"
      ]
    },
    {
      "cell_type": "markdown",
      "metadata": {
        "id": "yI5f919vac_a"
      },
      "source": [
        "For example, the [`print` function](https://docs.python.org/3/library/functions.html#print) we have been using so far is one such built-in function.\n",
        "\n",
        "To understand how to use any built-in function, we must consult the function's documentation.\n",
        "\n",
        "The `print` function displays some values into the notebook's output. Whatever value we pass in will be displayed on its own line:"
      ]
    },
    {
      "cell_type": "code",
      "execution_count": 12,
      "metadata": {
        "colab": {
          "base_uri": "https://localhost:8080/"
        },
        "id": "oMv9KWZSa74T",
        "outputId": "7accb22f-fc78-4776-c9f6-a3598e10e2b0"
      },
      "outputs": [
        {
          "name": "stdout",
          "output_type": "stream",
          "text": [
            "HELLO WORLD\n",
            "4\n",
            "8\n"
          ]
        }
      ],
      "source": [
        "print(\"HELLO WORLD\")\n",
        "print(4)\n",
        "print(4 + 4)"
      ]
    },
    {
      "cell_type": "markdown",
      "metadata": {
        "id": "9rewVaTsZ7uM"
      },
      "source": [
        "#### Functions as Variables"
      ]
    },
    {
      "cell_type": "markdown",
      "metadata": {
        "id": "zeibKYN1ZoUy"
      },
      "source": [
        "Notice, when we are invoking or calling a function, we must use trailing parenthesis. Otherwise we are referencing the function as a variable, and not ever calling it:"
      ]
    },
    {
      "cell_type": "code",
      "execution_count": 13,
      "metadata": {
        "colab": {
          "base_uri": "https://localhost:8080/"
        },
        "id": "ccC4bP22ABUp",
        "outputId": "1fcf59cc-6947-43bb-ba1d-a2a1d9e32afb"
      },
      "outputs": [
        {
          "data": {
            "text/plain": [
              "<function print(*args, sep=' ', end='\\n', file=None, flush=False)>"
            ]
          },
          "execution_count": 13,
          "metadata": {},
          "output_type": "execute_result"
        }
      ],
      "source": [
        "print # DON'T DO THIS"
      ]
    },
    {
      "cell_type": "markdown",
      "metadata": {
        "id": "aXFiEbNJaEjc"
      },
      "source": [
        "We generally don't want to do this, unless we are aliasing the function for some reason (which you may never need to do):"
      ]
    },
    {
      "cell_type": "code",
      "execution_count": 14,
      "metadata": {
        "id": "EBe9MBxKaFMe"
      },
      "outputs": [
        {
          "name": "stdout",
          "output_type": "stream",
          "text": [
            "HELLO WORLD\n"
          ]
        }
      ],
      "source": [
        "# storing the capabilities of the print function in a new function called my_print\n",
        "my_print = print\n",
        "\n",
        "# now the alias my_print has the same capabilities of the original print function:\n",
        "my_print(\"HELLO WORLD\")"
      ]
    },
    {
      "cell_type": "markdown",
      "metadata": {
        "id": "tfn4pSyqYBao"
      },
      "source": [
        "#### Printing vs Mentioning Last"
      ]
    },
    {
      "cell_type": "markdown",
      "metadata": {
        "id": "p6EdxV51zJic"
      },
      "source": [
        "In a Python notebook, we can omit printing if we simply just mention a variable as the very last line executed at the bottom of a cell.\n",
        "\n"
      ]
    },
    {
      "cell_type": "code",
      "execution_count": 15,
      "metadata": {
        "colab": {
          "base_uri": "https://localhost:8080/"
        },
        "id": "vySVZPohaljm",
        "outputId": "07f62179-c456-4a21-fb94-4faf4ace134d"
      },
      "outputs": [
        {
          "data": {
            "text/plain": [
              "10"
            ]
          },
          "execution_count": 15,
          "metadata": {},
          "output_type": "execute_result"
        }
      ],
      "source": [
        "x = 10\n",
        "x # we see this because it has been mentioned last"
      ]
    },
    {
      "cell_type": "code",
      "execution_count": 16,
      "metadata": {
        "colab": {
          "base_uri": "https://localhost:8080/"
        },
        "id": "gFoLKN41WjTs",
        "outputId": "ddd872b6-b477-4e69-a017-22d1d31d9c3c"
      },
      "outputs": [
        {
          "name": "stdout",
          "output_type": "stream",
          "text": [
            "10\n"
          ]
        },
        {
          "data": {
            "text/plain": [
              "20"
            ]
          },
          "execution_count": 16,
          "metadata": {},
          "output_type": "execute_result"
        }
      ],
      "source": [
        "x = 10\n",
        "print(x)\n",
        "\n",
        "y = 20\n",
        "y # we see this because it has been mentioned last"
      ]
    },
    {
      "cell_type": "markdown",
      "metadata": {
        "id": "6VCKDRorWsgm"
      },
      "source": [
        "Notice, the value has to be the last value in a cell. If you forget to print a value that appears earlier in the cell, it won't be printed:"
      ]
    },
    {
      "cell_type": "code",
      "execution_count": 17,
      "metadata": {
        "colab": {
          "base_uri": "https://localhost:8080/"
        },
        "id": "N9BMZXy2zMY8",
        "outputId": "4b43206b-51e1-4d17-a590-f8bf05007aa4"
      },
      "outputs": [
        {
          "name": "stdout",
          "output_type": "stream",
          "text": [
            "20\n"
          ]
        }
      ],
      "source": [
        "x = 10\n",
        "x # we don't see this unless we print it\n",
        "\n",
        "y = 20\n",
        "print(y)"
      ]
    },
    {
      "cell_type": "markdown",
      "metadata": {
        "id": "GlsvLWs1apV2"
      },
      "source": [
        "To make sure we see all desired outputs, it never hurts to print each value you would like to be displayed.\n"
      ]
    },
    {
      "cell_type": "code",
      "execution_count": 18,
      "metadata": {
        "colab": {
          "base_uri": "https://localhost:8080/"
        },
        "id": "EfJJblHNbuum",
        "outputId": "97a3b1f5-c85a-4792-84a4-f545a5d3cb5e"
      },
      "outputs": [
        {
          "name": "stdout",
          "output_type": "stream",
          "text": [
            "10\n",
            "20\n"
          ]
        }
      ],
      "source": [
        "x = 10\n",
        "print(x)\n",
        "\n",
        "y = 20\n",
        "print(y)"
      ]
    },
    {
      "cell_type": "markdown",
      "metadata": {
        "id": "SQFNKTTYXEvK"
      },
      "source": [
        "#### Comma Separated Print Statements"
      ]
    },
    {
      "cell_type": "markdown",
      "metadata": {
        "id": "rb2ekG3-Ydih"
      },
      "source": [
        "Normally a function has a specific number and order of parameters that can be passed to it.\n",
        "\n",
        "But the `print` function is a little special in the sense that we can pass any number of values to it, separated by commas. When we use comma separated print statements, we see all the values displayed on the same line.\n"
      ]
    },
    {
      "cell_type": "markdown",
      "metadata": {
        "id": "MBj-TfK0zEfT"
      },
      "source": [
        "Printing multiple items on the same line (each item is separated by a comma):\n"
      ]
    },
    {
      "cell_type": "code",
      "execution_count": 19,
      "metadata": {
        "colab": {
          "base_uri": "https://localhost:8080/"
        },
        "id": "3XRmKUobzHGq",
        "outputId": "cfc26330-b3ea-4284-f196-f97ebac17881"
      },
      "outputs": [
        {
          "name": "stdout",
          "output_type": "stream",
          "text": [
            "100 hello True\n"
          ]
        }
      ],
      "source": [
        "print(100, \"hello\", True)"
      ]
    },
    {
      "cell_type": "code",
      "execution_count": 20,
      "metadata": {
        "colab": {
          "base_uri": "https://localhost:8080/"
        },
        "id": "9ijDEsRfXbbL",
        "outputId": "eebd6685-9e5e-4061-99cf-a108af37d37f"
      },
      "outputs": [
        {
          "name": "stdout",
          "output_type": "stream",
          "text": [
            "$ 3.99\n"
          ]
        }
      ],
      "source": [
        "print(\"$\", 3.99)"
      ]
    },
    {
      "cell_type": "markdown",
      "metadata": {
        "id": "ZKOhHyGzXL-l"
      },
      "source": [
        "You'll notice this introduces a space character into the output in between each printed value."
      ]
    },
    {
      "cell_type": "markdown",
      "metadata": {
        "id": "uKejRvigW3Kd"
      },
      "source": [
        "#### Function Parameters"
      ]
    },
    {
      "cell_type": "markdown",
      "metadata": {
        "id": "rBEkwY18W6AT"
      },
      "source": [
        "\n",
        "The `print` function specifically has an optional parameter called `sep` which we can use to customize the separator (for example, removing the space character):"
      ]
    },
    {
      "cell_type": "code",
      "execution_count": 21,
      "metadata": {
        "colab": {
          "base_uri": "https://localhost:8080/"
        },
        "id": "368pkbupzHi_",
        "outputId": "8af67430-2b19-4789-b322-f311e82e58c9"
      },
      "outputs": [
        {
          "name": "stdout",
          "output_type": "stream",
          "text": [
            "100 | hello | True\n"
          ]
        }
      ],
      "source": [
        "print(100, \"hello\", True, sep=\" | \")"
      ]
    },
    {
      "cell_type": "code",
      "execution_count": 22,
      "metadata": {
        "colab": {
          "base_uri": "https://localhost:8080/"
        },
        "id": "-otmYxW-Xh00",
        "outputId": "f7dce553-5d88-4a47-8ffe-0207444b57c8"
      },
      "outputs": [
        {
          "name": "stdout",
          "output_type": "stream",
          "text": [
            "$3.99\n"
          ]
        }
      ],
      "source": [
        "print(\"$\", 3.99, sep=\"\")"
      ]
    },
    {
      "cell_type": "markdown",
      "metadata": {
        "id": "9jawmn9cXve1"
      },
      "source": [
        "It is crucially important to consult the documentation for any function you are using, to understand what parameters it accepts."
      ]
    },
    {
      "cell_type": "markdown",
      "metadata": {
        "id": "ckUmha98YxKg"
      },
      "source": [
        "We will return to use many of the other built-in functions provided by Python."
      ]
    }
  ],
  "metadata": {
    "colab": {
      "provenance": [],
      "toc_visible": true
    },
    "kernelspec": {
      "display_name": "Python 3",
      "name": "python3"
    },
    "language_info": {
      "codemirror_mode": {
        "name": "ipython",
        "version": 3
      },
      "file_extension": ".py",
      "mimetype": "text/x-python",
      "name": "python",
      "nbconvert_exporter": "python",
      "pygments_lexer": "ipython3",
      "version": "3.11.9"
    }
  },
  "nbformat": 4,
  "nbformat_minor": 0
}
