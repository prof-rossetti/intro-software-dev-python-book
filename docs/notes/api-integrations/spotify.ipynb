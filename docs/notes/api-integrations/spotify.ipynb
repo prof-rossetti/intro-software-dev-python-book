{
  "cells": [
    {
      "cell_type": "markdown",
      "metadata": {},
      "source": [
        "# The Spotify API"
      ]
    },
    {
      "cell_type": "markdown",
      "metadata": {
        "id": "em9gvVrUT3YE"
      },
      "source": [
        "In this notebook we will fetch and process music data from Spotify, using the [Spotify API](https://developer.spotify.com/documentation/web-api).\n",
        "\n",
        "Specifically we will lookup and display the top tracks for any given artist.\n",
        "\n"
      ]
    },
    {
      "cell_type": "markdown",
      "metadata": {
        "id": "cChEVsHSzqsU"
      },
      "source": [
        "\n",
        "## Setup\n",
        "\n"
      ]
    },
    {
      "cell_type": "markdown",
      "metadata": {
        "id": "mp6ti6rBE5sx"
      },
      "source": [
        "Sometimes when working with an API we will fetch data directly, using a web request. However in other cases there might be a Python package that can help make our lives easier, especially when there are complicated authorization steps involved.\n",
        "\n",
        "\n",
        "For this demo, we will use the [`spotipy` package](https://spotipy.readthedocs.io/en/latest/), which provides a high level interface into the Spotify API.\n",
        "\n",
        "\n"
      ]
    },
    {
      "cell_type": "markdown",
      "metadata": {
        "id": "Waq5k4czWmCS"
      },
      "source": [
        "Installing the `spotipy` package into the notebook environment:"
      ]
    },
    {
      "cell_type": "code",
      "execution_count": 1,
      "metadata": {
        "id": "yEWKc8CYXac8"
      },
      "outputs": [],
      "source": [
        "%%capture\n",
        "!pip install spotipy"
      ]
    },
    {
      "cell_type": "markdown",
      "metadata": {},
      "source": [
        "Ensuring the package has been installed:"
      ]
    },
    {
      "cell_type": "code",
      "execution_count": 2,
      "metadata": {
        "colab": {
          "base_uri": "https://localhost:8080/"
        },
        "id": "F8l2YiorWzq3",
        "outputId": "d069b38b-afdf-4e9a-f483-4a0cf3d85ab3"
      },
      "outputs": [
        {
          "name": "stdout",
          "output_type": "stream",
          "text": [
            "spotipy                               2.25.1\n"
          ]
        }
      ],
      "source": [
        "!pip list | grep spotipy"
      ]
    },
    {
      "cell_type": "markdown",
      "metadata": {
        "id": "h81rvMYAWkoM"
      },
      "source": [
        "To interface with the Spotify API, you need to create a [Spotify API Client application](https://developer.spotify.com/dashboard/applications/), with corresponding credentials (i.e. the \"client identifier\" and \"client secret\").\n",
        "\n",
        "\n",
        "Before proceeding, set these credentials as notebook secrets called `SPOTIPY_CLIENT_ID` and `SPOTIPY_CLIENT_SECRET`, respectively."
      ]
    },
    {
      "cell_type": "markdown",
      "metadata": {
        "id": "6OSd4TMxF9Ft"
      },
      "source": [
        "Accessing the credentials from notebook secrets:"
      ]
    },
    {
      "cell_type": "code",
      "execution_count": 3,
      "metadata": {
        "id": "l1QEGRWxCaN8"
      },
      "outputs": [],
      "source": [
        "from google.colab import userdata\n",
        "\n",
        "SPOTIPY_CLIENT_ID = userdata.get(\"SPOTIPY_CLIENT_ID\")\n",
        "SPOTIPY_CLIENT_SECRET = userdata.get(\"SPOTIPY_CLIENT_SECRET\")"
      ]
    },
    {
      "cell_type": "markdown",
      "metadata": {
        "id": "NnlooeDez9oC"
      },
      "source": [
        "## Example: Artist Top Tracks"
      ]
    },
    {
      "cell_type": "markdown",
      "metadata": {
        "id": "REU8CG917Ru1"
      },
      "source": [
        "Entering a search term, which in this case is an artist we are interested in:"
      ]
    },
    {
      "cell_type": "code",
      "execution_count": 147,
      "metadata": {
        "colab": {
          "base_uri": "https://localhost:8080/",
          "height": 35
        },
        "id": "WaEb9THPWvWJ",
        "outputId": "34275018-7084-4f78-9508-2c3a9e81ebd4"
      },
      "outputs": [
        {
          "data": {
            "application/vnd.google.colaboratory.intrinsic+json": {
              "type": "string"
            },
            "text/plain": [
              "'Chainsmokers'"
            ]
          },
          "execution_count": 147,
          "metadata": {},
          "output_type": "execute_result"
        }
      ],
      "source": [
        "search_term = \"Chainsmokers\"\n",
        "search_term"
      ]
    },
    {
      "cell_type": "markdown",
      "metadata": {
        "id": "pX6pJL4lGsKH"
      },
      "source": [
        "Initializing a new Spotify API client, using the provided credentials:"
      ]
    },
    {
      "cell_type": "code",
      "execution_count": 148,
      "metadata": {
        "colab": {
          "base_uri": "https://localhost:8080/"
        },
        "id": "OQ3QJr6GE3qy",
        "outputId": "3e269ab4-211a-4104-8eb4-14c57b065f2b"
      },
      "outputs": [
        {
          "name": "stdout",
          "output_type": "stream",
          "text": [
            "CLIENT: <class 'spotipy.client.Spotify'>\n"
          ]
        }
      ],
      "source": [
        "\n",
        "from spotipy import Spotify\n",
        "from spotipy.oauth2 import SpotifyClientCredentials\n",
        "\n",
        "creds = SpotifyClientCredentials(\n",
        "    client_id=SPOTIPY_CLIENT_ID,\n",
        "    client_secret=SPOTIPY_CLIENT_SECRET\n",
        ")\n",
        "\n",
        "client = Spotify(client_credentials_manager=creds)\n",
        "print(\"CLIENT:\", type(client))"
      ]
    },
    {
      "cell_type": "markdown",
      "metadata": {
        "id": "yWb5bjlGQKBS"
      },
      "source": [
        "Fetching tracks for a given artist:"
      ]
    },
    {
      "cell_type": "code",
      "execution_count": 149,
      "metadata": {
        "colab": {
          "base_uri": "https://localhost:8080/"
        },
        "id": "DPhx3dVdRdBy",
        "outputId": "6c36f4f1-885d-4f39-943e-a864d8a5fb1e"
      },
      "outputs": [
        {
          "name": "stdout",
          "output_type": "stream",
          "text": [
            "<class 'dict'>\n",
            "dict_keys(['tracks'])\n"
          ]
        }
      ],
      "source": [
        "results = client.search(q=search_term, limit=50)\n",
        "print(type(results))\n",
        "print(results.keys())"
      ]
    },
    {
      "cell_type": "markdown",
      "metadata": {},
      "source": [
        "Investigating and processing the nested structure of the response data:"
      ]
    },
    {
      "cell_type": "code",
      "execution_count": 150,
      "metadata": {
        "colab": {
          "base_uri": "https://localhost:8080/"
        },
        "id": "G7qR7HLoTbYo",
        "outputId": "a72e3d87-c6b9-4fd7-8cf7-31cbf3f92d42"
      },
      "outputs": [
        {
          "name": "stdout",
          "output_type": "stream",
          "text": [
            "<class 'list'>\n"
          ]
        },
        {
          "data": {
            "text/plain": [
              "50"
            ]
          },
          "execution_count": 150,
          "metadata": {},
          "output_type": "execute_result"
        }
      ],
      "source": [
        "tracks = results[\"tracks\"][\"items\"]\n",
        "print(type(tracks))\n",
        "len(tracks)"
      ]
    },
    {
      "cell_type": "markdown",
      "metadata": {
        "id": "i5pb5nrtSpLo"
      },
      "source": [
        "There are 50 tracks provided by default. Here is a simplified view of the first track:"
      ]
    },
    {
      "cell_type": "code",
      "execution_count": 152,
      "metadata": {
        "colab": {
          "base_uri": "https://localhost:8080/"
        },
        "id": "VriyQxZMSn9M",
        "outputId": "9385fd60-66fa-4f50-e177-8d2eda11dab1"
      },
      "outputs": [
        {
          "data": {
            "text/plain": [
              "{'name': 'Closer',\n",
              " 'artist': 'The Chainsmokers',\n",
              " 'duration_ms': 244960,\n",
              " 'explicit': False,\n",
              " 'markets': 185,\n",
              " 'popularity': 87,\n",
              " 'album_art_url': 'https://i.scdn.co/image/ab67616d0000b273495ce6da9aeb159e94eaa453'}"
            ]
          },
          "execution_count": 152,
          "metadata": {},
          "output_type": "execute_result"
        }
      ],
      "source": [
        "track = tracks[0]\n",
        "\n",
        "info = {\n",
        "    \"name\": track['name'],\n",
        "    \"artist\": track[\"artists\"][0][\"name\"],\n",
        "    #\"artists\": [artist[\"name\"] for artist in track[\"artists\"]],\n",
        "    \"duration_ms\": track['duration_ms'],\n",
        "    \"explicit\":  track['explicit'],\n",
        "    \"markets\": len(track[\"available_markets\"]),\n",
        "    \"popularity\": track[\"popularity\"],\n",
        "    \"album_art_url\": track[\"album\"][\"images\"][0][\"url\"]\n",
        "}\n",
        "info"
      ]
    },
    {
      "cell_type": "markdown",
      "metadata": {},
      "source": [
        "Helper function for displaying the artist's top tracks in a table format:"
      ]
    },
    {
      "cell_type": "code",
      "execution_count": 174,
      "metadata": {
        "id": "P-A-ttKFK8YC"
      },
      "outputs": [],
      "source": [
        "#| code-fold: \"show\"\n",
        "\n",
        "from pandas import DataFrame\n",
        "from IPython.core.display import HTML\n",
        "\n",
        "def img_html(url, width=50):\n",
        "    return f\"<img src='{url}' width='{width}' >\"\n",
        "\n",
        "def display_top_tracks(artist_name:str, top_n=10, client=client):\n",
        "    results = client.search(q=artist_name, limit=50)\n",
        "\n",
        "    tracks = results[\"tracks\"][\"items\"]\n",
        "\n",
        "    records = []\n",
        "    for i, track in enumerate(tracks):\n",
        "        artist_names = [artist[\"name\"] for artist in track[\"artists\"]]\n",
        "        artist_names = \", \".join(artist_names)\n",
        "        record = {\n",
        "            #\"index\": i,\n",
        "            #\"artist\": track[\"artists\"][0][\"name\"],\n",
        "            \"track\": track['name'],\n",
        "            \"artists\": artist_names,\n",
        "            \"album\": track[\"album\"][\"name\"],\n",
        "            \"release_date\": track[\"album\"][\"release_date\"],\n",
        "            #\"duration_ms\": track[\"duration_ms\"],\n",
        "            \"explicit\":  track['explicit'],\n",
        "            \"markets\": len(track[\"available_markets\"]),\n",
        "            \"popularity\": track[\"popularity\"],\n",
        "            \"album_art\": img_html(track[\"album\"][\"images\"][0][\"url\"])\n",
        "        }\n",
        "        records.append(record)\n",
        "\n",
        "    tracks_df = DataFrame(records)\n",
        "    # top n:\n",
        "    tracks_df.sort_values(by=\"popularity\", ascending=False, inplace=True)\n",
        "    tracks_df = tracks_df.head(top_n)\n",
        "\n",
        "    tracks_df.reset_index(inplace=True, drop=True)\n",
        "    tracks_df[\"rank\"] = tracks_df.index + 1\n",
        "    # reorder cols:\n",
        "    cols = [\"rank\"] + tracks_df.drop(columns=[\"rank\"]).columns.tolist()\n",
        "    tracks_df = tracks_df[cols]\n",
        "\n",
        "    # displaying the dataframe as HTML:\n",
        "    tracks_table = HTML(tracks_df.to_html(\n",
        "        escape=False,\n",
        "        index=False,\n",
        "        formatters=dict(Icon=img_html)\n",
        "    ))\n",
        "    display(tracks_table)\n"
      ]
    },
    {
      "cell_type": "markdown",
      "metadata": {
        "id": "8oqacdMxS052"
      },
      "source": [
        "Displaying top tracks for the given artist:"
      ]
    },
    {
      "cell_type": "code",
      "execution_count": 175,
      "metadata": {
        "colab": {
          "base_uri": "https://localhost:8080/",
          "height": 731
        },
        "id": "0wcn20qQPRmT",
        "outputId": "e8967c6b-ddd3-467f-de7b-b24f8d0e4f18"
      },
      "outputs": [
        {
          "data": {
            "text/html": [
              "<table border=\"1\" class=\"dataframe\">\n",
              "  <thead>\n",
              "    <tr style=\"text-align: right;\">\n",
              "      <th>rank</th>\n",
              "      <th>track</th>\n",
              "      <th>artists</th>\n",
              "      <th>album</th>\n",
              "      <th>release_date</th>\n",
              "      <th>explicit</th>\n",
              "      <th>markets</th>\n",
              "      <th>popularity</th>\n",
              "      <th>album_art</th>\n",
              "    </tr>\n",
              "  </thead>\n",
              "  <tbody>\n",
              "    <tr>\n",
              "      <td>1</td>\n",
              "      <td>Something Just Like This</td>\n",
              "      <td>The Chainsmokers, Coldplay</td>\n",
              "      <td>Memories...Do Not Open</td>\n",
              "      <td>2017-04-07</td>\n",
              "      <td>False</td>\n",
              "      <td>185</td>\n",
              "      <td>88</td>\n",
              "      <td><img src='https://i.scdn.co/image/ab67616d0000b2730c13d3d5a503c84fcc60ae94' width='50' ></td>\n",
              "    </tr>\n",
              "    <tr>\n",
              "      <td>2</td>\n",
              "      <td>Closer</td>\n",
              "      <td>The Chainsmokers, Halsey</td>\n",
              "      <td>Closer</td>\n",
              "      <td>2016-07-29</td>\n",
              "      <td>False</td>\n",
              "      <td>185</td>\n",
              "      <td>87</td>\n",
              "      <td><img src='https://i.scdn.co/image/ab67616d0000b273495ce6da9aeb159e94eaa453' width='50' ></td>\n",
              "    </tr>\n",
              "    <tr>\n",
              "      <td>3</td>\n",
              "      <td>Don't Let Me Down</td>\n",
              "      <td>The Chainsmokers, Daya</td>\n",
              "      <td>Don't Let Me Down</td>\n",
              "      <td>2016-02-05</td>\n",
              "      <td>False</td>\n",
              "      <td>185</td>\n",
              "      <td>83</td>\n",
              "      <td><img src='https://i.scdn.co/image/ab67616d0000b27302df2d642b572cf4f284a5c3' width='50' ></td>\n",
              "    </tr>\n",
              "    <tr>\n",
              "      <td>4</td>\n",
              "      <td>Addicted</td>\n",
              "      <td>Zerb, The Chainsmokers, Ink</td>\n",
              "      <td>Addicted</td>\n",
              "      <td>2024-03-29</td>\n",
              "      <td>True</td>\n",
              "      <td>185</td>\n",
              "      <td>80</td>\n",
              "      <td><img src='https://i.scdn.co/image/ab67616d0000b27386662f0bf0b8df09e7e6ee34' width='50' ></td>\n",
              "    </tr>\n",
              "    <tr>\n",
              "      <td>5</td>\n",
              "      <td>Roses</td>\n",
              "      <td>The Chainsmokers, ROZES</td>\n",
              "      <td>Roses</td>\n",
              "      <td>2015-06-16</td>\n",
              "      <td>False</td>\n",
              "      <td>181</td>\n",
              "      <td>80</td>\n",
              "      <td><img src='https://i.scdn.co/image/ab67616d0000b2738d2cfad007b9431f48aef135' width='50' ></td>\n",
              "    </tr>\n",
              "    <tr>\n",
              "      <td>6</td>\n",
              "      <td>Paris</td>\n",
              "      <td>The Chainsmokers</td>\n",
              "      <td>Memories...Do Not Open</td>\n",
              "      <td>2017-04-07</td>\n",
              "      <td>False</td>\n",
              "      <td>185</td>\n",
              "      <td>80</td>\n",
              "      <td><img src='https://i.scdn.co/image/ab67616d0000b2730c13d3d5a503c84fcc60ae94' width='50' ></td>\n",
              "    </tr>\n",
              "    <tr>\n",
              "      <td>7</td>\n",
              "      <td>Something Just Like This</td>\n",
              "      <td>The Chainsmokers, Coldplay</td>\n",
              "      <td>Something Just Like This</td>\n",
              "      <td>2017-02-22</td>\n",
              "      <td>False</td>\n",
              "      <td>185</td>\n",
              "      <td>72</td>\n",
              "      <td><img src='https://i.scdn.co/image/ab67616d0000b273f79b7f08426e2899a832d3e6' width='50' ></td>\n",
              "    </tr>\n",
              "    <tr>\n",
              "      <td>8</td>\n",
              "      <td>White Wine & Adderall</td>\n",
              "      <td>The Chainsmokers, Beau Nox</td>\n",
              "      <td>White Wine & Adderall</td>\n",
              "      <td>2025-07-11</td>\n",
              "      <td>False</td>\n",
              "      <td>185</td>\n",
              "      <td>72</td>\n",
              "      <td><img src='https://i.scdn.co/image/ab67616d0000b27386bad144b2c14dc06926d599' width='50' ></td>\n",
              "    </tr>\n",
              "    <tr>\n",
              "      <td>9</td>\n",
              "      <td>This Feeling</td>\n",
              "      <td>The Chainsmokers, Kelsea Ballerini</td>\n",
              "      <td>Sick Boy</td>\n",
              "      <td>2018-12-14</td>\n",
              "      <td>False</td>\n",
              "      <td>185</td>\n",
              "      <td>71</td>\n",
              "      <td><img src='https://i.scdn.co/image/ab67616d0000b2738e26bf4293c9da7a6439607b' width='50' ></td>\n",
              "    </tr>\n",
              "    <tr>\n",
              "      <td>10</td>\n",
              "      <td>Jungle</td>\n",
              "      <td>Alok, The Chainsmokers, Mae Stephens</td>\n",
              "      <td>Jungle</td>\n",
              "      <td>2023-09-22</td>\n",
              "      <td>False</td>\n",
              "      <td>185</td>\n",
              "      <td>71</td>\n",
              "      <td><img src='https://i.scdn.co/image/ab67616d0000b273119e86ab31abf9323008dc1c' width='50' ></td>\n",
              "    </tr>\n",
              "  </tbody>\n",
              "</table>"
            ],
            "text/plain": [
              "<IPython.core.display.HTML object>"
            ]
          },
          "metadata": {},
          "output_type": "display_data"
        }
      ],
      "source": [
        "display_top_tracks(artist_name=search_term, top_n=10)"
      ]
    },
    {
      "cell_type": "markdown",
      "metadata": {},
      "source": [
        "This is just one small example of the capabilities of the Spotify API. "
      ]
    }
  ],
  "metadata": {
    "colab": {
      "collapsed_sections": [
        "TeoUz227W0r5"
      ],
      "provenance": []
    },
    "kernelspec": {
      "display_name": "Python 3",
      "name": "python3"
    }
  },
  "nbformat": 4,
  "nbformat_minor": 0
}
