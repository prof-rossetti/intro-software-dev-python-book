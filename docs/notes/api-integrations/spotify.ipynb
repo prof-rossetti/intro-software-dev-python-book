{
  "cells": [
    {
      "cell_type": "markdown",
      "metadata": {
        "id": "GUDD_e5LgF_C"
      },
      "source": [
        "# The Spotify API"
      ]
    },
    {
      "cell_type": "markdown",
      "metadata": {
        "id": "em9gvVrUT3YE"
      },
      "source": [
        "In this notebook we will fetch and process music data from Spotify, using the [Spotify API](https://developer.spotify.com/documentation/web-api).\n",
        "\n",
        "![](../../images/spotify-for-developers.png){height=250}\n",
        "\n",
        "Specifically we will lookup and display the top tracks for any given artist.\n",
        "\n"
      ]
    },
    {
      "cell_type": "markdown",
      "metadata": {
        "id": "cChEVsHSzqsU"
      },
      "source": [
        "\n",
        "## Setup\n",
        "\n"
      ]
    },
    {
      "cell_type": "markdown",
      "metadata": {
        "id": "mp6ti6rBE5sx"
      },
      "source": [
        "Sometimes when working with an API we will fetch data directly, using a web request. However in other cases there might be a Python package that can help make our lives easier, especially when there are complicated authorization steps involved.\n",
        "\n",
        "\n",
        "For this demo, we will use the [`spotipy` package](https://spotipy.readthedocs.io/en/latest/), which provides a high level interface into the Spotify API.\n",
        "\n",
        "\n"
      ]
    },
    {
      "cell_type": "markdown",
      "metadata": {
        "id": "Waq5k4czWmCS"
      },
      "source": [
        "Installing the `spotipy` package into the notebook environment:"
      ]
    },
    {
      "cell_type": "code",
      "execution_count": 36,
      "metadata": {
        "id": "yEWKc8CYXac8"
      },
      "outputs": [],
      "source": [
        "%%capture\n",
        "!pip install spotipy"
      ]
    },
    {
      "cell_type": "markdown",
      "metadata": {
        "id": "Oc0UIAAqgF_F"
      },
      "source": [
        "Ensuring the package has been installed:"
      ]
    },
    {
      "cell_type": "code",
      "execution_count": 37,
      "metadata": {
        "colab": {
          "base_uri": "https://localhost:8080/"
        },
        "id": "F8l2YiorWzq3",
        "outputId": "d631e05a-7936-4f1d-bd9f-2931b9f197ac"
      },
      "outputs": [
        {
          "name": "stdout",
          "output_type": "stream",
          "text": [
            "spotipy                               2.25.1\n"
          ]
        }
      ],
      "source": [
        "!pip list | grep spotipy"
      ]
    },
    {
      "cell_type": "markdown",
      "metadata": {
        "id": "h81rvMYAWkoM"
      },
      "source": [
        "To interface with the Spotify API, you need to create a [Spotify API Client application](https://developer.spotify.com/dashboard/applications/), with corresponding credentials (i.e. the \"client identifier\" and \"client secret\").\n",
        "\n",
        "\n",
        "Before proceeding, set these credentials as notebook secrets called `SPOTIPY_CLIENT_ID` and `SPOTIPY_CLIENT_SECRET`, respectively."
      ]
    },
    {
      "cell_type": "markdown",
      "metadata": {
        "id": "6OSd4TMxF9Ft"
      },
      "source": [
        "Accessing the credentials from notebook secrets:"
      ]
    },
    {
      "cell_type": "code",
      "execution_count": 38,
      "metadata": {
        "id": "l1QEGRWxCaN8"
      },
      "outputs": [],
      "source": [
        "from google.colab import userdata\n",
        "\n",
        "SPOTIPY_CLIENT_ID = userdata.get(\"SPOTIPY_CLIENT_ID\")\n",
        "SPOTIPY_CLIENT_SECRET = userdata.get(\"SPOTIPY_CLIENT_SECRET\")"
      ]
    },
    {
      "cell_type": "markdown",
      "metadata": {
        "id": "pX6pJL4lGsKH"
      },
      "source": [
        "Initializing a new Spotify API client, using the provided credentials:"
      ]
    },
    {
      "cell_type": "code",
      "execution_count": 39,
      "metadata": {
        "colab": {
          "base_uri": "https://localhost:8080/"
        },
        "id": "OQ3QJr6GE3qy",
        "outputId": "1d12ea80-c475-44d5-b2c7-72603de1809f"
      },
      "outputs": [
        {
          "name": "stdout",
          "output_type": "stream",
          "text": [
            "CLIENT: <class 'spotipy.client.Spotify'>\n"
          ]
        }
      ],
      "source": [
        "\n",
        "from spotipy import Spotify\n",
        "from spotipy.oauth2 import SpotifyClientCredentials\n",
        "\n",
        "creds = SpotifyClientCredentials(\n",
        "    client_id=SPOTIPY_CLIENT_ID,\n",
        "    client_secret=SPOTIPY_CLIENT_SECRET\n",
        ")\n",
        "\n",
        "client = Spotify(client_credentials_manager=creds)\n",
        "print(\"CLIENT:\", type(client))"
      ]
    },
    {
      "cell_type": "markdown",
      "metadata": {
        "id": "vuUpZdgxeGh-"
      },
      "source": [
        "The `client` object will allow us to make various requests to the API."
      ]
    },
    {
      "cell_type": "markdown",
      "metadata": {
        "id": "910agNz8ACp7"
      },
      "source": [
        "## Example: Artist Top Tracks"
      ]
    },
    {
      "cell_type": "markdown",
      "metadata": {
        "id": "TfTHijaKAejM"
      },
      "source": [
        "To get the top tracks for a given artist, we will use the `client` object's [`artist_top_tracks` method](https://spotipy.readthedocs.io/en/2.25.1/#spotipy.client.Spotify.artist_top_tracks), which issues a request to the Spotify API's [Artist Top Tracks endpoint](https://developer.spotify.com/documentation/web-api/reference/get-an-artists-top-tracks).\n",
        "\n",
        "Since this request requires us to supply the official [Spotify identifier](https://developer.spotify.com/documentation/web-api/concepts/spotify-uris-ids) of a given artist, we'll need to first get the artist idenfier, and then get their top tracks.\n"
      ]
    },
    {
      "cell_type": "markdown",
      "metadata": {
        "id": "J7nO9StNBYEx"
      },
      "source": [
        "Selecting an artist name:"
      ]
    },
    {
      "cell_type": "code",
      "execution_count": 40,
      "metadata": {
        "colab": {
          "base_uri": "https://localhost:8080/",
          "height": 52
        },
        "id": "k9ANDJsg9T1G",
        "outputId": "cb56bf01-acfa-4336-ae70-780d5e568d42"
      },
      "outputs": [
        {
          "name": "stdout",
          "output_type": "stream",
          "text": [
            "Please choose an artist: Dua Lipa\n"
          ]
        },
        {
          "data": {
            "application/vnd.google.colaboratory.intrinsic+json": {
              "type": "string"
            },
            "text/plain": [
              "'Dua Lipa'"
            ]
          },
          "execution_count": 40,
          "metadata": {},
          "output_type": "execute_result"
        }
      ],
      "source": [
        "artist_name = input(\"Please choose an artist: \")\n",
        "artist_name"
      ]
    },
    {
      "cell_type": "markdown",
      "metadata": {
        "id": "kY9xUABD9sEt"
      },
      "source": [
        "\n",
        "Getting the official Spotify identifier for the given artist (assuming the first artist is the closest match):"
      ]
    },
    {
      "cell_type": "code",
      "execution_count": 41,
      "metadata": {
        "colab": {
          "base_uri": "https://localhost:8080/"
        },
        "id": "cHD74v-a727E",
        "outputId": "a806e5ab-0ad7-47d8-91db-062263167afe"
      },
      "outputs": [
        {
          "data": {
            "text/plain": [
              "{'artists': {'href': 'https://api.spotify.com/v1/search?offset=0&limit=1&query=Dua%20Lipa&type=artist',\n",
              "  'limit': 1,\n",
              "  'next': 'https://api.spotify.com/v1/search?offset=1&limit=1&query=Dua%20Lipa&type=artist',\n",
              "  'offset': 0,\n",
              "  'previous': None,\n",
              "  'total': 804,\n",
              "  'items': [{'external_urls': {'spotify': 'https://open.spotify.com/artist/6M2wZ9GZgrQXHCFfjv46we'},\n",
              "    'followers': {'href': None, 'total': 46530425},\n",
              "    'genres': ['pop'],\n",
              "    'href': 'https://api.spotify.com/v1/artists/6M2wZ9GZgrQXHCFfjv46we',\n",
              "    'id': '6M2wZ9GZgrQXHCFfjv46we',\n",
              "    'images': [{'url': 'https://i.scdn.co/image/ab6761610000e5eb0c68f6c95232e716f0abee8d',\n",
              "      'height': 640,\n",
              "      'width': 640},\n",
              "     {'url': 'https://i.scdn.co/image/ab676161000051740c68f6c95232e716f0abee8d',\n",
              "      'height': 320,\n",
              "      'width': 320},\n",
              "     {'url': 'https://i.scdn.co/image/ab6761610000f1780c68f6c95232e716f0abee8d',\n",
              "      'height': 160,\n",
              "      'width': 160}],\n",
              "    'name': 'Dua Lipa',\n",
              "    'popularity': 89,\n",
              "    'type': 'artist',\n",
              "    'uri': 'spotify:artist:6M2wZ9GZgrQXHCFfjv46we'}]}}"
            ]
          },
          "execution_count": 41,
          "metadata": {},
          "output_type": "execute_result"
        }
      ],
      "source": [
        "artist_response = client.search(q=artist_name, type='artist', limit=1)\n",
        "artist_response"
      ]
    },
    {
      "cell_type": "markdown",
      "metadata": {
        "id": "o-C7Xzh1eVqt"
      },
      "source": [
        "Parsing the response data:"
      ]
    },
    {
      "cell_type": "code",
      "execution_count": 42,
      "metadata": {
        "colab": {
          "base_uri": "https://localhost:8080/"
        },
        "id": "a14PeS95-J0W",
        "outputId": "9a53ceee-afea-4e15-9dcc-f9f43d9cc624"
      },
      "outputs": [
        {
          "data": {
            "text/plain": [
              "{'external_urls': {'spotify': 'https://open.spotify.com/artist/6M2wZ9GZgrQXHCFfjv46we'},\n",
              " 'followers': {'href': None, 'total': 46530425},\n",
              " 'genres': ['pop'],\n",
              " 'href': 'https://api.spotify.com/v1/artists/6M2wZ9GZgrQXHCFfjv46we',\n",
              " 'id': '6M2wZ9GZgrQXHCFfjv46we',\n",
              " 'images': [{'url': 'https://i.scdn.co/image/ab6761610000e5eb0c68f6c95232e716f0abee8d',\n",
              "   'height': 640,\n",
              "   'width': 640},\n",
              "  {'url': 'https://i.scdn.co/image/ab676161000051740c68f6c95232e716f0abee8d',\n",
              "   'height': 320,\n",
              "   'width': 320},\n",
              "  {'url': 'https://i.scdn.co/image/ab6761610000f1780c68f6c95232e716f0abee8d',\n",
              "   'height': 160,\n",
              "   'width': 160}],\n",
              " 'name': 'Dua Lipa',\n",
              " 'popularity': 89,\n",
              " 'type': 'artist',\n",
              " 'uri': 'spotify:artist:6M2wZ9GZgrQXHCFfjv46we'}"
            ]
          },
          "execution_count": 42,
          "metadata": {},
          "output_type": "execute_result"
        }
      ],
      "source": [
        "artist = artist_response[\"artists\"][\"items\"][0]\n",
        "artist"
      ]
    },
    {
      "cell_type": "markdown",
      "metadata": {
        "id": "8NSA2S0uWtq4"
      },
      "source": [
        "Displaying information about the artist:"
      ]
    },
    {
      "cell_type": "code",
      "execution_count": 43,
      "metadata": {
        "colab": {
          "base_uri": "https://localhost:8080/",
          "height": 308
        },
        "id": "R-59uWhf-Dc1",
        "outputId": "217fb4a8-a480-486c-d5f9-1abf522939d2"
      },
      "outputs": [
        {
          "name": "stdout",
          "output_type": "stream",
          "text": [
            "ARTIST: Dua Lipa\n",
            "ID: 6M2wZ9GZgrQXHCFfjv46we\n",
            "POPULARITY: 89\n",
            "FOLLOWERS: 46,530,425\n",
            "GENRES: ['pop']\n"
          ]
        },
        {
          "data": {
            "text/html": [
              "<img src=\"https://i.scdn.co/image/ab6761610000e5eb0c68f6c95232e716f0abee8d\" height=\"200\"/>"
            ],
            "text/plain": [
              "<IPython.core.display.Image object>"
            ]
          },
          "metadata": {},
          "output_type": "display_data"
        }
      ],
      "source": [
        "from IPython.display import Image, display\n",
        "\n",
        "followers = artist['followers']['total']\n",
        "image_url = artist[\"images\"][0][\"url\"]\n",
        "\n",
        "print(\"ARTIST:\", artist[\"name\"])\n",
        "print(\"ID:\", artist[\"id\"])\n",
        "print(\"POPULARITY:\", artist[\"popularity\"])\n",
        "print(f\"FOLLOWERS: {followers:,}\")\n",
        "print(\"GENRES:\", artist[\"genres\"])\n",
        "\n",
        "display(Image(url=image_url, height=200))"
      ]
    },
    {
      "cell_type": "markdown",
      "metadata": {
        "id": "aFkztwMQ9yhS"
      },
      "source": [
        "Fetching the artist's top tracks:"
      ]
    },
    {
      "cell_type": "code",
      "execution_count": 44,
      "metadata": {
        "colab": {
          "base_uri": "https://localhost:8080/"
        },
        "collapsed": true,
        "id": "xGmYKlMV7v9T",
        "outputId": "579a2777-866a-4f6a-9587-28971140f311"
      },
      "outputs": [
        {
          "name": "stdout",
          "output_type": "stream",
          "text": [
            "<class 'dict'>\n"
          ]
        },
        {
          "data": {
            "text/plain": [
              "dict_keys(['tracks'])"
            ]
          },
          "execution_count": 44,
          "metadata": {},
          "output_type": "execute_result"
        }
      ],
      "source": [
        "artist_id = artist[\"id\"]\n",
        "tracks_response = client.artist_top_tracks(artist_id)\n",
        "print(type(tracks_response))\n",
        "tracks_response.keys()"
      ]
    },
    {
      "cell_type": "markdown",
      "metadata": {
        "id": "n3t0vlXO91Ab"
      },
      "source": [
        "Exploring and processing the data:"
      ]
    },
    {
      "cell_type": "code",
      "execution_count": 45,
      "metadata": {
        "colab": {
          "base_uri": "https://localhost:8080/"
        },
        "id": "0KNB_vfiEPMc",
        "outputId": "5d026275-4b0a-46c4-a1e1-c3b322d27026"
      },
      "outputs": [
        {
          "name": "stdout",
          "output_type": "stream",
          "text": [
            "<class 'list'>\n"
          ]
        },
        {
          "data": {
            "text/plain": [
              "10"
            ]
          },
          "execution_count": 45,
          "metadata": {},
          "output_type": "execute_result"
        }
      ],
      "source": [
        "top_tracks = tracks_response[\"tracks\"]\n",
        "print(type(top_tracks))\n",
        "len(top_tracks)"
      ]
    },
    {
      "cell_type": "markdown",
      "metadata": {
        "id": "RLfwj9anes_M"
      },
      "source": [
        "It looks like the API returned information about ten tracks. Investigating the structure of one of the tracks:"
      ]
    },
    {
      "cell_type": "code",
      "execution_count": 46,
      "metadata": {
        "colab": {
          "base_uri": "https://localhost:8080/"
        },
        "id": "pa-QUVL8E8e-",
        "outputId": "8187a301-f84c-49a7-c8ab-1941d089c0e5"
      },
      "outputs": [
        {
          "data": {
            "text/plain": [
              "dict"
            ]
          },
          "execution_count": 46,
          "metadata": {},
          "output_type": "execute_result"
        }
      ],
      "source": [
        "track = top_tracks[0]\n",
        "type(track)"
      ]
    },
    {
      "cell_type": "code",
      "execution_count": 47,
      "metadata": {
        "colab": {
          "base_uri": "https://localhost:8080/"
        },
        "id": "JLsAmy39FK-i",
        "outputId": "df1af1f1-3a90-4175-8c84-ee41f2f8d180"
      },
      "outputs": [
        {
          "data": {
            "text/plain": [
              "dict_keys(['album', 'artists', 'available_markets', 'disc_number', 'duration_ms', 'explicit', 'external_ids', 'external_urls', 'href', 'id', 'is_local', 'is_playable', 'name', 'popularity', 'preview_url', 'track_number', 'type', 'uri'])"
            ]
          },
          "execution_count": 47,
          "metadata": {},
          "output_type": "execute_result"
        }
      ],
      "source": [
        "track.keys()"
      ]
    },
    {
      "cell_type": "code",
      "execution_count": 55,
      "metadata": {
        "colab": {
          "base_uri": "https://localhost:8080/",
          "height": 342
        },
        "id": "HTMNJrePgRI_",
        "outputId": "5b59b073-709d-4b68-df4c-7a5aea7ff996"
      },
      "outputs": [
        {
          "name": "stdout",
          "output_type": "stream",
          "text": [
            "TRACK: 'New Rules'\n",
            "ARTIST NAME(S): ['Dua Lipa']\n",
            "ALBUM: 'Dua Lipa (Deluxe)'\n",
            "RELEASE DATE: 2017-06-02\n",
            "DURATION: 0:03:29\n",
            "MARKETS: 179\n",
            "POPULARITY SCORE: 81\n"
          ]
        },
        {
          "data": {
            "text/html": [
              "<img src=\"https://i.scdn.co/image/ab67616d0000b273838698485511bd9108fadadc\" width=\"200\"/>"
            ],
            "text/plain": [
              "<IPython.core.display.Image object>"
            ]
          },
          "metadata": {},
          "output_type": "display_data"
        }
      ],
      "source": [
        "from datetime import timedelta\n",
        "from IPython.display import Image, display\n",
        "\n",
        "artist_names = [artist[\"name\"] for artist in track[\"artists\"]]\n",
        "\n",
        "duration_s = int(track['duration_ms'] / 1000)\n",
        "track_duration = timedelta(seconds=duration_s)\n",
        "\n",
        "print(f\"TRACK: '{track['name']}'\")\n",
        "print(\"ARTIST NAME(S):\", artist_names)\n",
        "print(f\"ALBUM: '{track['album']['name']}'\")\n",
        "print(\"RELEASE DATE:\", track[\"album\"][\"release_date\"])\n",
        "print(\"DURATION:\", str(track_duration))\n",
        "print(\"MARKETS:\", len(track[\"available_markets\"]))\n",
        "print(\"POPULARITY SCORE:\", track[\"popularity\"])\n",
        "\n",
        "album_img_url = track[\"album\"][\"images\"][0][\"url\"]\n",
        "display(Image(url=album_img_url, width=200))"
      ]
    },
    {
      "cell_type": "markdown",
      "metadata": {
        "id": "QdIcgDt3e6aV"
      },
      "source": [
        "Sorting the top tracks in order of their popularity:"
      ]
    },
    {
      "cell_type": "code",
      "execution_count": 49,
      "metadata": {
        "id": "c2FMjPHye8zB"
      },
      "outputs": [],
      "source": [
        "from operator import itemgetter\n",
        "\n",
        "top_tracks = sorted(top_tracks, key=itemgetter(\"popularity\"), reverse=True)"
      ]
    },
    {
      "cell_type": "markdown",
      "metadata": {
        "id": "fRw2Bv3mew3P"
      },
      "source": [
        "Looping through the top tracks to display the name and popularity score of each:"
      ]
    },
    {
      "cell_type": "code",
      "execution_count": 50,
      "metadata": {
        "colab": {
          "base_uri": "https://localhost:8080/"
        },
        "id": "RJmh9-WeWeqR",
        "outputId": "1d3ee91c-a7c1-42fb-f209-a72e6a88c2b9"
      },
      "outputs": [
        {
          "name": "stdout",
          "output_type": "stream",
          "text": [
            "1 Don't Start Now | 82\n",
            "2 Levitating (feat. DaBaby) | 81\n",
            "3 New Rules | 81\n",
            "4 Houdini | 81\n",
            "5 Dance The Night - From Barbie The Album | 80\n",
            "6 Levitating | 80\n",
            "7 IDGAF | 78\n",
            "8 Training Season | 77\n",
            "9 One Kiss (with Dua Lipa) | 76\n",
            "10 Cold Heart - PNAU Remix | 69\n"
          ]
        }
      ],
      "source": [
        "for i, track in enumerate(top_tracks):\n",
        "    print(i+1, track[\"name\"], \"|\", track[\"popularity\"])"
      ]
    },
    {
      "cell_type": "markdown",
      "metadata": {
        "id": "4NqxvVrpfb5n"
      },
      "source": [
        "Alright, we did it! \n",
        "\n",
        "Getting an artist's top tracks is just one capability of the Spotify API. \n",
        "\n",
        "What other capabilities are you interested in exploring?"
      ]
    }
  ],
  "metadata": {
    "colab": {
      "provenance": [],
      "toc_visible": true
    },
    "kernelspec": {
      "display_name": "Python 3",
      "name": "python3"
    }
  },
  "nbformat": 4,
  "nbformat_minor": 0
}
