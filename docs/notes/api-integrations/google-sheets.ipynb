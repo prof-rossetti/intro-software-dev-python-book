{
  "cells": [
    {
      "cell_type": "markdown",
      "metadata": {
        "id": "39AjpHjHQ2m-"
      },
      "source": [
        "# Google Sheets Integrations"
      ]
    },
    {
      "cell_type": "markdown",
      "metadata": {
        "id": "lXo3c5uhc8mh"
      },
      "source": [
        "Google Colab notebooks can easily integrate with other Google products and services\n",
        "\n",
        "In this notebook we will interface with Google Sheets to programmatically create sheets, and read and write data."
      ]
    },
    {
      "cell_type": "markdown",
      "metadata": {
        "id": "fK0UtI0031xa"
      },
      "source": [
        "## Document Setup"
      ]
    },
    {
      "cell_type": "markdown",
      "metadata": {
        "id": "L2xETKqGEiCG"
      },
      "source": [
        "\n",
        "We first need to create a Google Sheets document, for instance this [example document](https://docs.google.com/spreadsheets/d/1Y5JD6sLakLmcr723HA4pUBnqGQgzxW3q_hb2ERe_4us/edit?usp=sharing). If anyone else besides you will be running this notebook, also share the document with them.\n",
        "\n",
        "Before proceeding, we observe the identifier of the Google Sheets document from the URL (between the \"/d/\" and \"/edit\"):\n",
        "\n"
      ]
    },
    {
      "cell_type": "code",
      "execution_count": 14,
      "metadata": {
        "id": "71xEwmRSFLrE"
      },
      "outputs": [],
      "source": [
        "# URL: https://docs.google.com/spreadsheets/d/DOCUMENT_ID/edit?usp=sharing\n",
        "\n",
        "DOCUMENT_ID = \"1Y5JD6sLakLmcr723HA4pUBnqGQgzxW3q_hb2ERe_4us\""
      ]
    },
    {
      "cell_type": "markdown",
      "metadata": {
        "id": "SFTjHhaoa_SD"
      },
      "source": [
        "After noting the document identifier, we can use some boilerplate code to authenticate and access the document.\n"
      ]
    },
    {
      "cell_type": "markdown",
      "metadata": {
        "id": "7rkwzM-Ga__w"
      },
      "source": [
        "## Authorization"
      ]
    },
    {
      "cell_type": "markdown",
      "metadata": {
        "id": "tc0ES2YNFiZN"
      },
      "source": [
        "\n",
        "Authorizing Google Colab to authenticate on behalf of the currently logged in user:"
      ]
    },
    {
      "cell_type": "code",
      "execution_count": 2,
      "metadata": {
        "id": "HlOn7AgKFh1R"
      },
      "outputs": [],
      "source": [
        "from google.colab import auth\n",
        "\n",
        "auth.authenticate_user()"
      ]
    },
    {
      "cell_type": "markdown",
      "metadata": {},
      "source": [
        "This process asks you to allow the notebook to access your credentials."
      ]
    },
    {
      "cell_type": "markdown",
      "metadata": {},
      "source": [
        "![Screenshot of login screen that asks if its ok to \"allow this notebook to access your Google credentials?\"](../../images/google-sheets-allow.png){height=200}"
      ]
    },
    {
      "cell_type": "markdown",
      "metadata": {
        "id": "XAwzJCBohrJR"
      },
      "source": [
        "Getting credentials for the logged in user:"
      ]
    },
    {
      "cell_type": "code",
      "execution_count": 1,
      "metadata": {
        "colab": {
          "base_uri": "https://localhost:8080/"
        },
        "id": "Ib7gP85SG3CG",
        "outputId": "b44da503-d3a8-4fd2-e6d1-27efedd3a1bb"
      },
      "outputs": [
        {
          "data": {
            "text/plain": [
              "<google.auth.compute_engine.credentials.Credentials at 0x7c8615edcf50>"
            ]
          },
          "execution_count": 1,
          "metadata": {},
          "output_type": "execute_result"
        }
      ],
      "source": [
        "from google.auth import default\n",
        "\n",
        "creds, _ = default()\n",
        "creds"
      ]
    },
    {
      "cell_type": "markdown",
      "metadata": {
        "id": "x6FueBEfu5FQ"
      },
      "source": [
        "## Connecting to Google Sheets"
      ]
    },
    {
      "cell_type": "markdown",
      "metadata": {
        "id": "R5DOIF8yu82Z"
      },
      "source": [
        "To interface with the Google Sheets API, we will be using the [`gspread` package](https://docs.gspread.org).\n",
        "\n",
        "Verifying the package is installed:\n"
      ]
    },
    {
      "cell_type": "code",
      "execution_count": 4,
      "metadata": {
        "colab": {
          "base_uri": "https://localhost:8080/"
        },
        "id": "_RAwpX_K5Ig9",
        "outputId": "ec630aa6-85b3-49fa-85ff-1314aab667db"
      },
      "outputs": [
        {
          "name": "stdout",
          "output_type": "stream",
          "text": [
            "Name: gspread\n",
            "Version: 6.2.1\n",
            "Summary: Google Spreadsheets Python API\n",
            "Home-page: \n",
            "Author: \n",
            "Author-email: Anton Burnashev <fuss.here@gmail.com>\n",
            "License: \n",
            "Location: /usr/local/lib/python3.12/dist-packages\n",
            "Requires: google-auth, google-auth-oauthlib\n",
            "Required-by: gspread-dataframe\n"
          ]
        }
      ],
      "source": [
        "!pip show gspread"
      ]
    },
    {
      "cell_type": "markdown",
      "metadata": {
        "id": "N2z_7GOT5MH9"
      },
      "source": [
        "Creating a client object that can make requests to the API:"
      ]
    },
    {
      "cell_type": "code",
      "execution_count": 5,
      "metadata": {
        "colab": {
          "base_uri": "https://localhost:8080/"
        },
        "id": "MgVaioDJu9WM",
        "outputId": "8d617a16-9182-405b-bad4-b0bd8335b754"
      },
      "outputs": [
        {
          "data": {
            "text/plain": [
              "<gspread.client.Client at 0x7ea375575d00>"
            ]
          },
          "execution_count": 5,
          "metadata": {},
          "output_type": "execute_result"
        }
      ],
      "source": [
        "import gspread\n",
        "\n",
        "client = gspread.authorize(creds)\n",
        "client"
      ]
    },
    {
      "cell_type": "markdown",
      "metadata": {
        "id": "Iq1O1W-Gvo6O"
      },
      "source": [
        "Accessing the document (referencing the document identifier from the \"Document Setup\" step):"
      ]
    },
    {
      "cell_type": "code",
      "execution_count": 15,
      "metadata": {
        "colab": {
          "base_uri": "https://localhost:8080/"
        },
        "id": "x1wOX0gYvqsc",
        "outputId": "4cc86f86-3760-4d4f-aa96-3e9e54cfec52"
      },
      "outputs": [
        {
          "name": "stdout",
          "output_type": "stream",
          "text": [
            "DOC: <class 'gspread.spreadsheet.Spreadsheet'>\n"
          ]
        }
      ],
      "source": [
        "doc = client.open_by_key(DOCUMENT_ID)\n",
        "print(\"DOC:\", type(doc))"
      ]
    },
    {
      "cell_type": "markdown",
      "metadata": {
        "id": "dCv5P43M5dB-"
      },
      "source": [
        "Accessing metadata about the document, such as it's title:"
      ]
    },
    {
      "cell_type": "code",
      "execution_count": 16,
      "metadata": {
        "colab": {
          "base_uri": "https://localhost:8080/"
        },
        "id": "oDw05Xcw5cbS",
        "outputId": "b4490d5b-8bc3-4777-c2d3-5633546ae464"
      },
      "outputs": [
        {
          "name": "stdout",
          "output_type": "stream",
          "text": [
            "Google Sheets Integration Demo\n"
          ]
        }
      ],
      "source": [
        "print(doc.title)"
      ]
    },
    {
      "cell_type": "markdown",
      "metadata": {
        "id": "NbLt67F05kTS"
      },
      "source": [
        "### Listing Sheets"
      ]
    },
    {
      "cell_type": "markdown",
      "metadata": {
        "id": "sYIV-q2zvtR2"
      },
      "source": [
        "Listing worksheets in the document:"
      ]
    },
    {
      "cell_type": "code",
      "execution_count": 17,
      "metadata": {
        "colab": {
          "base_uri": "https://localhost:8080/"
        },
        "id": "HoUYYNQwvuu7",
        "outputId": "0de12e6c-f9f8-4a87-ef28-3d2ba261c916"
      },
      "outputs": [
        {
          "data": {
            "text/plain": [
              "[<Worksheet 'daily-prices-nflx' id:0>,\n",
              " <Worksheet 'daily-prices-nflx-copy' id:193822370>]"
            ]
          },
          "execution_count": 17,
          "metadata": {},
          "output_type": "execute_result"
        }
      ],
      "source": [
        "doc.worksheets()"
      ]
    },
    {
      "cell_type": "markdown",
      "metadata": {
        "id": "3J7xuh3J5iYF"
      },
      "source": [
        "### Accessing a Given Sheet"
      ]
    },
    {
      "cell_type": "markdown",
      "metadata": {
        "id": "-cVap8R7v4D_"
      },
      "source": [
        "Accessing a specific sheet, referencing the sheet name:"
      ]
    },
    {
      "cell_type": "code",
      "execution_count": 18,
      "metadata": {
        "colab": {
          "base_uri": "https://localhost:8080/"
        },
        "id": "4Ef3oakDv62P",
        "outputId": "d1bebe97-41e7-44de-ce10-b811c042cff2"
      },
      "outputs": [
        {
          "name": "stdout",
          "output_type": "stream",
          "text": [
            "SHEET: <class 'gspread.worksheet.Worksheet'>\n"
          ]
        }
      ],
      "source": [
        "sheet = doc.worksheet(\"daily-prices-nflx\")\n",
        "print(\"SHEET:\", type(sheet))"
      ]
    },
    {
      "cell_type": "markdown",
      "metadata": {
        "id": "oSwG2CiI6eAD"
      },
      "source": [
        "Accessing metadata about the sheet, such as the title:"
      ]
    },
    {
      "cell_type": "code",
      "execution_count": 19,
      "metadata": {
        "colab": {
          "base_uri": "https://localhost:8080/",
          "height": 35
        },
        "id": "lqYZhwtZ6bAu",
        "outputId": "31f820e4-45c2-4c33-8987-2442a0d589c1"
      },
      "outputs": [
        {
          "data": {
            "application/vnd.google.colaboratory.intrinsic+json": {
              "type": "string"
            },
            "text/plain": [
              "'daily-prices-nflx'"
            ]
          },
          "execution_count": 19,
          "metadata": {},
          "output_type": "execute_result"
        }
      ],
      "source": [
        "sheet.title"
      ]
    },
    {
      "cell_type": "markdown",
      "metadata": {
        "id": "q73-2sdG5of9"
      },
      "source": [
        "### Reading Data"
      ]
    },
    {
      "cell_type": "markdown",
      "metadata": {
        "id": "d3lLuktZv9AO"
      },
      "source": [
        "Reading data from a given sheet, using the sheet object's `get_all_records` method:"
      ]
    },
    {
      "cell_type": "code",
      "execution_count": 21,
      "metadata": {
        "colab": {
          "base_uri": "https://localhost:8080/"
        },
        "id": "ujpWs3bLv-Nl",
        "outputId": "2190ebde-53df-4eca-f6db-75a6b49140ee"
      },
      "outputs": [
        {
          "name": "stdout",
          "output_type": "stream",
          "text": [
            "ROWS: 5555\n"
          ]
        }
      ],
      "source": [
        "records = sheet.get_all_records()\n",
        "print(\"ROWS:\", len(records))"
      ]
    },
    {
      "cell_type": "markdown",
      "metadata": {
        "id": "G8DLQUuI9joq"
      },
      "source": [
        "This returns a list of dictionaries, where the dictionary's keys correspond with the column names."
      ]
    },
    {
      "cell_type": "markdown",
      "metadata": {
        "id": "K6B3NjGe9XMn"
      },
      "source": [
        "Inspecting the first row (for example):"
      ]
    },
    {
      "cell_type": "code",
      "execution_count": 22,
      "metadata": {
        "colab": {
          "base_uri": "https://localhost:8080/"
        },
        "id": "iiNI3HtK9Wk0",
        "outputId": "4d032066-40c4-44fc-dff2-0083fa66a9d3"
      },
      "outputs": [
        {
          "data": {
            "text/plain": [
              "{'timestamp': '2024-06-17',\n",
              " 'open': 669.11,\n",
              " 'high': 682.7099,\n",
              " 'low': 665.1101,\n",
              " 'close': 675.83,\n",
              " 'adjusted_close': 675.83,\n",
              " 'volume': 3631184,\n",
              " 'dividend_amount': 0,\n",
              " 'split_coefficient': 1}"
            ]
          },
          "execution_count": 22,
          "metadata": {},
          "output_type": "execute_result"
        }
      ],
      "source": [
        "records[0]"
      ]
    },
    {
      "cell_type": "markdown",
      "metadata": {
        "id": "FOuxLAvqZpEC"
      },
      "source": [
        "Converting records to a dataframe, as desired:"
      ]
    },
    {
      "cell_type": "code",
      "execution_count": null,
      "metadata": {
        "colab": {
          "base_uri": "https://localhost:8080/",
          "height": 206
        },
        "id": "Y_jiSukKwARC",
        "outputId": "461bced8-8039-4608-adf3-3eb6379a4244"
      },
      "outputs": [
        {
          "data": {
            "application/vnd.google.colaboratory.intrinsic+json": {
              "summary": "{\n  \"name\": \"df\",\n  \"rows\": 5555,\n  \"fields\": [\n    {\n      \"column\": \"timestamp\",\n      \"properties\": {\n        \"dtype\": \"object\",\n        \"num_unique_values\": 5555,\n        \"samples\": [\n          \"2005-04-27\",\n          \"2006-01-31\",\n          \"2013-04-30\"\n        ],\n        \"semantic_type\": \"\",\n        \"description\": \"\"\n      }\n    },\n    {\n      \"column\": \"open\",\n      \"properties\": {\n        \"dtype\": \"number\",\n        \"std\": 183.17693944406952,\n        \"min\": 5.29,\n        \"max\": 708.9,\n        \"num_unique_values\": 4863,\n        \"samples\": [\n          567.2,\n          97.51,\n          216.98\n        ],\n        \"semantic_type\": \"\",\n        \"description\": \"\"\n      }\n    },\n    {\n      \"column\": \"high\",\n      \"properties\": {\n        \"dtype\": \"number\",\n        \"std\": 185.4916692904882,\n        \"min\": 5.75,\n        \"max\": 716.16,\n        \"num_unique_values\": 4905,\n        \"samples\": [\n          47.92,\n          48.2,\n          490.06\n        ],\n        \"semantic_type\": \"\",\n        \"description\": \"\"\n      }\n    },\n    {\n      \"column\": \"low\",\n      \"properties\": {\n        \"dtype\": \"number\",\n        \"std\": 180.76006143717058,\n        \"min\": 4.85,\n        \"max\": 697.57,\n        \"num_unique_values\": 4880,\n        \"samples\": [\n          27.75,\n          507.0,\n          337.635\n        ],\n        \"semantic_type\": \"\",\n        \"description\": \"\"\n      }\n    },\n    {\n      \"column\": \"close\",\n      \"properties\": {\n        \"dtype\": \"number\",\n        \"std\": 183.19654851025513,\n        \"min\": 5.22,\n        \"max\": 707.61,\n        \"num_unique_values\": 4960,\n        \"samples\": [\n          286.62,\n          658.64,\n          356.56\n        ],\n        \"semantic_type\": \"\",\n        \"description\": \"\"\n      }\n    },\n    {\n      \"column\": \"adjusted_close\",\n      \"properties\": {\n        \"dtype\": \"number\",\n        \"std\": 184.03441791033967,\n        \"min\": 0.37285677,\n        \"max\": 691.69,\n        \"num_unique_values\": 5076,\n        \"samples\": [\n          523.28,\n          1.959283755,\n          550.64\n        ],\n        \"semantic_type\": \"\",\n        \"description\": \"\"\n      }\n    },\n    {\n      \"column\": \"volume\",\n      \"properties\": {\n        \"dtype\": \"number\",\n        \"std\": 5995827,\n        \"min\": 20400,\n        \"max\": 132644607,\n        \"num_unique_values\": 5473,\n        \"samples\": [\n          209700,\n          3296600,\n          8961126\n        ],\n        \"semantic_type\": \"\",\n        \"description\": \"\"\n      }\n    },\n    {\n      \"column\": \"dividend_amount\",\n      \"properties\": {\n        \"dtype\": \"number\",\n        \"std\": 0,\n        \"min\": 0,\n        \"max\": 0,\n        \"num_unique_values\": 1,\n        \"samples\": [\n          0\n        ],\n        \"semantic_type\": \"\",\n        \"description\": \"\"\n      }\n    },\n    {\n      \"column\": \"split_coefficient\",\n      \"properties\": {\n        \"dtype\": \"number\",\n        \"std\": 0.0816106135247407,\n        \"min\": 1.0,\n        \"max\": 7.000007,\n        \"num_unique_values\": 3,\n        \"samples\": [\n          1.0\n        ],\n        \"semantic_type\": \"\",\n        \"description\": \"\"\n      }\n    }\n  ]\n}",
              "type": "dataframe",
              "variable_name": "df"
            },
            "text/html": [
              "\n",
              "  <div id=\"df-91b59852-b31b-4d07-823c-5ac495b266a0\" class=\"colab-df-container\">\n",
              "    <div>\n",
              "<style scoped>\n",
              "    .dataframe tbody tr th:only-of-type {\n",
              "        vertical-align: middle;\n",
              "    }\n",
              "\n",
              "    .dataframe tbody tr th {\n",
              "        vertical-align: top;\n",
              "    }\n",
              "\n",
              "    .dataframe thead th {\n",
              "        text-align: right;\n",
              "    }\n",
              "</style>\n",
              "<table border=\"1\" class=\"dataframe\">\n",
              "  <thead>\n",
              "    <tr style=\"text-align: right;\">\n",
              "      <th></th>\n",
              "      <th>timestamp</th>\n",
              "      <th>open</th>\n",
              "      <th>high</th>\n",
              "      <th>low</th>\n",
              "      <th>close</th>\n",
              "      <th>adjusted_close</th>\n",
              "      <th>volume</th>\n",
              "      <th>dividend_amount</th>\n",
              "      <th>split_coefficient</th>\n",
              "    </tr>\n",
              "  </thead>\n",
              "  <tbody>\n",
              "    <tr>\n",
              "      <th>0</th>\n",
              "      <td>2024-06-17</td>\n",
              "      <td>669.11</td>\n",
              "      <td>682.7099</td>\n",
              "      <td>665.1101</td>\n",
              "      <td>675.83</td>\n",
              "      <td>675.83</td>\n",
              "      <td>3631184</td>\n",
              "      <td>0</td>\n",
              "      <td>1.0</td>\n",
              "    </tr>\n",
              "    <tr>\n",
              "      <th>1</th>\n",
              "      <td>2024-06-14</td>\n",
              "      <td>655.05</td>\n",
              "      <td>675.5800</td>\n",
              "      <td>652.6400</td>\n",
              "      <td>669.38</td>\n",
              "      <td>669.38</td>\n",
              "      <td>4447116</td>\n",
              "      <td>0</td>\n",
              "      <td>1.0</td>\n",
              "    </tr>\n",
              "    <tr>\n",
              "      <th>2</th>\n",
              "      <td>2024-06-13</td>\n",
              "      <td>644.00</td>\n",
              "      <td>655.2500</td>\n",
              "      <td>642.3500</td>\n",
              "      <td>653.26</td>\n",
              "      <td>653.26</td>\n",
              "      <td>1863587</td>\n",
              "      <td>0</td>\n",
              "      <td>1.0</td>\n",
              "    </tr>\n",
              "    <tr>\n",
              "      <th>3</th>\n",
              "      <td>2024-06-12</td>\n",
              "      <td>652.21</td>\n",
              "      <td>655.7800</td>\n",
              "      <td>643.1100</td>\n",
              "      <td>650.06</td>\n",
              "      <td>650.06</td>\n",
              "      <td>2094381</td>\n",
              "      <td>0</td>\n",
              "      <td>1.0</td>\n",
              "    </tr>\n",
              "    <tr>\n",
              "      <th>4</th>\n",
              "      <td>2024-06-11</td>\n",
              "      <td>640.72</td>\n",
              "      <td>650.1900</td>\n",
              "      <td>640.5200</td>\n",
              "      <td>648.55</td>\n",
              "      <td>648.55</td>\n",
              "      <td>2167417</td>\n",
              "      <td>0</td>\n",
              "      <td>1.0</td>\n",
              "    </tr>\n",
              "  </tbody>\n",
              "</table>\n",
              "</div>\n",
              "    <div class=\"colab-df-buttons\">\n",
              "\n",
              "  <div class=\"colab-df-container\">\n",
              "    <button class=\"colab-df-convert\" onclick=\"convertToInteractive('df-91b59852-b31b-4d07-823c-5ac495b266a0')\"\n",
              "            title=\"Convert this dataframe to an interactive table.\"\n",
              "            style=\"display:none;\">\n",
              "\n",
              "  <svg xmlns=\"http://www.w3.org/2000/svg\" height=\"24px\" viewBox=\"0 -960 960 960\">\n",
              "    <path d=\"M120-120v-720h720v720H120Zm60-500h600v-160H180v160Zm220 220h160v-160H400v160Zm0 220h160v-160H400v160ZM180-400h160v-160H180v160Zm440 0h160v-160H620v160ZM180-180h160v-160H180v160Zm440 0h160v-160H620v160Z\"/>\n",
              "  </svg>\n",
              "    </button>\n",
              "\n",
              "  <style>\n",
              "    .colab-df-container {\n",
              "      display:flex;\n",
              "      gap: 12px;\n",
              "    }\n",
              "\n",
              "    .colab-df-convert {\n",
              "      background-color: #E8F0FE;\n",
              "      border: none;\n",
              "      border-radius: 50%;\n",
              "      cursor: pointer;\n",
              "      display: none;\n",
              "      fill: #1967D2;\n",
              "      height: 32px;\n",
              "      padding: 0 0 0 0;\n",
              "      width: 32px;\n",
              "    }\n",
              "\n",
              "    .colab-df-convert:hover {\n",
              "      background-color: #E2EBFA;\n",
              "      box-shadow: 0px 1px 2px rgba(60, 64, 67, 0.3), 0px 1px 3px 1px rgba(60, 64, 67, 0.15);\n",
              "      fill: #174EA6;\n",
              "    }\n",
              "\n",
              "    .colab-df-buttons div {\n",
              "      margin-bottom: 4px;\n",
              "    }\n",
              "\n",
              "    [theme=dark] .colab-df-convert {\n",
              "      background-color: #3B4455;\n",
              "      fill: #D2E3FC;\n",
              "    }\n",
              "\n",
              "    [theme=dark] .colab-df-convert:hover {\n",
              "      background-color: #434B5C;\n",
              "      box-shadow: 0px 1px 3px 1px rgba(0, 0, 0, 0.15);\n",
              "      filter: drop-shadow(0px 1px 2px rgba(0, 0, 0, 0.3));\n",
              "      fill: #FFFFFF;\n",
              "    }\n",
              "  </style>\n",
              "\n",
              "    <script>\n",
              "      const buttonEl =\n",
              "        document.querySelector('#df-91b59852-b31b-4d07-823c-5ac495b266a0 button.colab-df-convert');\n",
              "      buttonEl.style.display =\n",
              "        google.colab.kernel.accessAllowed ? 'block' : 'none';\n",
              "\n",
              "      async function convertToInteractive(key) {\n",
              "        const element = document.querySelector('#df-91b59852-b31b-4d07-823c-5ac495b266a0');\n",
              "        const dataTable =\n",
              "          await google.colab.kernel.invokeFunction('convertToInteractive',\n",
              "                                                    [key], {});\n",
              "        if (!dataTable) return;\n",
              "\n",
              "        const docLinkHtml = 'Like what you see? Visit the ' +\n",
              "          '<a target=\"_blank\" href=https://colab.research.google.com/notebooks/data_table.ipynb>data table notebook</a>'\n",
              "          + ' to learn more about interactive tables.';\n",
              "        element.innerHTML = '';\n",
              "        dataTable['output_type'] = 'display_data';\n",
              "        await google.colab.output.renderOutput(dataTable, element);\n",
              "        const docLink = document.createElement('div');\n",
              "        docLink.innerHTML = docLinkHtml;\n",
              "        element.appendChild(docLink);\n",
              "      }\n",
              "    </script>\n",
              "  </div>\n",
              "\n",
              "\n",
              "<div id=\"df-50d6038f-1273-4799-89da-aff0435d249e\">\n",
              "  <button class=\"colab-df-quickchart\" onclick=\"quickchart('df-50d6038f-1273-4799-89da-aff0435d249e')\"\n",
              "            title=\"Suggest charts\"\n",
              "            style=\"display:none;\">\n",
              "\n",
              "<svg xmlns=\"http://www.w3.org/2000/svg\" height=\"24px\"viewBox=\"0 0 24 24\"\n",
              "     width=\"24px\">\n",
              "    <g>\n",
              "        <path d=\"M19 3H5c-1.1 0-2 .9-2 2v14c0 1.1.9 2 2 2h14c1.1 0 2-.9 2-2V5c0-1.1-.9-2-2-2zM9 17H7v-7h2v7zm4 0h-2V7h2v10zm4 0h-2v-4h2v4z\"/>\n",
              "    </g>\n",
              "</svg>\n",
              "  </button>\n",
              "\n",
              "<style>\n",
              "  .colab-df-quickchart {\n",
              "      --bg-color: #E8F0FE;\n",
              "      --fill-color: #1967D2;\n",
              "      --hover-bg-color: #E2EBFA;\n",
              "      --hover-fill-color: #174EA6;\n",
              "      --disabled-fill-color: #AAA;\n",
              "      --disabled-bg-color: #DDD;\n",
              "  }\n",
              "\n",
              "  [theme=dark] .colab-df-quickchart {\n",
              "      --bg-color: #3B4455;\n",
              "      --fill-color: #D2E3FC;\n",
              "      --hover-bg-color: #434B5C;\n",
              "      --hover-fill-color: #FFFFFF;\n",
              "      --disabled-bg-color: #3B4455;\n",
              "      --disabled-fill-color: #666;\n",
              "  }\n",
              "\n",
              "  .colab-df-quickchart {\n",
              "    background-color: var(--bg-color);\n",
              "    border: none;\n",
              "    border-radius: 50%;\n",
              "    cursor: pointer;\n",
              "    display: none;\n",
              "    fill: var(--fill-color);\n",
              "    height: 32px;\n",
              "    padding: 0;\n",
              "    width: 32px;\n",
              "  }\n",
              "\n",
              "  .colab-df-quickchart:hover {\n",
              "    background-color: var(--hover-bg-color);\n",
              "    box-shadow: 0 1px 2px rgba(60, 64, 67, 0.3), 0 1px 3px 1px rgba(60, 64, 67, 0.15);\n",
              "    fill: var(--button-hover-fill-color);\n",
              "  }\n",
              "\n",
              "  .colab-df-quickchart-complete:disabled,\n",
              "  .colab-df-quickchart-complete:disabled:hover {\n",
              "    background-color: var(--disabled-bg-color);\n",
              "    fill: var(--disabled-fill-color);\n",
              "    box-shadow: none;\n",
              "  }\n",
              "\n",
              "  .colab-df-spinner {\n",
              "    border: 2px solid var(--fill-color);\n",
              "    border-color: transparent;\n",
              "    border-bottom-color: var(--fill-color);\n",
              "    animation:\n",
              "      spin 1s steps(1) infinite;\n",
              "  }\n",
              "\n",
              "  @keyframes spin {\n",
              "    0% {\n",
              "      border-color: transparent;\n",
              "      border-bottom-color: var(--fill-color);\n",
              "      border-left-color: var(--fill-color);\n",
              "    }\n",
              "    20% {\n",
              "      border-color: transparent;\n",
              "      border-left-color: var(--fill-color);\n",
              "      border-top-color: var(--fill-color);\n",
              "    }\n",
              "    30% {\n",
              "      border-color: transparent;\n",
              "      border-left-color: var(--fill-color);\n",
              "      border-top-color: var(--fill-color);\n",
              "      border-right-color: var(--fill-color);\n",
              "    }\n",
              "    40% {\n",
              "      border-color: transparent;\n",
              "      border-right-color: var(--fill-color);\n",
              "      border-top-color: var(--fill-color);\n",
              "    }\n",
              "    60% {\n",
              "      border-color: transparent;\n",
              "      border-right-color: var(--fill-color);\n",
              "    }\n",
              "    80% {\n",
              "      border-color: transparent;\n",
              "      border-right-color: var(--fill-color);\n",
              "      border-bottom-color: var(--fill-color);\n",
              "    }\n",
              "    90% {\n",
              "      border-color: transparent;\n",
              "      border-bottom-color: var(--fill-color);\n",
              "    }\n",
              "  }\n",
              "</style>\n",
              "\n",
              "  <script>\n",
              "    async function quickchart(key) {\n",
              "      const quickchartButtonEl =\n",
              "        document.querySelector('#' + key + ' button');\n",
              "      quickchartButtonEl.disabled = true;  // To prevent multiple clicks.\n",
              "      quickchartButtonEl.classList.add('colab-df-spinner');\n",
              "      try {\n",
              "        const charts = await google.colab.kernel.invokeFunction(\n",
              "            'suggestCharts', [key], {});\n",
              "      } catch (error) {\n",
              "        console.error('Error during call to suggestCharts:', error);\n",
              "      }\n",
              "      quickchartButtonEl.classList.remove('colab-df-spinner');\n",
              "      quickchartButtonEl.classList.add('colab-df-quickchart-complete');\n",
              "    }\n",
              "    (() => {\n",
              "      let quickchartButtonEl =\n",
              "        document.querySelector('#df-50d6038f-1273-4799-89da-aff0435d249e button');\n",
              "      quickchartButtonEl.style.display =\n",
              "        google.colab.kernel.accessAllowed ? 'block' : 'none';\n",
              "    })();\n",
              "  </script>\n",
              "</div>\n",
              "\n",
              "    </div>\n",
              "  </div>\n"
            ],
            "text/plain": [
              "    timestamp    open      high       low   close  adjusted_close   volume  \\\n",
              "0  2024-06-17  669.11  682.7099  665.1101  675.83          675.83  3631184   \n",
              "1  2024-06-14  655.05  675.5800  652.6400  669.38          669.38  4447116   \n",
              "2  2024-06-13  644.00  655.2500  642.3500  653.26          653.26  1863587   \n",
              "3  2024-06-12  652.21  655.7800  643.1100  650.06          650.06  2094381   \n",
              "4  2024-06-11  640.72  650.1900  640.5200  648.55          648.55  2167417   \n",
              "\n",
              "   dividend_amount  split_coefficient  \n",
              "0                0                1.0  \n",
              "1                0                1.0  \n",
              "2                0                1.0  \n",
              "3                0                1.0  \n",
              "4                0                1.0  "
            ]
          },
          "execution_count": 13,
          "metadata": {},
          "output_type": "execute_result"
        }
      ],
      "source": [
        "from pandas import DataFrame\n",
        "\n",
        "df = DataFrame(records)\n",
        "df.head()"
      ]
    },
    {
      "cell_type": "markdown",
      "metadata": {
        "id": "wHE5tJrHW9md"
      },
      "source": [
        "## Helper Functions"
      ]
    },
    {
      "cell_type": "markdown",
      "metadata": {
        "id": "qMZXZwBDW_lU"
      },
      "source": [
        "Here are some functions to help you more easily interface with the `gspread` package.\n",
        "\n",
        "Feel free to copy and adapt these helper functions to suit your own needs, as desired."
      ]
    },
    {
      "cell_type": "markdown",
      "metadata": {
        "id": "rNjXv65rXLKi"
      },
      "source": [
        "### Find or Create Sheet"
      ]
    },
    {
      "cell_type": "markdown",
      "metadata": {
        "id": "vKfNjWHgSAUo"
      },
      "source": [
        "Helper function to find or create a given sheet:"
      ]
    },
    {
      "cell_type": "code",
      "execution_count": null,
      "metadata": {
        "id": "75JFRlm6R_1u"
      },
      "outputs": [],
      "source": [
        "from gspread.exceptions import WorksheetNotFound\n",
        "\n",
        "\n",
        "def find_or_create_sheet(sheet_name, doc=doc):\n",
        "    \"\"\"Access a sheet within the document, or create if not exists.\n",
        "\n",
        "    Params:\n",
        "        sheet_name (str): name of the sheet to access or create.\n",
        "\n",
        "        doc (gspread.Spreadsheet): Google Sheets document object.\n",
        "\n",
        "    Returns:\n",
        "        gspread.Worksheet: sheet object\n",
        "    \"\"\"\n",
        "    try:\n",
        "        sheet = doc.worksheet(sheet_name)\n",
        "    except WorksheetNotFound:\n",
        "        print(\"CREATING NEW SHEET...\")\n",
        "        sheet = doc.add_worksheet(title=sheet_name, rows=\"10\", cols=\"10\")\n",
        "    return sheet\n"
      ]
    },
    {
      "cell_type": "markdown",
      "metadata": {
        "id": "M8jihqHhSEYT"
      },
      "source": [
        "Using the function to create a new sheet:"
      ]
    },
    {
      "cell_type": "code",
      "execution_count": 24,
      "metadata": {
        "colab": {
          "base_uri": "https://localhost:8080/"
        },
        "id": "J2PskC8wW-7R",
        "outputId": "682313a7-ae5e-4c95-b8bd-c0c2b46ea3da"
      },
      "outputs": [
        {
          "name": "stdout",
          "output_type": "stream",
          "text": [
            "CREATING NEW SHEET...\n",
            "SHEET: <class 'gspread.worksheet.Worksheet'>\n",
            "teams-sheet\n"
          ]
        }
      ],
      "source": [
        "teams_sheet = find_or_create_sheet(\"teams-sheet\")\n",
        "print(\"SHEET:\", type(teams_sheet))\n",
        "print(teams_sheet.title)"
      ]
    },
    {
      "cell_type": "markdown",
      "metadata": {
        "id": "odUgGaPG4ROG"
      },
      "source": [
        "### Writing Data to the Sheet"
      ]
    },
    {
      "cell_type": "markdown",
      "metadata": {
        "id": "QHiyinEyAG40"
      },
      "source": [
        "Helper function for writing data:"
      ]
    },
    {
      "cell_type": "code",
      "execution_count": null,
      "metadata": {
        "id": "EF2_4h-IAApq"
      },
      "outputs": [],
      "source": [
        "def write_data_to_sheet(data, sheet):\n",
        "    \"\"\"Writes a list of dictionaries to a given sheet.\n",
        "\n",
        "    Infers the column names from the dictionary keys.\n",
        "\n",
        "    Params:\n",
        "        data (list): list of dictionaries you would like to write to sheet.\n",
        "\n",
        "        sheet (gspread.Worksheet): sheet object you would like to write to.\n",
        "    \"\"\"\n",
        "    # get column names from the first dictionary:\n",
        "    header_row = list(data[0].keys())\n",
        "    # convert dictionaries to lists of just the cell values:\n",
        "    rows = [list(d.values()) for d in data]\n",
        "    # assemble a single list of lists:\n",
        "    all_rows = [header_row] + rows\n",
        "\n",
        "    # clear sheet contents:\n",
        "    sheet.clear()\n",
        "    # write new contents to the sheet:\n",
        "    sheet.update(all_rows)\n"
      ]
    },
    {
      "cell_type": "markdown",
      "metadata": {
        "id": "bH8THmkRAC2-"
      },
      "source": [
        "Using the function to write data:"
      ]
    },
    {
      "cell_type": "code",
      "execution_count": 25,
      "metadata": {
        "id": "CdqIC8vh-jBn"
      },
      "outputs": [],
      "source": [
        "teams = [\n",
        "    {\"city\": \"New York\", \"name\": \"Yankees\"},\n",
        "    {\"city\": \"New York\", \"name\": \"Mets\"},\n",
        "    {\"city\": \"Boston\", \"name\": \"Red Sox\"},\n",
        "    {\"city\": \"New Haven\", \"name\": \"Ravens\"}\n",
        "]\n",
        "write_data_to_sheet(teams, teams_sheet)"
      ]
    },
    {
      "cell_type": "markdown",
      "metadata": {
        "id": "y1hXlsHx_6qN"
      },
      "source": [
        "Verifying the data has been written:"
      ]
    },
    {
      "cell_type": "code",
      "execution_count": 26,
      "metadata": {
        "colab": {
          "base_uri": "https://localhost:8080/"
        },
        "id": "thmXgJ3P_4zP",
        "outputId": "e13448b2-8a57-4d58-fbc8-661e36809f12"
      },
      "outputs": [
        {
          "data": {
            "text/plain": [
              "[{'city': 'New York', 'name': 'Yankees'},\n",
              " {'city': 'New York', 'name': 'Mets'},\n",
              " {'city': 'Boston', 'name': 'Red Sox'},\n",
              " {'city': 'New Haven', 'name': 'Ravens'}]"
            ]
          },
          "execution_count": 26,
          "metadata": {},
          "output_type": "execute_result"
        }
      ],
      "source": [
        "teams_sheet.get_all_records()"
      ]
    },
    {
      "cell_type": "markdown",
      "metadata": {
        "id": "4qfNygdXXouQ"
      },
      "source": [
        "### Writing a Dataframe to the Sheet"
      ]
    },
    {
      "cell_type": "markdown",
      "metadata": {
        "id": "eGTFbW1vAOd5"
      },
      "source": [
        "Helper function for writing a `pandas.DataFrame` object to a sheet:"
      ]
    },
    {
      "cell_type": "code",
      "execution_count": 28,
      "metadata": {
        "id": "AtKttsA2XsGx"
      },
      "outputs": [],
      "source": [
        "def write_dataframe_to_sheet(df, sheet):\n",
        "    \"\"\"Write dataframe contents to a given sheet.\n",
        "\n",
        "    Params:\n",
        "        df (pandas.DataFrame): dataframe you would like to write to sheet.\n",
        "\n",
        "        sheet (gspread.Worksheet): sheet object you would like to write to.\n",
        "    \"\"\"\n",
        "    # get column names:\n",
        "    header_row = df.columns.tolist()\n",
        "    # get row values:\n",
        "    rows = df.values.tolist()\n",
        "    # single object with column names and row values:\n",
        "    all_rows = [header_row] + rows\n",
        "\n",
        "    # clear current contents of the sheet:\n",
        "    sheet.clear()\n",
        "    # write new contents to the sheet:\n",
        "    sheet.update(all_rows)\n"
      ]
    },
    {
      "cell_type": "markdown",
      "metadata": {
        "id": "4I9y-vNhAwcR"
      },
      "source": [
        "Creating a new dataframe:"
      ]
    },
    {
      "cell_type": "code",
      "execution_count": 29,
      "metadata": {
        "colab": {
          "base_uri": "https://localhost:8080/",
          "height": 175
        },
        "id": "odfLZLR0AjBT",
        "outputId": "f22dbb03-3474-487e-e125-e40a0851f299"
      },
      "outputs": [
        {
          "data": {
            "application/vnd.google.colaboratory.intrinsic+json": {
              "summary": "{\n  \"name\": \"teams_df\",\n  \"rows\": 4,\n  \"fields\": [\n    {\n      \"column\": \"city\",\n      \"properties\": {\n        \"dtype\": \"string\",\n        \"num_unique_values\": 3,\n        \"samples\": [\n          \"New York\",\n          \"Boston\",\n          \"New Haven\"\n        ],\n        \"semantic_type\": \"\",\n        \"description\": \"\"\n      }\n    },\n    {\n      \"column\": \"name\",\n      \"properties\": {\n        \"dtype\": \"string\",\n        \"num_unique_values\": 4,\n        \"samples\": [\n          \"Mets\",\n          \"Ravens\",\n          \"Yankees\"\n        ],\n        \"semantic_type\": \"\",\n        \"description\": \"\"\n      }\n    }\n  ]\n}",
              "type": "dataframe",
              "variable_name": "teams_df"
            },
            "text/html": [
              "\n",
              "  <div id=\"df-53c4b9ff-9b9a-4408-b5a1-07b0c018b697\" class=\"colab-df-container\">\n",
              "    <div>\n",
              "<style scoped>\n",
              "    .dataframe tbody tr th:only-of-type {\n",
              "        vertical-align: middle;\n",
              "    }\n",
              "\n",
              "    .dataframe tbody tr th {\n",
              "        vertical-align: top;\n",
              "    }\n",
              "\n",
              "    .dataframe thead th {\n",
              "        text-align: right;\n",
              "    }\n",
              "</style>\n",
              "<table border=\"1\" class=\"dataframe\">\n",
              "  <thead>\n",
              "    <tr style=\"text-align: right;\">\n",
              "      <th></th>\n",
              "      <th>city</th>\n",
              "      <th>name</th>\n",
              "    </tr>\n",
              "  </thead>\n",
              "  <tbody>\n",
              "    <tr>\n",
              "      <th>0</th>\n",
              "      <td>New York</td>\n",
              "      <td>Yankees</td>\n",
              "    </tr>\n",
              "    <tr>\n",
              "      <th>1</th>\n",
              "      <td>New York</td>\n",
              "      <td>Mets</td>\n",
              "    </tr>\n",
              "    <tr>\n",
              "      <th>2</th>\n",
              "      <td>Boston</td>\n",
              "      <td>Red Sox</td>\n",
              "    </tr>\n",
              "    <tr>\n",
              "      <th>3</th>\n",
              "      <td>New Haven</td>\n",
              "      <td>Ravens</td>\n",
              "    </tr>\n",
              "  </tbody>\n",
              "</table>\n",
              "</div>\n",
              "    <div class=\"colab-df-buttons\">\n",
              "\n",
              "  <div class=\"colab-df-container\">\n",
              "    <button class=\"colab-df-convert\" onclick=\"convertToInteractive('df-53c4b9ff-9b9a-4408-b5a1-07b0c018b697')\"\n",
              "            title=\"Convert this dataframe to an interactive table.\"\n",
              "            style=\"display:none;\">\n",
              "\n",
              "  <svg xmlns=\"http://www.w3.org/2000/svg\" height=\"24px\" viewBox=\"0 -960 960 960\">\n",
              "    <path d=\"M120-120v-720h720v720H120Zm60-500h600v-160H180v160Zm220 220h160v-160H400v160Zm0 220h160v-160H400v160ZM180-400h160v-160H180v160Zm440 0h160v-160H620v160ZM180-180h160v-160H180v160Zm440 0h160v-160H620v160Z\"/>\n",
              "  </svg>\n",
              "    </button>\n",
              "\n",
              "  <style>\n",
              "    .colab-df-container {\n",
              "      display:flex;\n",
              "      gap: 12px;\n",
              "    }\n",
              "\n",
              "    .colab-df-convert {\n",
              "      background-color: #E8F0FE;\n",
              "      border: none;\n",
              "      border-radius: 50%;\n",
              "      cursor: pointer;\n",
              "      display: none;\n",
              "      fill: #1967D2;\n",
              "      height: 32px;\n",
              "      padding: 0 0 0 0;\n",
              "      width: 32px;\n",
              "    }\n",
              "\n",
              "    .colab-df-convert:hover {\n",
              "      background-color: #E2EBFA;\n",
              "      box-shadow: 0px 1px 2px rgba(60, 64, 67, 0.3), 0px 1px 3px 1px rgba(60, 64, 67, 0.15);\n",
              "      fill: #174EA6;\n",
              "    }\n",
              "\n",
              "    .colab-df-buttons div {\n",
              "      margin-bottom: 4px;\n",
              "    }\n",
              "\n",
              "    [theme=dark] .colab-df-convert {\n",
              "      background-color: #3B4455;\n",
              "      fill: #D2E3FC;\n",
              "    }\n",
              "\n",
              "    [theme=dark] .colab-df-convert:hover {\n",
              "      background-color: #434B5C;\n",
              "      box-shadow: 0px 1px 3px 1px rgba(0, 0, 0, 0.15);\n",
              "      filter: drop-shadow(0px 1px 2px rgba(0, 0, 0, 0.3));\n",
              "      fill: #FFFFFF;\n",
              "    }\n",
              "  </style>\n",
              "\n",
              "    <script>\n",
              "      const buttonEl =\n",
              "        document.querySelector('#df-53c4b9ff-9b9a-4408-b5a1-07b0c018b697 button.colab-df-convert');\n",
              "      buttonEl.style.display =\n",
              "        google.colab.kernel.accessAllowed ? 'block' : 'none';\n",
              "\n",
              "      async function convertToInteractive(key) {\n",
              "        const element = document.querySelector('#df-53c4b9ff-9b9a-4408-b5a1-07b0c018b697');\n",
              "        const dataTable =\n",
              "          await google.colab.kernel.invokeFunction('convertToInteractive',\n",
              "                                                    [key], {});\n",
              "        if (!dataTable) return;\n",
              "\n",
              "        const docLinkHtml = 'Like what you see? Visit the ' +\n",
              "          '<a target=\"_blank\" href=https://colab.research.google.com/notebooks/data_table.ipynb>data table notebook</a>'\n",
              "          + ' to learn more about interactive tables.';\n",
              "        element.innerHTML = '';\n",
              "        dataTable['output_type'] = 'display_data';\n",
              "        await google.colab.output.renderOutput(dataTable, element);\n",
              "        const docLink = document.createElement('div');\n",
              "        docLink.innerHTML = docLinkHtml;\n",
              "        element.appendChild(docLink);\n",
              "      }\n",
              "    </script>\n",
              "  </div>\n",
              "\n",
              "\n",
              "    <div id=\"df-ff9bd0fd-d753-44a9-b979-8089cb784888\">\n",
              "      <button class=\"colab-df-quickchart\" onclick=\"quickchart('df-ff9bd0fd-d753-44a9-b979-8089cb784888')\"\n",
              "                title=\"Suggest charts\"\n",
              "                style=\"display:none;\">\n",
              "\n",
              "<svg xmlns=\"http://www.w3.org/2000/svg\" height=\"24px\"viewBox=\"0 0 24 24\"\n",
              "     width=\"24px\">\n",
              "    <g>\n",
              "        <path d=\"M19 3H5c-1.1 0-2 .9-2 2v14c0 1.1.9 2 2 2h14c1.1 0 2-.9 2-2V5c0-1.1-.9-2-2-2zM9 17H7v-7h2v7zm4 0h-2V7h2v10zm4 0h-2v-4h2v4z\"/>\n",
              "    </g>\n",
              "</svg>\n",
              "      </button>\n",
              "\n",
              "<style>\n",
              "  .colab-df-quickchart {\n",
              "      --bg-color: #E8F0FE;\n",
              "      --fill-color: #1967D2;\n",
              "      --hover-bg-color: #E2EBFA;\n",
              "      --hover-fill-color: #174EA6;\n",
              "      --disabled-fill-color: #AAA;\n",
              "      --disabled-bg-color: #DDD;\n",
              "  }\n",
              "\n",
              "  [theme=dark] .colab-df-quickchart {\n",
              "      --bg-color: #3B4455;\n",
              "      --fill-color: #D2E3FC;\n",
              "      --hover-bg-color: #434B5C;\n",
              "      --hover-fill-color: #FFFFFF;\n",
              "      --disabled-bg-color: #3B4455;\n",
              "      --disabled-fill-color: #666;\n",
              "  }\n",
              "\n",
              "  .colab-df-quickchart {\n",
              "    background-color: var(--bg-color);\n",
              "    border: none;\n",
              "    border-radius: 50%;\n",
              "    cursor: pointer;\n",
              "    display: none;\n",
              "    fill: var(--fill-color);\n",
              "    height: 32px;\n",
              "    padding: 0;\n",
              "    width: 32px;\n",
              "  }\n",
              "\n",
              "  .colab-df-quickchart:hover {\n",
              "    background-color: var(--hover-bg-color);\n",
              "    box-shadow: 0 1px 2px rgba(60, 64, 67, 0.3), 0 1px 3px 1px rgba(60, 64, 67, 0.15);\n",
              "    fill: var(--button-hover-fill-color);\n",
              "  }\n",
              "\n",
              "  .colab-df-quickchart-complete:disabled,\n",
              "  .colab-df-quickchart-complete:disabled:hover {\n",
              "    background-color: var(--disabled-bg-color);\n",
              "    fill: var(--disabled-fill-color);\n",
              "    box-shadow: none;\n",
              "  }\n",
              "\n",
              "  .colab-df-spinner {\n",
              "    border: 2px solid var(--fill-color);\n",
              "    border-color: transparent;\n",
              "    border-bottom-color: var(--fill-color);\n",
              "    animation:\n",
              "      spin 1s steps(1) infinite;\n",
              "  }\n",
              "\n",
              "  @keyframes spin {\n",
              "    0% {\n",
              "      border-color: transparent;\n",
              "      border-bottom-color: var(--fill-color);\n",
              "      border-left-color: var(--fill-color);\n",
              "    }\n",
              "    20% {\n",
              "      border-color: transparent;\n",
              "      border-left-color: var(--fill-color);\n",
              "      border-top-color: var(--fill-color);\n",
              "    }\n",
              "    30% {\n",
              "      border-color: transparent;\n",
              "      border-left-color: var(--fill-color);\n",
              "      border-top-color: var(--fill-color);\n",
              "      border-right-color: var(--fill-color);\n",
              "    }\n",
              "    40% {\n",
              "      border-color: transparent;\n",
              "      border-right-color: var(--fill-color);\n",
              "      border-top-color: var(--fill-color);\n",
              "    }\n",
              "    60% {\n",
              "      border-color: transparent;\n",
              "      border-right-color: var(--fill-color);\n",
              "    }\n",
              "    80% {\n",
              "      border-color: transparent;\n",
              "      border-right-color: var(--fill-color);\n",
              "      border-bottom-color: var(--fill-color);\n",
              "    }\n",
              "    90% {\n",
              "      border-color: transparent;\n",
              "      border-bottom-color: var(--fill-color);\n",
              "    }\n",
              "  }\n",
              "</style>\n",
              "\n",
              "      <script>\n",
              "        async function quickchart(key) {\n",
              "          const quickchartButtonEl =\n",
              "            document.querySelector('#' + key + ' button');\n",
              "          quickchartButtonEl.disabled = true;  // To prevent multiple clicks.\n",
              "          quickchartButtonEl.classList.add('colab-df-spinner');\n",
              "          try {\n",
              "            const charts = await google.colab.kernel.invokeFunction(\n",
              "                'suggestCharts', [key], {});\n",
              "          } catch (error) {\n",
              "            console.error('Error during call to suggestCharts:', error);\n",
              "          }\n",
              "          quickchartButtonEl.classList.remove('colab-df-spinner');\n",
              "          quickchartButtonEl.classList.add('colab-df-quickchart-complete');\n",
              "        }\n",
              "        (() => {\n",
              "          let quickchartButtonEl =\n",
              "            document.querySelector('#df-ff9bd0fd-d753-44a9-b979-8089cb784888 button');\n",
              "          quickchartButtonEl.style.display =\n",
              "            google.colab.kernel.accessAllowed ? 'block' : 'none';\n",
              "        })();\n",
              "      </script>\n",
              "    </div>\n",
              "\n",
              "    </div>\n",
              "  </div>\n"
            ],
            "text/plain": [
              "        city     name\n",
              "0   New York  Yankees\n",
              "1   New York     Mets\n",
              "2     Boston  Red Sox\n",
              "3  New Haven   Ravens"
            ]
          },
          "execution_count": 29,
          "metadata": {},
          "output_type": "execute_result"
        }
      ],
      "source": [
        "from pandas import DataFrame\n",
        "\n",
        "teams_df = DataFrame(teams)\n",
        "teams_df.head()"
      ]
    },
    {
      "cell_type": "markdown",
      "metadata": {
        "id": "81csvOXUAuiB"
      },
      "source": [
        "Using the function to write the data:"
      ]
    },
    {
      "cell_type": "code",
      "execution_count": 31,
      "metadata": {
        "id": "0DMBdq_sAt4N"
      },
      "outputs": [],
      "source": [
        "write_dataframe_to_sheet(teams_df, teams_sheet)"
      ]
    },
    {
      "cell_type": "markdown",
      "metadata": {
        "id": "pqXYmNiWZWRJ"
      },
      "source": [
        "Verifying the data got written:\n"
      ]
    },
    {
      "cell_type": "code",
      "execution_count": 32,
      "metadata": {
        "colab": {
          "base_uri": "https://localhost:8080/"
        },
        "id": "NKIuS1MWZa22",
        "outputId": "05acd187-fd18-4d97-a895-d3a1eed657b4"
      },
      "outputs": [
        {
          "data": {
            "text/plain": [
              "[{'city': 'New York', 'name': 'Yankees'},\n",
              " {'city': 'New York', 'name': 'Mets'},\n",
              " {'city': 'Boston', 'name': 'Red Sox'},\n",
              " {'city': 'New Haven', 'name': 'Ravens'}]"
            ]
          },
          "execution_count": 32,
          "metadata": {},
          "output_type": "execute_result"
        }
      ],
      "source": [
        "teams_sheet.get_all_records()"
      ]
    }
  ],
  "metadata": {
    "colab": {
      "provenance": [],
      "toc_visible": true
    },
    "kernelspec": {
      "display_name": "Python 3",
      "name": "python3"
    },
    "language_info": {
      "name": "python"
    }
  },
  "nbformat": 4,
  "nbformat_minor": 0
}
